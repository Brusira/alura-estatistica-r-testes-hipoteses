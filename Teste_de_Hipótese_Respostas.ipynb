{
  "metadata": {
    "colab": {
      "provenance": []
    },
    "kernelspec": {
      "name": "ir",
      "display_name": "R",
      "language": "R"
    },
    "language_info": {
      "name": "R",
      "codemirror_mode": "r",
      "pygments_lexer": "r",
      "mimetype": "text/x-r-source",
      "file_extension": ".r",
      "version": "4.4.0"
    },
    "kaggle": {
      "accelerator": "none",
      "dataSources": [
        {
          "sourceId": 9068883,
          "sourceType": "datasetVersion",
          "datasetId": 5469981
        },
        {
          "sourceId": 9077517,
          "sourceType": "datasetVersion",
          "datasetId": 5476238
        }
      ],
      "dockerImageVersionId": 30749,
      "isInternetEnabled": false,
      "language": "r",
      "sourceType": "notebook",
      "isGpuEnabled": false
    }
  },
  "nbformat_minor": 0,
  "nbformat": 4,
  "cells": [
    {
      "cell_type": "markdown",
      "source": [
        "# <font color=green size=10>CURSO DE ESTATÍSTICA - PARTE 3</font>\n",
        "\n",
        "***\n",
        "\n",
        "## Trabalho sobre testes de hipóteses\n",
        "\n",
        "Utilizando os conhecimentos adquiridos em nosso treinamento realize o teste de hipóteses proposto abaixo.\n",
        "\n",
        "Siga o roteiro proposto e vá completando as células vazias. Procure pensar em mais testes interessantes que podem ser realizados com o nosso dataset."
      ],
      "metadata": {
        "id": "WvMflodMjQKe"
      }
    },
    {
      "cell_type": "markdown",
      "source": [
        "***"
      ],
      "metadata": {
        "id": "ZIqLOffNTg1Y"
      }
    },
    {
      "cell_type": "markdown",
      "source": [
        "## <font color='red'>Problema</font>"
      ],
      "metadata": {
        "id": "lmAJLIu8pslb"
      }
    },
    {
      "cell_type": "markdown",
      "source": [
        "Você é um pesquisador que estuda o mercado de trabalho brasileiro e resolve estudar as diferenças salariais dos trabalhadores dos estados do Rio de Janeiro e de São Paulo. Durante sua pesquisa você verifica que, aparentemente, os rendimentos dos trabalhadores no estado do Rio de Janeiro são mais baixos que os rendimentos dos trabalhadores no estado de São Paulo. Para confirmar esta conclusão realize um teste de hipótese de comparação de médias em cima de duas amostras de trabalhadores dos dois estados. Siga as seguintes etapas:\n",
        "\n",
        "- Utilize o *dataset* 'dados_proj.csv' para rodar o teste. Este *dataset* tem uma amostra de **tamanho 500** dos rendimentos dos trabalhadores dos dois estados (RJ e SP).\n",
        "- Considere o **nível de significância de 5%**.\n",
        "- Teste a hipótese de que a **renda média dos trabalhadores do Rio de Janeiro é menor que a renda média dos trabalhadores de São Paulo**."
      ],
      "metadata": {
        "id": "0zUUY8klpslc"
      }
    },
    {
      "cell_type": "markdown",
      "source": [
        "---"
      ],
      "metadata": {
        "id": "WUknTBZgpslc"
      }
    },
    {
      "cell_type": "markdown",
      "source": [
        "### Importando o *dataset* 'dados_proj.csv'\n",
        "\n",
        "O *dataset* apresenta duas variáveis: **Renda_RJ** e **Renda_SP**."
      ],
      "metadata": {
        "id": "xzGuwM4xpslc"
      }
    },
    {
      "cell_type": "code",
      "source": [
        "dados <- read.csv('/kaggle/input/dados-proj/dados_proj.csv')"
      ],
      "metadata": {
        "execution": {
          "iopub.status.busy": "2024-07-31T21:22:17.926247Z",
          "iopub.execute_input": "2024-07-31T21:22:17.940509Z",
          "iopub.status.idle": "2024-07-31T21:22:17.978755Z"
        },
        "trusted": true,
        "id": "WPVrU-My5YKX"
      },
      "execution_count": null,
      "outputs": []
    },
    {
      "cell_type": "code",
      "source": [
        "head(dados)"
      ],
      "metadata": {
        "execution": {
          "iopub.status.busy": "2024-07-31T21:22:17.981453Z",
          "iopub.execute_input": "2024-07-31T21:22:18.015308Z",
          "iopub.status.idle": "2024-07-31T21:22:18.048194Z"
        },
        "trusted": true,
        "id": "Qwkb026G5YKb",
        "outputId": "e85afc05-5cf0-410e-ca2a-a031f0ca2273"
      },
      "execution_count": null,
      "outputs": [
        {
          "output_type": "display_data",
          "data": {
            "text/html": "<table class=\"dataframe\">\n<caption>A data.frame: 6 × 2</caption>\n<thead>\n\t<tr><th></th><th scope=col>Renda_RJ</th><th scope=col>Renda_SP</th></tr>\n\t<tr><th></th><th scope=col>&lt;int&gt;</th><th scope=col>&lt;int&gt;</th></tr>\n</thead>\n<tbody>\n\t<tr><th scope=row>1</th><td> 1300</td><td> 1800</td></tr>\n\t<tr><th scope=row>2</th><td>35000</td><td>  700</td></tr>\n\t<tr><th scope=row>3</th><td> 1300</td><td> 8000</td></tr>\n\t<tr><th scope=row>4</th><td> 2364</td><td> 1800</td></tr>\n\t<tr><th scope=row>5</th><td> 1500</td><td> 2364</td></tr>\n\t<tr><th scope=row>6</th><td> 2500</td><td>11000</td></tr>\n</tbody>\n</table>\n",
            "text/markdown": "\nA data.frame: 6 × 2\n\n| <!--/--> | Renda_RJ &lt;int&gt; | Renda_SP &lt;int&gt; |\n|---|---|---|\n| 1 |  1300 |  1800 |\n| 2 | 35000 |   700 |\n| 3 |  1300 |  8000 |\n| 4 |  2364 |  1800 |\n| 5 |  1500 |  2364 |\n| 6 |  2500 | 11000 |\n\n",
            "text/latex": "A data.frame: 6 × 2\n\\begin{tabular}{r|ll}\n  & Renda\\_RJ & Renda\\_SP\\\\\n  & <int> & <int>\\\\\n\\hline\n\t1 &  1300 &  1800\\\\\n\t2 & 35000 &   700\\\\\n\t3 &  1300 &  8000\\\\\n\t4 &  2364 &  1800\\\\\n\t5 &  1500 &  2364\\\\\n\t6 &  2500 & 11000\\\\\n\\end{tabular}\n",
            "text/plain": "  Renda_RJ Renda_SP\n1  1300     1800   \n2 35000      700   \n3  1300     8000   \n4  2364     1800   \n5  1500     2364   \n6  2500    11000   "
          },
          "metadata": {}
        }
      ]
    },
    {
      "cell_type": "markdown",
      "source": [
        "### Dados do problema\n",
        "Obter média e desvio-padrão para as duas amostras"
      ],
      "metadata": {
        "id": "FOFa-cHwpslg"
      }
    },
    {
      "cell_type": "code",
      "source": [
        "media_amostra_rj <- mean(dados$Renda_RJ)\n",
        "media_amostra_rj"
      ],
      "metadata": {
        "colab": {
          "base_uri": "https://localhost:8080/",
          "height": 35
        },
        "id": "BGyXCbompslh",
        "outputId": "bdfd1e09-fc68-49a1-a440-bf0d7b34c918",
        "execution": {
          "iopub.status.busy": "2024-07-31T21:22:18.050938Z",
          "iopub.execute_input": "2024-07-31T21:22:18.052385Z",
          "iopub.status.idle": "2024-07-31T21:22:18.069401Z"
        },
        "trusted": true
      },
      "execution_count": null,
      "outputs": [
        {
          "output_type": "display_data",
          "data": {
            "text/html": "2240.518",
            "text/markdown": "2240.518",
            "text/latex": "2240.518",
            "text/plain": "[1] 2240.518"
          },
          "metadata": {}
        }
      ]
    },
    {
      "cell_type": "code",
      "source": [
        "desvio_padrao_amostra_rj <-sd(dados$Renda_RJ)\n",
        "desvio_padrao_amostra_rj"
      ],
      "metadata": {
        "colab": {
          "base_uri": "https://localhost:8080/",
          "height": 35
        },
        "id": "RoxFOCA3pslk",
        "outputId": "f17f8f80-9e2e-40be-b501-3e4c68372cce",
        "execution": {
          "iopub.status.busy": "2024-07-31T21:22:18.072263Z",
          "iopub.execute_input": "2024-07-31T21:22:18.073697Z",
          "iopub.status.idle": "2024-07-31T21:22:18.089576Z"
        },
        "trusted": true
      },
      "execution_count": null,
      "outputs": [
        {
          "output_type": "display_data",
          "data": {
            "text/html": "4643.83616186796",
            "text/markdown": "4643.83616186796",
            "text/latex": "4643.83616186796",
            "text/plain": "[1] 4643.836"
          },
          "metadata": {}
        }
      ]
    },
    {
      "cell_type": "code",
      "source": [
        "media_amostra_sp <- mean(dados$Renda_SP)\n",
        "media_amostra_sp"
      ],
      "metadata": {
        "colab": {
          "base_uri": "https://localhost:8080/",
          "height": 35
        },
        "id": "Of8L6Hygpsll",
        "outputId": "b3d0901d-2379-4808-f3cb-a41368c1264d",
        "execution": {
          "iopub.status.busy": "2024-07-31T21:22:18.092230Z",
          "iopub.execute_input": "2024-07-31T21:22:18.093642Z",
          "iopub.status.idle": "2024-07-31T21:22:18.109245Z"
        },
        "trusted": true
      },
      "execution_count": null,
      "outputs": [
        {
          "output_type": "display_data",
          "data": {
            "text/html": "2839.352",
            "text/markdown": "2839.352",
            "text/latex": "2839.352",
            "text/plain": "[1] 2839.352"
          },
          "metadata": {}
        }
      ]
    },
    {
      "cell_type": "code",
      "source": [
        "desvio_padrao_amostra_sp <- sd(dados$Renda_SP)\n",
        "desvio_padrao_amostra_sp"
      ],
      "metadata": {
        "colab": {
          "base_uri": "https://localhost:8080/",
          "height": 35
        },
        "id": "-cSpXXTepsln",
        "outputId": "3466627b-3460-4fda-cb6e-dded783196b5",
        "execution": {
          "iopub.status.busy": "2024-07-31T21:22:18.111909Z",
          "iopub.execute_input": "2024-07-31T21:22:18.113336Z",
          "iopub.status.idle": "2024-07-31T21:22:18.133065Z"
        },
        "trusted": true
      },
      "execution_count": null,
      "outputs": [
        {
          "output_type": "display_data",
          "data": {
            "text/html": "3699.38422543412",
            "text/markdown": "3699.38422543412",
            "text/latex": "3699.38422543412",
            "text/plain": "[1] 3699.384"
          },
          "metadata": {}
        }
      ]
    },
    {
      "cell_type": "markdown",
      "source": [
        "Variáveis com os dados do problema"
      ],
      "metadata": {
        "id": "_KR3Mmoj5YKj"
      }
    },
    {
      "cell_type": "code",
      "source": [
        "significancia <- 0.05\n",
        "confianca <- 1 - significancia\n",
        "n_rj <- nrow(dados)\n",
        "n_sp <- nrow(dados)\n",
        "D_0 <- 0"
      ],
      "metadata": {
        "id": "Cl7kdxkUpslo",
        "execution": {
          "iopub.status.busy": "2024-07-31T21:22:18.135746Z",
          "iopub.execute_input": "2024-07-31T21:22:18.137159Z",
          "iopub.status.idle": "2024-07-31T21:22:18.155221Z"
        },
        "trusted": true
      },
      "execution_count": null,
      "outputs": []
    },
    {
      "cell_type": "markdown",
      "source": [
        "## Lembre-se..."
      ],
      "metadata": {
        "id": "Kyp6CNssrAmw"
      }
    },
    {
      "cell_type": "markdown",
      "source": [
        "<img src='https://caelum-online-public.s3.amazonaws.com/1229-estatistica-parte3/01/img014.png' width=90%>"
      ],
      "metadata": {
        "id": "xGGMFhzwrAmx"
      }
    },
    {
      "cell_type": "markdown",
      "source": [
        "---"
      ],
      "metadata": {
        "id": "PGoWwWwjpslp"
      }
    },
    {
      "cell_type": "markdown",
      "source": [
        "### **Passo 1** - formulação das hipóteses $H_0$ e $H_1$\n",
        "\n",
        "#### <font color='red'>Lembre-se, a hipótese nula sempre contém a alegação de igualdade</font>"
      ],
      "metadata": {
        "id": "tO597Oxgpslp"
      }
    },
    {
      "cell_type": "markdown",
      "source": [
        "### $\\mu_1 \\Rightarrow$ Rendimento médio no Rio de Janeiro\n",
        "### $\\mu_2 \\Rightarrow$ Rendimento médio em São Paulo\n",
        "\n",
        "### $\n",
        "\\begin{cases}\n",
        "H_0: \\mu_1 \\geq \\mu_2\\\\\n",
        "H_1: \\mu_1 < \\mu_2\n",
        "\\end{cases}\n",
        "$\n",
        "\n",
        "### ou\n",
        "\n",
        "### $\n",
        "\\begin{cases}\n",
        "H_0: \\mu_1 -\\mu_2 \\geq 0\\\\\n",
        "H_1: \\mu_1 -\\mu_2 < 0\n",
        "\\end{cases}\n",
        "$"
      ],
      "metadata": {
        "id": "LysVU-7fpslr"
      }
    },
    {
      "cell_type": "markdown",
      "source": [
        "---"
      ],
      "metadata": {
        "id": "ENKqbCgQpslr"
      }
    },
    {
      "cell_type": "markdown",
      "source": [
        "### **Passo 2** - escolha da distribuição amostral adequada"
      ],
      "metadata": {
        "id": "dBA05Y3Zpslr"
      }
    },
    {
      "cell_type": "markdown",
      "source": [
        "<img src='https://caelum-online-public.s3.amazonaws.com/1229-estatistica-parte3/01/img003.png' width=70%>"
      ],
      "metadata": {
        "id": "Hh5qJPwqPVic"
      }
    },
    {
      "cell_type": "markdown",
      "source": [
        "### O tamanho da amostra é maior que 30?\n",
        "#### Resp.: Sim\n",
        "\n",
        "### O desvio padrão populacional é conhecido?\n",
        "#### Resp.: Não"
      ],
      "metadata": {
        "id": "6_Q_Wtjlpsls"
      }
    },
    {
      "cell_type": "markdown",
      "source": [
        "---"
      ],
      "metadata": {
        "id": "T6sVzVjVpsls"
      }
    },
    {
      "cell_type": "markdown",
      "source": [
        "### **Passo 3** - fixação da significância do teste ($\\alpha$)"
      ],
      "metadata": {
        "id": "SUN4yJqzpsls"
      }
    },
    {
      "cell_type": "code",
      "source": [
        "probabilidade <- significancia\n",
        "probabilidade"
      ],
      "metadata": {
        "colab": {
          "base_uri": "https://localhost:8080/",
          "height": 35
        },
        "id": "b3Y_CZmzpsls",
        "outputId": "e75d68fb-3391-4d1b-d5ea-274f2e2dbe5d",
        "execution": {
          "iopub.status.busy": "2024-07-31T21:22:18.157993Z",
          "iopub.execute_input": "2024-07-31T21:22:18.159423Z",
          "iopub.status.idle": "2024-07-31T21:22:18.178703Z"
        },
        "trusted": true
      },
      "execution_count": null,
      "outputs": [
        {
          "output_type": "display_data",
          "data": {
            "text/html": "0.05",
            "text/markdown": "0.05",
            "text/latex": "0.05",
            "text/plain": "[1] 0.05"
          },
          "metadata": {}
        }
      ]
    },
    {
      "cell_type": "code",
      "source": [
        "z_alpha <- qnorm(probabilidade)\n",
        "round(z_alpha, 2)"
      ],
      "metadata": {
        "colab": {
          "base_uri": "https://localhost:8080/",
          "height": 35
        },
        "id": "qNse2bFRpslu",
        "outputId": "d3014462-b26b-488d-f9db-29d837d6c683",
        "execution": {
          "iopub.status.busy": "2024-07-31T21:22:18.182672Z",
          "iopub.execute_input": "2024-07-31T21:22:18.184465Z",
          "iopub.status.idle": "2024-07-31T21:22:18.207389Z"
        },
        "trusted": true
      },
      "execution_count": null,
      "outputs": [
        {
          "output_type": "display_data",
          "data": {
            "text/html": "-1.64",
            "text/markdown": "-1.64",
            "text/latex": "-1.64",
            "text/plain": "[1] -1.64"
          },
          "metadata": {}
        }
      ]
    },
    {
      "cell_type": "markdown",
      "source": [
        "![Estatística-Teste](https://caelum-online-public.s3.amazonaws.com/1229-estatistica-parte3/01/img028.png)"
      ],
      "metadata": {
        "id": "-f_bCmq25YKp"
      }
    },
    {
      "cell_type": "markdown",
      "source": [
        "---"
      ],
      "metadata": {
        "id": "xUhiEXRMpslv"
      }
    },
    {
      "cell_type": "markdown",
      "source": [
        "### **Passo 4** - cálculo da estatística-teste e verificação desse valor com as áreas de aceitação e rejeição do teste\n",
        "\n",
        "# $$z = \\frac{(\\bar{x_1} - \\bar{x_2})-D_0}{\\sqrt{\\frac{s_1^2}{n_1} + \\frac{s_2^2}{n_2}}}$$"
      ],
      "metadata": {
        "id": "iooB1aPHpslv"
      }
    },
    {
      "cell_type": "code",
      "source": [
        "numerador <- (media_amostra_rj - media_amostra_sp) - D_0\n",
        "\n",
        "denominador <- sqrt((desvio_padrao_amostra_rj ** 2 / n_rj) + (desvio_padrao_amostra_sp ** 2 / n_sp))\n",
        "\n",
        "z <- numerador / denominador\n",
        "\n",
        "z"
      ],
      "metadata": {
        "colab": {
          "base_uri": "https://localhost:8080/",
          "height": 35
        },
        "id": "AL2i9JOTpslw",
        "outputId": "70de1497-94ac-4e2b-cfec-89552cbda99b",
        "execution": {
          "iopub.status.busy": "2024-07-31T21:22:18.211522Z",
          "iopub.execute_input": "2024-07-31T21:22:18.217892Z",
          "iopub.status.idle": "2024-07-31T21:22:18.239876Z"
        },
        "trusted": true
      },
      "execution_count": null,
      "outputs": [
        {
          "output_type": "display_data",
          "data": {
            "text/html": "-2.25531827360856",
            "text/markdown": "-2.25531827360856",
            "text/latex": "-2.25531827360856",
            "text/plain": "[1] -2.255318"
          },
          "metadata": {}
        }
      ]
    },
    {
      "cell_type": "markdown",
      "source": [
        "![Estatística-Teste](https://caelum-online-public.s3.amazonaws.com/1229-estatistica-parte3/01/img029.png)"
      ],
      "metadata": {
        "id": "MYNYROlb5YKr"
      }
    },
    {
      "cell_type": "markdown",
      "source": [
        "---"
      ],
      "metadata": {
        "id": "4dn58Fc2pslx"
      }
    },
    {
      "cell_type": "markdown",
      "source": [
        "### **Passo 5** - Aceitação ou rejeição da hipótese nula"
      ],
      "metadata": {
        "id": "P-7NL33-pslx"
      }
    },
    {
      "cell_type": "markdown",
      "source": [
        "### <font color='red'>Critério do valor crítico</font>"
      ],
      "metadata": {
        "id": "QrObW-BXpsly"
      }
    },
    {
      "cell_type": "code",
      "source": [
        "z <= z_alpha"
      ],
      "metadata": {
        "colab": {
          "base_uri": "https://localhost:8080/",
          "height": 35
        },
        "id": "tkJSji7gpsly",
        "outputId": "871244f8-08a3-456c-f7be-eb86e8a37255",
        "execution": {
          "iopub.status.busy": "2024-07-31T21:22:18.242770Z",
          "iopub.execute_input": "2024-07-31T21:22:18.244412Z",
          "iopub.status.idle": "2024-07-31T21:22:18.260768Z"
        },
        "trusted": true
      },
      "execution_count": null,
      "outputs": [
        {
          "output_type": "display_data",
          "data": {
            "text/html": "TRUE",
            "text/markdown": "TRUE",
            "text/latex": "TRUE",
            "text/plain": "[1] TRUE"
          },
          "metadata": {}
        }
      ]
    },
    {
      "cell_type": "markdown",
      "source": [
        "### <font color='red'>Critério do valor $p$</font>"
      ],
      "metadata": {
        "id": "cyuNEHfwpsl0"
      }
    },
    {
      "cell_type": "code",
      "source": [
        "z"
      ],
      "metadata": {
        "execution": {
          "iopub.status.busy": "2024-07-31T21:22:18.263395Z",
          "iopub.execute_input": "2024-07-31T21:22:18.264900Z",
          "iopub.status.idle": "2024-07-31T21:22:18.279566Z"
        },
        "trusted": true,
        "id": "h6OZbaNH5YKu",
        "outputId": "1dca6337-d5ef-4ab8-f09a-ec1b857e605e"
      },
      "execution_count": null,
      "outputs": [
        {
          "output_type": "display_data",
          "data": {
            "text/html": "-2.25531827360856",
            "text/markdown": "-2.25531827360856",
            "text/latex": "-2.25531827360856",
            "text/plain": "[1] -2.255318"
          },
          "metadata": {}
        }
      ]
    },
    {
      "cell_type": "code",
      "source": [
        "pnorm(z, lower.tail = T)"
      ],
      "metadata": {
        "execution": {
          "iopub.status.busy": "2024-07-31T21:22:18.282270Z",
          "iopub.execute_input": "2024-07-31T21:22:18.283827Z",
          "iopub.status.idle": "2024-07-31T21:22:18.301996Z"
        },
        "trusted": true,
        "id": "lEwVf2lv5YKu",
        "outputId": "87226485-90d2-4c39-d25d-a084a64c39ab"
      },
      "execution_count": null,
      "outputs": [
        {
          "output_type": "display_data",
          "data": {
            "text/html": "0.0120566792156934",
            "text/markdown": "0.0120566792156934",
            "text/latex": "0.0120566792156934",
            "text/plain": "[1] 0.01205668"
          },
          "metadata": {}
        }
      ]
    },
    {
      "cell_type": "code",
      "source": [
        "p_valor <- pnorm(z, lower.tail = T)\n",
        "p_valor"
      ],
      "metadata": {
        "execution": {
          "iopub.status.busy": "2024-07-31T21:22:18.304630Z",
          "iopub.execute_input": "2024-07-31T21:22:18.306102Z",
          "iopub.status.idle": "2024-07-31T21:22:18.322344Z"
        },
        "trusted": true,
        "id": "thmYqw3i5YKv",
        "outputId": "12c491f8-bb02-4348-cccb-613b2ee8114f"
      },
      "execution_count": null,
      "outputs": [
        {
          "output_type": "display_data",
          "data": {
            "text/html": "0.0120566792156934",
            "text/markdown": "0.0120566792156934",
            "text/latex": "0.0120566792156934",
            "text/plain": "[1] 0.01205668"
          },
          "metadata": {}
        }
      ]
    },
    {
      "cell_type": "code",
      "source": [
        "p_valor <= significancia"
      ],
      "metadata": {
        "execution": {
          "iopub.status.busy": "2024-07-31T21:22:18.325092Z",
          "iopub.execute_input": "2024-07-31T21:22:18.326691Z",
          "iopub.status.idle": "2024-07-31T21:22:18.340906Z"
        },
        "trusted": true,
        "id": "pxXlaAi25YKv",
        "outputId": "df42f1ce-1e9d-49cd-c1a6-c44997417220"
      },
      "execution_count": null,
      "outputs": [
        {
          "output_type": "display_data",
          "data": {
            "text/html": "TRUE",
            "text/markdown": "TRUE",
            "text/latex": "TRUE",
            "text/plain": "[1] TRUE"
          },
          "metadata": {}
        }
      ]
    },
    {
      "cell_type": "markdown",
      "source": [
        "### <font color='green'>Conclusão: Com um nível de confiança de 95% rejeitamos $H_0$, isto é, concluímos que a renda média no estado do Rio de Janeiro é menor que a renda média no estado de São Paulo.</font>"
      ],
      "metadata": {
        "id": "UnBVO1uDpslz"
      }
    }
  ]
}