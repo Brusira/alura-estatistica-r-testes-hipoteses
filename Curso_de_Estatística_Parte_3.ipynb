{
  "metadata": {
    "colab": {
      "collapsed_sections": [
        "cVgsZ_E3jQKg",
        "nk65O0lepz57"
      ],
      "provenance": [],
      "toc_visible": true
    },
    "kernelspec": {
      "name": "ir",
      "display_name": "R",
      "language": "R"
    },
    "language_info": {
      "name": "R",
      "codemirror_mode": "r",
      "pygments_lexer": "r",
      "mimetype": "text/x-r-source",
      "file_extension": ".r",
      "version": "4.4.0"
    },
    "kaggle": {
      "accelerator": "none",
      "dataSources": [
        {
          "sourceId": 9068883,
          "sourceType": "datasetVersion",
          "datasetId": 5469981
        }
      ],
      "dockerImageVersionId": 30749,
      "isInternetEnabled": false,
      "language": "r",
      "sourceType": "notebook",
      "isGpuEnabled": false
    }
  },
  "nbformat_minor": 0,
  "nbformat": 4,
  "cells": [
    {
      "cell_type": "markdown",
      "source": [
        "# <font color=green size=10>CURSO DE ESTATÍSTICA - PARTE 3</font>\n",
        "\n",
        "***"
      ],
      "metadata": {
        "id": "WvMflodMjQKe"
      }
    },
    {
      "cell_type": "markdown",
      "source": [
        "# <font color=green>1 CONHECENDO OS DADOS</font>\n",
        "***"
      ],
      "metadata": {
        "id": "cVgsZ_E3jQKg"
      }
    },
    {
      "cell_type": "markdown",
      "source": [
        "## <font color=green>1.1 Dataset do projeto</font>\n",
        "***"
      ],
      "metadata": {
        "id": "TDjqYYNojQKh"
      }
    },
    {
      "cell_type": "markdown",
      "source": [
        "### Pesquisa Nacional por Amostra de Domicílios - 2015\n",
        "\n",
        "A <b>Pesquisa Nacional por Amostra de Domicílios - PNAD</b> investiga anualmente, de forma permanente, características gerais da população, de educação, trabalho, rendimento e habitação e outras, com periodicidade variável, de acordo com as necessidades de informação para o país, como as características sobre migração, fecundidade, nupcialidade, saúde, segurança alimentar, entre outros temas. O levantamento dessas estatísticas constitui, ao longo dos 49 anos de realização da pesquisa, um importante instrumento para formulação, validação e avaliação de políticas orientadas para o desenvolvimento socioeconômico e a melhoria das condições de vida no Brasil."
      ],
      "metadata": {
        "id": "iN1gIbaKjQKh"
      }
    },
    {
      "cell_type": "markdown",
      "source": [
        "### Fonte dos Dados\n",
        "\n",
        "https://ww2.ibge.gov.br/home/estatistica/populacao/trabalhoerendimento/pnad2015/microdados.shtm"
      ],
      "metadata": {
        "id": "U6V7br1RjQKi"
      }
    },
    {
      "cell_type": "markdown",
      "source": [
        "### Variáveis utilizadas\n",
        "\n",
        "> ### Renda\n",
        "> ***\n",
        "\n",
        "Rendimento mensal do trabalho principal para pessoas de 10 anos ou mais de idade.\n",
        "\n",
        "> ### Idade\n",
        "> ***\n",
        "\n",
        "Idade do morador na data de referência em anos.\n",
        "\n",
        "> ### Altura (elaboração própria)\n",
        "> ***\n",
        "\n",
        "Altura do morador em metros.\n",
        "\n",
        "> ### UF\n",
        "> ***\n",
        "\n",
        "|Código|Descrição|\n",
        "|---|---|\n",
        "|11|Rondônia|\n",
        "|12|Acre|\n",
        "|13|Amazonas|\n",
        "|14|Roraima|\n",
        "|15|Pará|\n",
        "|16|Amapá|\n",
        "|17|Tocantins|\n",
        "|21|Maranhão|\n",
        "|22|Piauí|\n",
        "|23|Ceará|\n",
        "|24|Rio Grande do Norte|\n",
        "|25|Paraíba|\n",
        "|26|Pernambuco|\n",
        "|27|Alagoas|\n",
        "|28|Sergipe|\n",
        "|29|Bahia|\n",
        "|31|Minas Gerais|\n",
        "|32|Espírito Santo|\n",
        "|33|Rio de Janeiro|\n",
        "|35|São Paulo|\n",
        "|41|Paraná|\n",
        "|42|Santa Catarina|\n",
        "|43|Rio Grande do Sul|\n",
        "|50|Mato Grosso do Sul|\n",
        "|51|Mato Grosso|\n",
        "|52|Goiás|\n",
        "|53|Distrito Federal|\n",
        "\n",
        "> ### Sexo\n",
        "> ***\n",
        "\n",
        "|Código|Descrição|\n",
        "|---|---|\n",
        "|0|Masculino|\n",
        "|1|Feminino|\n",
        "\n",
        "> ### Anos de Estudo\n",
        "> ***\n",
        "\n",
        "|Código|Descrição|\n",
        "|---|---|\n",
        "|1|Sem instrução e menos de 1 ano|\n",
        "|2|1 ano|\n",
        "|3|2 anos|\n",
        "|4|3 anos|\n",
        "|5|4 anos|\n",
        "|6|5 anos|\n",
        "|7|6 anos|\n",
        "|8|7 anos|\n",
        "|9|8 anos|\n",
        "|10|9 anos|\n",
        "|11|10 anos|\n",
        "|12|11 anos|\n",
        "|13|12 anos|\n",
        "|14|13 anos|\n",
        "|15|14 anos|\n",
        "|16|15 anos ou mais|\n",
        "|17|Não determinados|\n",
        "||Não aplicável|\n",
        "\n",
        "> ### Cor\n",
        "> ***\n",
        "\n",
        "|Código|Descrição|\n",
        "|---|---|\n",
        "|0|Indígena|\n",
        "|2|Branca|\n",
        "|4|Preta|\n",
        "|6|Amarela|\n",
        "|8|Parda|\n",
        "|9|Sem declaração|"
      ],
      "metadata": {
        "id": "r0Fe_qnzjQKj"
      }
    },
    {
      "cell_type": "markdown",
      "source": [
        "#### <font color='red'>Observação</font>\n",
        "***\n",
        "> Os seguintes tratamentos foram realizados nos dados originais:\n",
        "> 1. Foram eliminados os registros onde a <b>Renda</b> era inválida (999 999 999 999);\n",
        "> 2. Foram eliminados os registros onde a <b>Renda</b> era missing;\n",
        "> 3. Foram considerados somente os registros das <b>Pessoas de Referência</b> de cada domicílio (responsável pelo domicílio)."
      ],
      "metadata": {
        "id": "OK1IQH5cX7Gb"
      }
    },
    {
      "cell_type": "markdown",
      "source": [
        "### Configurações"
      ],
      "metadata": {
        "id": "qYVYOBBN5Za4"
      }
    },
    {
      "cell_type": "code",
      "source": [
        "library(dplyr)\n",
        "library(ggplot2)"
      ],
      "metadata": {
        "execution": {
          "iopub.status.busy": "2024-07-31T20:06:22.459390Z",
          "iopub.execute_input": "2024-07-31T20:06:22.474246Z",
          "iopub.status.idle": "2024-07-31T20:06:22.791622Z"
        },
        "trusted": true,
        "id": "TW3KwFZi5Za5",
        "outputId": "8fd6de7a-d7c0-4fa2-b46b-332e6247f122"
      },
      "execution_count": null,
      "outputs": [
        {
          "name": "stderr",
          "text": "\nAttaching package: ‘dplyr’\n\n\nThe following objects are masked from ‘package:stats’:\n\n    filter, lag\n\n\nThe following objects are masked from ‘package:base’:\n\n    intersect, setdiff, setequal, union\n\n\n",
          "output_type": "stream"
        }
      ]
    },
    {
      "cell_type": "code",
      "source": [
        "options(repr.plot.width = 7, repr.plot.height = 4)"
      ],
      "metadata": {
        "execution": {
          "iopub.status.busy": "2024-07-31T20:06:22.796117Z",
          "iopub.execute_input": "2024-07-31T20:06:22.841029Z",
          "iopub.status.idle": "2024-07-31T20:06:22.854154Z"
        },
        "trusted": true,
        "id": "YVfl6bw45Za7"
      },
      "execution_count": null,
      "outputs": []
    },
    {
      "cell_type": "markdown",
      "source": [
        "### Importando dataset do projeto"
      ],
      "metadata": {
        "id": "8Rw70V6ojQKk"
      }
    },
    {
      "cell_type": "code",
      "source": [
        "dados <- read.csv('/kaggle/input/dados/dados.csv')"
      ],
      "metadata": {
        "id": "ufRZ7TLwjQKo",
        "execution": {
          "iopub.status.busy": "2024-07-31T20:06:22.856920Z",
          "iopub.execute_input": "2024-07-31T20:06:22.858428Z",
          "iopub.status.idle": "2024-07-31T20:06:23.069595Z"
        },
        "trusted": true
      },
      "execution_count": null,
      "outputs": []
    },
    {
      "cell_type": "code",
      "source": [
        "head(dados)"
      ],
      "metadata": {
        "colab": {
          "base_uri": "https://localhost:8080/",
          "height": 204
        },
        "id": "GsC_WhLFjQKq",
        "outputId": "cccf4d9c-10ec-4c5b-df3f-173c62ca0659",
        "scrolled": true,
        "execution": {
          "iopub.status.busy": "2024-07-31T20:06:23.073289Z",
          "iopub.execute_input": "2024-07-31T20:06:23.074896Z",
          "iopub.status.idle": "2024-07-31T20:06:23.109254Z"
        },
        "trusted": true
      },
      "execution_count": null,
      "outputs": [
        {
          "output_type": "display_data",
          "data": {
            "text/html": "<table class=\"dataframe\">\n<caption>A data.frame: 6 × 7</caption>\n<thead>\n\t<tr><th></th><th scope=col>UF</th><th scope=col>Sexo</th><th scope=col>Idade</th><th scope=col>Cor</th><th scope=col>Anos.de.Estudo</th><th scope=col>Renda</th><th scope=col>Altura</th></tr>\n\t<tr><th></th><th scope=col>&lt;int&gt;</th><th scope=col>&lt;int&gt;</th><th scope=col>&lt;int&gt;</th><th scope=col>&lt;int&gt;</th><th scope=col>&lt;int&gt;</th><th scope=col>&lt;int&gt;</th><th scope=col>&lt;dbl&gt;</th></tr>\n</thead>\n<tbody>\n\t<tr><th scope=row>1</th><td>11</td><td>0</td><td>23</td><td>8</td><td>12</td><td> 800</td><td>1.603808</td></tr>\n\t<tr><th scope=row>2</th><td>11</td><td>1</td><td>23</td><td>2</td><td>12</td><td>1150</td><td>1.739790</td></tr>\n\t<tr><th scope=row>3</th><td>11</td><td>1</td><td>35</td><td>8</td><td>15</td><td> 880</td><td>1.760444</td></tr>\n\t<tr><th scope=row>4</th><td>11</td><td>0</td><td>46</td><td>2</td><td> 6</td><td>3500</td><td>1.783158</td></tr>\n\t<tr><th scope=row>5</th><td>11</td><td>1</td><td>47</td><td>8</td><td> 9</td><td> 150</td><td>1.690631</td></tr>\n\t<tr><th scope=row>6</th><td>11</td><td>1</td><td>34</td><td>8</td><td>12</td><td> 790</td><td>1.637906</td></tr>\n</tbody>\n</table>\n",
            "text/markdown": "\nA data.frame: 6 × 7\n\n| <!--/--> | UF &lt;int&gt; | Sexo &lt;int&gt; | Idade &lt;int&gt; | Cor &lt;int&gt; | Anos.de.Estudo &lt;int&gt; | Renda &lt;int&gt; | Altura &lt;dbl&gt; |\n|---|---|---|---|---|---|---|---|\n| 1 | 11 | 0 | 23 | 8 | 12 |  800 | 1.603808 |\n| 2 | 11 | 1 | 23 | 2 | 12 | 1150 | 1.739790 |\n| 3 | 11 | 1 | 35 | 8 | 15 |  880 | 1.760444 |\n| 4 | 11 | 0 | 46 | 2 |  6 | 3500 | 1.783158 |\n| 5 | 11 | 1 | 47 | 8 |  9 |  150 | 1.690631 |\n| 6 | 11 | 1 | 34 | 8 | 12 |  790 | 1.637906 |\n\n",
            "text/latex": "A data.frame: 6 × 7\n\\begin{tabular}{r|lllllll}\n  & UF & Sexo & Idade & Cor & Anos.de.Estudo & Renda & Altura\\\\\n  & <int> & <int> & <int> & <int> & <int> & <int> & <dbl>\\\\\n\\hline\n\t1 & 11 & 0 & 23 & 8 & 12 &  800 & 1.603808\\\\\n\t2 & 11 & 1 & 23 & 2 & 12 & 1150 & 1.739790\\\\\n\t3 & 11 & 1 & 35 & 8 & 15 &  880 & 1.760444\\\\\n\t4 & 11 & 0 & 46 & 2 &  6 & 3500 & 1.783158\\\\\n\t5 & 11 & 1 & 47 & 8 &  9 &  150 & 1.690631\\\\\n\t6 & 11 & 1 & 34 & 8 & 12 &  790 & 1.637906\\\\\n\\end{tabular}\n",
            "text/plain": "  UF Sexo Idade Cor Anos.de.Estudo Renda Altura  \n1 11 0    23    8   12              800  1.603808\n2 11 1    23    2   12             1150  1.739790\n3 11 1    35    8   15              880  1.760444\n4 11 0    46    2    6             3500  1.783158\n5 11 1    47    8    9              150  1.690631\n6 11 1    34    8   12              790  1.637906"
          },
          "metadata": {}
        }
      ]
    },
    {
      "cell_type": "code",
      "source": [
        "nrow(dados)"
      ],
      "metadata": {
        "execution": {
          "iopub.status.busy": "2024-07-31T20:06:23.170658Z",
          "iopub.execute_input": "2024-07-31T20:06:23.172603Z",
          "iopub.status.idle": "2024-07-31T20:06:23.190812Z"
        },
        "trusted": true,
        "id": "4EBO-Ii15Za9",
        "outputId": "3050b6ec-596f-4d57-c409-44e5fc0d0219"
      },
      "execution_count": null,
      "outputs": [
        {
          "output_type": "display_data",
          "data": {
            "text/html": "76840",
            "text/markdown": "76840",
            "text/latex": "76840",
            "text/plain": "[1] 76840"
          },
          "metadata": {}
        }
      ]
    },
    {
      "cell_type": "markdown",
      "source": [
        "# <font color=green>2 TESTES DE HIPÓTESES</font>\n",
        "***"
      ],
      "metadata": {
        "id": "nk65O0lepz57"
      }
    },
    {
      "cell_type": "markdown",
      "source": [
        "Testes estatísticos são regras de decisão que permitem avaliar a razoabilidade das hipóteses feitas sobre os parâmetros populacionais e aceitá-las ou rejeitá-las como provavelmente verdadeiras ou falsas tendo como base uma amostra."
      ],
      "metadata": {
        "id": "OjHpQHFHpsi3"
      }
    },
    {
      "cell_type": "markdown",
      "source": [
        "## <font color=green>2.1 Teste de normalidade</font>\n",
        "***"
      ],
      "metadata": {
        "id": "qjqWccNspsi4"
      }
    },
    {
      "cell_type": "markdown",
      "source": [
        "A função *shapiro.test* testa a hipótese nula $H_0$ de que a amostra é proveniente de uma distribuição normal, ou seja, os dados são normalmente distribuídos."
      ],
      "metadata": {
        "id": "abDn-nKLpsi7"
      }
    },
    {
      "cell_type": "markdown",
      "source": [
        "#### <font color=red>Documentações:\n",
        "\n",
        "- [**shapiro.test**](https://www.rdocumentation.org/packages/stats/versions/3.6.1/topics/shapiro.test)"
      ],
      "metadata": {
        "id": "O79kHHwYpsi5"
      }
    },
    {
      "cell_type": "markdown",
      "source": [
        "### Definindo a significância do teste ($\\alpha$)"
      ],
      "metadata": {
        "id": "gRDJ86zTpsi8"
      }
    },
    {
      "cell_type": "code",
      "source": [
        "significancia <- 0.05"
      ],
      "metadata": {
        "id": "3s6ZAdCOpsi9",
        "execution": {
          "iopub.status.busy": "2024-07-31T20:06:23.194659Z",
          "iopub.execute_input": "2024-07-31T20:06:23.196209Z",
          "iopub.status.idle": "2024-07-31T20:06:23.208009Z"
        },
        "trusted": true
      },
      "execution_count": null,
      "outputs": []
    },
    {
      "cell_type": "markdown",
      "source": [
        "### Testando a variável Renda"
      ],
      "metadata": {
        "id": "sppYIE51psi_"
      }
    },
    {
      "cell_type": "code",
      "source": [
        "ggplot(dados, aes(x = Renda)) +\n",
        "    geom_histogram() +\n",
        "    ylab(\"Frequência\") +\n",
        "    xlab(\"Renda\") +\n",
        "    ggtitle('Histograma Renda') +\n",
        "    theme(plot.title=element_text(hjust = 0.5))"
      ],
      "metadata": {
        "colab": {
          "base_uri": "https://localhost:8080/",
          "height": 287
        },
        "id": "IZpa91lHpsi_",
        "outputId": "ba8bdb04-9da3-41dd-8726-c76cd9670aa0",
        "execution": {
          "iopub.status.busy": "2024-07-31T20:06:23.210855Z",
          "iopub.execute_input": "2024-07-31T20:06:23.212371Z",
          "iopub.status.idle": "2024-07-31T20:06:23.790218Z"
        },
        "trusted": true
      },
      "execution_count": null,
      "outputs": [
        {
          "name": "stderr",
          "text": "\u001b[1m\u001b[22m`stat_bin()` using `bins = 30`. Pick better value with `binwidth`.\n",
          "output_type": "stream"
        },
        {
          "output_type": "display_data",
          "data": {
            "image/png": "[encoded data removed]"
          },
          "metadata": {
            "image/png": {
              "width": 420,
              "height": 240
            }
          }
        }
      ]
    },
    {
      "cell_type": "markdown",
      "source": [
        "### <font color='red'>Critério do valor $p$</font>\n",
        "\n",
        "> ### Rejeitar $H_0$ se o valor $p\\leq \\alpha$"
      ],
      "metadata": {
        "id": "qKeNZ0PUpsjC"
      }
    },
    {
      "cell_type": "code",
      "source": [
        "set.seed(2811)\n",
        "amostra <- sample_n(dados, 5000)"
      ],
      "metadata": {
        "execution": {
          "iopub.status.busy": "2024-07-31T20:06:23.792877Z",
          "iopub.execute_input": "2024-07-31T20:06:23.794397Z",
          "iopub.status.idle": "2024-07-31T20:06:23.819946Z"
        },
        "trusted": true,
        "id": "um9UB5wj5Za_"
      },
      "execution_count": null,
      "outputs": []
    },
    {
      "cell_type": "code",
      "source": [
        "resultado <- shapiro.test(amostra$Renda)\n",
        "resultado"
      ],
      "metadata": {
        "execution": {
          "iopub.status.busy": "2024-07-31T20:06:23.822636Z",
          "iopub.execute_input": "2024-07-31T20:06:23.824150Z",
          "iopub.status.idle": "2024-07-31T20:06:23.842671Z"
        },
        "trusted": true,
        "id": "UyreN8qt5ZbA",
        "outputId": "be9789c2-111c-456a-b998-d0cfd4cd1140"
      },
      "execution_count": null,
      "outputs": [
        {
          "output_type": "display_data",
          "data": {
            "text/plain": "\n\tShapiro-Wilk normality test\n\ndata:  amostra$Renda\nW = 0.28423, p-value < 2.2e-16\n"
          },
          "metadata": {}
        }
      ]
    },
    {
      "cell_type": "code",
      "source": [
        "p_valor <- resultado$p.value\n",
        "p_valor"
      ],
      "metadata": {
        "execution": {
          "iopub.status.busy": "2024-07-31T20:06:23.845406Z",
          "iopub.execute_input": "2024-07-31T20:06:23.846908Z",
          "iopub.status.idle": "2024-07-31T20:06:23.863655Z"
        },
        "trusted": true,
        "id": "g6-Cqqif5ZbA",
        "outputId": "8678e252-19e9-47f3-8ce9-f5900e700a44"
      },
      "execution_count": null,
      "outputs": [
        {
          "output_type": "display_data",
          "data": {
            "text/html": "4.25171378288823e-88",
            "text/markdown": "4.25171378288823e-88",
            "text/latex": "4.25171378288823e-88",
            "text/plain": "[1] 4.251714e-88"
          },
          "metadata": {}
        }
      ]
    },
    {
      "cell_type": "code",
      "source": [
        "resultado$statistic"
      ],
      "metadata": {
        "execution": {
          "iopub.status.busy": "2024-07-31T20:06:23.866307Z",
          "iopub.execute_input": "2024-07-31T20:06:23.867782Z",
          "iopub.status.idle": "2024-07-31T20:06:23.882045Z"
        },
        "trusted": true,
        "id": "x36qbf6W5ZbA",
        "outputId": "123de75a-1040-4241-e8c5-79b8ab8c2bbb"
      },
      "execution_count": null,
      "outputs": [
        {
          "output_type": "display_data",
          "data": {
            "text/html": "<strong>W:</strong> 0.284227805101736",
            "text/markdown": "**W:** 0.284227805101736",
            "text/latex": "\\textbf{W:} 0.284227805101736",
            "text/plain": "        W \n0.2842278 "
          },
          "metadata": {}
        }
      ]
    },
    {
      "cell_type": "code",
      "source": [
        "p_valor <= significancia"
      ],
      "metadata": {
        "colab": {
          "base_uri": "https://localhost:8080/",
          "height": 35
        },
        "id": "Q4eJFGsCpsjG",
        "outputId": "95f4e550-b43e-476c-94e6-12b600384bc5",
        "execution": {
          "iopub.status.busy": "2024-07-31T20:06:23.884714Z",
          "iopub.execute_input": "2024-07-31T20:06:23.886169Z",
          "iopub.status.idle": "2024-07-31T20:06:23.900742Z"
        },
        "trusted": true
      },
      "execution_count": null,
      "outputs": [
        {
          "output_type": "display_data",
          "data": {
            "text/html": "TRUE",
            "text/markdown": "TRUE",
            "text/latex": "TRUE",
            "text/plain": "[1] TRUE"
          },
          "metadata": {}
        }
      ]
    },
    {
      "cell_type": "markdown",
      "source": [
        "### Testando a variável Altura"
      ],
      "metadata": {
        "id": "JkAxa9PqpsjM"
      }
    },
    {
      "cell_type": "code",
      "source": [
        "ggplot(dados, aes(x = Altura)) +\n",
        "    geom_histogram() +\n",
        "    ylab(\"Frequência\") +\n",
        "    xlab(\"Altura\") +\n",
        "    ggtitle('Histograma Altura') +\n",
        "    theme(plot.title=element_text(hjust = 0.5))"
      ],
      "metadata": {
        "colab": {
          "base_uri": "https://localhost:8080/",
          "height": 287
        },
        "id": "n9r88dMKpsjN",
        "outputId": "9147988e-9272-4aac-de34-211894eeb81c",
        "execution": {
          "iopub.status.busy": "2024-07-31T20:06:23.903472Z",
          "iopub.execute_input": "2024-07-31T20:06:23.905090Z",
          "iopub.status.idle": "2024-07-31T20:06:24.297994Z"
        },
        "trusted": true
      },
      "execution_count": null,
      "outputs": [
        {
          "name": "stderr",
          "text": "\u001b[1m\u001b[22m`stat_bin()` using `bins = 30`. Pick better value with `binwidth`.\n",
          "output_type": "stream"
        },
        {
          "output_type": "display_data",
          "data": {
            "image/png": "[encoded data removed]"
          },
          "metadata": {
            "image/png": {
              "width": 420,
              "height": 240
            }
          }
        }
      ]
    },
    {
      "cell_type": "markdown",
      "source": [
        "### <font color='red'>Critério do valor $p$</font>\n",
        "\n",
        "> ### Rejeitar $H_0$ se o valor $p\\leq \\alpha$"
      ],
      "metadata": {
        "id": "1ADrwGb5psjQ"
      }
    },
    {
      "cell_type": "code",
      "source": [
        "resultado <- shapiro.test(amostra$Altura)\n",
        "resultado"
      ],
      "metadata": {
        "execution": {
          "iopub.status.busy": "2024-07-31T20:06:24.300785Z",
          "iopub.execute_input": "2024-07-31T20:06:24.302276Z",
          "iopub.status.idle": "2024-07-31T20:06:24.319775Z"
        },
        "trusted": true,
        "id": "YzlNX0Gq5ZbB",
        "outputId": "32ee4445-53fa-4612-f0a9-70725d32a292"
      },
      "execution_count": null,
      "outputs": [
        {
          "output_type": "display_data",
          "data": {
            "text/plain": "\n\tShapiro-Wilk normality test\n\ndata:  amostra$Altura\nW = 0.99931, p-value = 0.04876\n"
          },
          "metadata": {}
        }
      ]
    },
    {
      "cell_type": "code",
      "source": [
        "p_valor <- resultado$p.value\n",
        "p_valor"
      ],
      "metadata": {
        "execution": {
          "iopub.status.busy": "2024-07-31T20:06:24.322399Z",
          "iopub.execute_input": "2024-07-31T20:06:24.323884Z",
          "iopub.status.idle": "2024-07-31T20:06:24.339790Z"
        },
        "trusted": true,
        "id": "-yC3lAnZ5ZbD",
        "outputId": "3445e7f5-2c15-4b93-c6fc-d58d17db330e"
      },
      "execution_count": null,
      "outputs": [
        {
          "output_type": "display_data",
          "data": {
            "text/html": "0.0487635402187833",
            "text/markdown": "0.0487635402187833",
            "text/latex": "0.0487635402187833",
            "text/plain": "[1] 0.04876354"
          },
          "metadata": {}
        }
      ]
    },
    {
      "cell_type": "code",
      "source": [
        "resultado$statistic"
      ],
      "metadata": {
        "execution": {
          "iopub.status.busy": "2024-07-31T20:06:24.342358Z",
          "iopub.execute_input": "2024-07-31T20:06:24.343832Z",
          "iopub.status.idle": "2024-07-31T20:06:24.358858Z"
        },
        "trusted": true,
        "id": "G9leq21o5ZbD",
        "outputId": "8ea47327-4ce2-481f-f7c4-6b0fc44a4257"
      },
      "execution_count": null,
      "outputs": [
        {
          "output_type": "display_data",
          "data": {
            "text/html": "<strong>W:</strong> 0.999305995531248",
            "text/markdown": "**W:** 0.999305995531248",
            "text/latex": "\\textbf{W:} 0.999305995531248",
            "text/plain": "       W \n0.999306 "
          },
          "metadata": {}
        }
      ]
    },
    {
      "cell_type": "code",
      "source": [
        "p_valor <= significancia"
      ],
      "metadata": {
        "colab": {
          "base_uri": "https://localhost:8080/",
          "height": 35
        },
        "outputId": "95f4e550-b43e-476c-94e6-12b600384bc5",
        "execution": {
          "iopub.status.busy": "2024-07-31T20:06:24.366870Z",
          "iopub.execute_input": "2024-07-31T20:06:24.368304Z",
          "iopub.status.idle": "2024-07-31T20:06:24.382484Z"
        },
        "trusted": true,
        "id": "GDYnEUaZ5ZbD"
      },
      "execution_count": null,
      "outputs": [
        {
          "output_type": "display_data",
          "data": {
            "text/html": "TRUE",
            "text/markdown": "TRUE",
            "text/latex": "TRUE",
            "text/plain": "[1] TRUE"
          },
          "metadata": {}
        }
      ]
    },
    {
      "cell_type": "markdown",
      "source": [
        "## <font color=green>2.2 Etapas Básicas de um Teste</font>\n",
        "***"
      ],
      "metadata": {
        "id": "rWh-HSd-psji"
      }
    },
    {
      "cell_type": "markdown",
      "source": [
        "### **Passo 1** - formulação das hipóteses $H_0$ e $H_1$;\n",
        "\n",
        "> ### <font color='red'>Pontos importantes</font>\n",
        "> - De maneira geral, o alvo do estudo deve ser formulado como a hipótese alternativa $H_1$.\n",
        "> - A hipótese nula sempre afirma uma igualdade ou propriedade populacional, e $H_1$ a desigualdade que nega $H_0$.\n",
        "> - No caso da hipótese nula $H_0$ a igualdade pode ser representada por uma igualdade simples \"$=$\" ou por \"$\\geq$\" e \"$\\leq$\". Sempre complementar ao estabelecido pela hipótese alternativa.\n",
        "> - A hipótese alternativa $H_1$ deve definir uma desigualdade que pode ser uma diferença simples \"$\\neq$\" ou dos tipos \"$>$\" e \"$<$\".\n",
        "\n",
        "\n",
        "### **Passo 2** - escolha da distribuição amostral adequada;\n",
        "\n",
        "> ### <font color='red'>Pontos importantes</font>\n",
        "> - Quando o tamanho da amostra tiver 30 elementos ou mais, deve-se utilizar a distribuição normal, como estabelecido pelo **teorema do limite central**.\n",
        "> - Para um tamanho de amostra menor que 30 elementos, e se pudermos afirmar que a população se distribui aproximadamente como uma normal e o desvio padrão populacional for conhecido, deve-se utilizar a distribuição normal.\n",
        "> - Para um tamanho de amostra menor que 30 elementos, e se pudermos afirmar que a população se distribui aproximadamente como uma normal e o desvio padrão populacional for desconhecido, deve-se utilizar a distribuição t de Student.\n",
        "\n",
        "<img src='https://caelum-online-public.s3.amazonaws.com/1229-estatistica-parte3/01/img003.png' width=70%>\n",
        "\n",
        "### **Passo 3** - fixação da significância do teste ($\\alpha$), que define as regiões de aceitação e rejeição das hipóteses (os valores mais freqüentes são 10%, 5% e 1%);\n",
        "\n",
        "> ### <font color='red'>Pontos importantes</font>\n",
        "> - O **nível de confiança** ($1 - \\alpha$) representa a probabilidade de acerto da estimativa. De forma complementar o **nível de significância** ($\\alpha$) expressa a probabilidade de erro da estimativa.\n",
        ">\n",
        "> ![Níveis de Confiança e significância](https://caelum-online-public.s3.amazonaws.com/1229-estatistica-parte3/01/img001.png)\n",
        ">\n",
        "> - O **nível de confiança** representa o grau de confiabilidade do resultado da estimativa estar dentro de determinado intervalo. Quando fixamos em uma pesquisa um **nível de confiança** de 95%, por exemplo, estamos assumindo que existe uma probabilidade de 95% dos resultados da pesquisa representarem bem a realidade, ou seja, estarem corretos.\n",
        ">\n",
        "> ![Áreas de Aceitação e Rejeição](https://caelum-online-public.s3.amazonaws.com/1229-estatistica-parte3/01/img002.png)\n",
        "\n",
        "### **Passo 4** - cálculo da estatística-teste e verificação desse valor com as áreas de aceitação e rejeição do teste;\n",
        "\n",
        "> ### <font color='red'>Pontos importantes</font>\n",
        "> - Nos testes paramétricos, distância relativa entre a estatística amostral e o valor alegado como provável.\n",
        "> - Neste passo são obtidas as estatísticas amostrais necessárias à execução do teste (média, desvio-padrão, graus de liberdade etc.)\n",
        "\n",
        "\n",
        "### **Passo 5** - Aceitação ou rejeição da hipótese nula.\n",
        "\n",
        "> ### <font color='red'>Pontos importantes</font>\n",
        "> - No caso de o intervalo de aceitação conter a estatística-teste, aceita-se $H_0$ como estatisticamente válido e rejeita-se $H_1$ como tal.\n",
        "> - No caso de o intervalo de aceitação não conter a estatística-teste, rejeita-se $H_0$ e aceita-se $H_1$ como provavelmente verdadeira.\n",
        "> - A aceitação também se verifica com a probabilidade de cauda (p-valor): se maior que $\\alpha$, aceita-se $H_0$."
      ],
      "metadata": {
        "id": "DQF30K2Cpsjj"
      }
    },
    {
      "cell_type": "markdown",
      "source": [
        "---"
      ],
      "metadata": {
        "id": "TXdMM0dOpsjm"
      }
    },
    {
      "cell_type": "markdown",
      "source": [
        "# <font color=green>3 TESTES PARAMÉTRICOS</font>\n",
        "***"
      ],
      "metadata": {
        "id": "miGOADKYpsjn"
      }
    },
    {
      "cell_type": "markdown",
      "source": [
        "Quando um teste assume determinadas premissas sobre como os parâmetros de uma população se distribuem, estamos trabalhando com **Testes Paramétricos**."
      ],
      "metadata": {
        "id": "pIHY_4Sspsjn"
      }
    },
    {
      "cell_type": "markdown",
      "source": [
        "## <font color=green>3.1 Teste Bicaudal</font>\n",
        "***"
      ],
      "metadata": {
        "id": "rUKgxZ7_psjp"
      }
    },
    {
      "cell_type": "markdown",
      "source": [
        "## <font color='red'>Problema</font>"
      ],
      "metadata": {
        "id": "i1PMIB5cpsjp"
      }
    },
    {
      "cell_type": "markdown",
      "source": [
        "A empresa **Suco Bom** produz **sucos de frutas em embalagens de 500 ml**. Seu processo de produção é quase todo automatizado e as embalagens de sucos são preenchidas por uma máquina que às vezes apresenta um certo desajuste, levando a erros no preenchimento das embalagens para mais ou menos conteúdo. Quando o volume médio cai abaixo de 500 ml, a empresa se preocupa em perder vendas e ter problemas com os orgãos fiscalizadores. Quando o volume passa de 500 ml, a empresa começa a se preocupar com prejuízos no processo de produção.\n",
        "\n",
        "O setor de controle de qualidade da empresa **Suco Bom** extrai, periodicamente, **amostras de 50 embalagens** para monitorar o processo de produção. Para cada amostra, é realizado um **teste de hipóteses** para avaliar se o maquinário se desajustou. A equipe de controle de qualidade assume um **nível de significância de 5%**.\n",
        "\n",
        "Suponha agora que uma **amostra de 50 embalagens** foi selecionada e que a **média amostral observada foi de 503,24 ml**. **Esse valor de média amostral é suficientemente maior que 500 ml para nos fazer rejeitar a hipótese de que a média do processo é de 500 ml ao nível de significância de 5%?**"
      ],
      "metadata": {
        "id": "vellTWzJpsjq"
      }
    },
    {
      "cell_type": "markdown",
      "source": [
        "---"
      ],
      "metadata": {
        "id": "-J15nugOpsjq"
      }
    },
    {
      "cell_type": "markdown",
      "source": [
        "O **teste bicaudal** é muito utilizado em **testes de qualidade**, como o apresentado em nosso problema acima. Outro exemplo é a avaliação de peças que devem ter um encaixe perfeito (porcas e parafusos, chaves e fechaduras etc.)."
      ],
      "metadata": {
        "id": "076qvKgapsjr"
      }
    },
    {
      "cell_type": "markdown",
      "source": [
        "![Teste Bicaudal](https://caelum-online-public.s3.amazonaws.com/1229-estatistica-parte3/01/img005.png)"
      ],
      "metadata": {
        "id": "MyGUYz88psjr"
      }
    },
    {
      "cell_type": "markdown",
      "source": [
        "---"
      ],
      "metadata": {
        "id": "EOiKt64mpsjs"
      }
    },
    {
      "cell_type": "markdown",
      "source": [
        "### Dados do problema"
      ],
      "metadata": {
        "id": "011wNGXtpsjs"
      }
    },
    {
      "cell_type": "code",
      "source": [
        "amostra <- c(509, 505, 495, 510, 496, 509, 497, 502, 503, 505,\n",
        "           501, 505, 510, 505, 504, 497, 506, 506, 508, 505,\n",
        "           497, 504, 500, 498, 506, 496, 508, 497, 503, 501,\n",
        "           503, 506, 499, 498, 509, 507, 503, 499, 509, 495,\n",
        "           502, 505, 504, 509, 508, 501, 505, 497, 508, 507)"
      ],
      "metadata": {
        "id": "lHLlGH7upsjt",
        "execution": {
          "iopub.status.busy": "2024-07-31T20:06:24.385201Z",
          "iopub.execute_input": "2024-07-31T20:06:24.386783Z",
          "iopub.status.idle": "2024-07-31T20:06:24.398104Z"
        },
        "trusted": true
      },
      "execution_count": null,
      "outputs": []
    },
    {
      "cell_type": "code",
      "source": [
        "amostra <- data.frame(Amostra = amostra)\n",
        "head(amostra)"
      ],
      "metadata": {
        "colab": {
          "base_uri": "https://localhost:8080/",
          "height": 204
        },
        "id": "AJNH5RQtpsju",
        "outputId": "2e4e74bb-9e93-41ce-b12c-af947c39fda8",
        "execution": {
          "iopub.status.busy": "2024-07-31T20:06:24.400860Z",
          "iopub.execute_input": "2024-07-31T20:06:24.402426Z",
          "iopub.status.idle": "2024-07-31T20:06:24.425077Z"
        },
        "trusted": true
      },
      "execution_count": null,
      "outputs": [
        {
          "output_type": "display_data",
          "data": {
            "text/html": "<table class=\"dataframe\">\n<caption>A data.frame: 6 × 1</caption>\n<thead>\n\t<tr><th></th><th scope=col>Amostra</th></tr>\n\t<tr><th></th><th scope=col>&lt;dbl&gt;</th></tr>\n</thead>\n<tbody>\n\t<tr><th scope=row>1</th><td>509</td></tr>\n\t<tr><th scope=row>2</th><td>505</td></tr>\n\t<tr><th scope=row>3</th><td>495</td></tr>\n\t<tr><th scope=row>4</th><td>510</td></tr>\n\t<tr><th scope=row>5</th><td>496</td></tr>\n\t<tr><th scope=row>6</th><td>509</td></tr>\n</tbody>\n</table>\n",
            "text/markdown": "\nA data.frame: 6 × 1\n\n| <!--/--> | Amostra &lt;dbl&gt; |\n|---|---|\n| 1 | 509 |\n| 2 | 505 |\n| 3 | 495 |\n| 4 | 510 |\n| 5 | 496 |\n| 6 | 509 |\n\n",
            "text/latex": "A data.frame: 6 × 1\n\\begin{tabular}{r|l}\n  & Amostra\\\\\n  & <dbl>\\\\\n\\hline\n\t1 & 509\\\\\n\t2 & 505\\\\\n\t3 & 495\\\\\n\t4 & 510\\\\\n\t5 & 496\\\\\n\t6 & 509\\\\\n\\end{tabular}\n",
            "text/plain": "  Amostra\n1 509    \n2 505    \n3 495    \n4 510    \n5 496    \n6 509    "
          },
          "metadata": {}
        }
      ]
    },
    {
      "cell_type": "code",
      "source": [
        "media_amostra <- mean(amostra$Amostra)\n",
        "media_amostra"
      ],
      "metadata": {
        "colab": {
          "base_uri": "https://localhost:8080/",
          "height": 35
        },
        "id": "tnjD0A_ppsjw",
        "outputId": "96415938-0ad1-463b-ee79-719ef48dca1a",
        "execution": {
          "iopub.status.busy": "2024-07-31T20:06:24.427685Z",
          "iopub.execute_input": "2024-07-31T20:06:24.429080Z",
          "iopub.status.idle": "2024-07-31T20:06:24.445207Z"
        },
        "trusted": true
      },
      "execution_count": null,
      "outputs": [
        {
          "output_type": "display_data",
          "data": {
            "text/html": "503.24",
            "text/markdown": "503.24",
            "text/latex": "503.24",
            "text/plain": "[1] 503.24"
          },
          "metadata": {}
        }
      ]
    },
    {
      "cell_type": "code",
      "source": [
        "desvio_padrao_amostra <- sd(amostra$Amostra)\n",
        "desvio_padrao_amostra"
      ],
      "metadata": {
        "colab": {
          "base_uri": "https://localhost:8080/",
          "height": 35
        },
        "id": "JXz2IFCUpsjy",
        "outputId": "fb457ed0-cc94-498c-b13d-310418913f61",
        "execution": {
          "iopub.status.busy": "2024-07-31T20:06:24.447795Z",
          "iopub.execute_input": "2024-07-31T20:06:24.449334Z",
          "iopub.status.idle": "2024-07-31T20:06:24.465525Z"
        },
        "trusted": true
      },
      "execution_count": null,
      "outputs": [
        {
          "output_type": "display_data",
          "data": {
            "text/html": "4.48380305052735",
            "text/markdown": "4.48380305052735",
            "text/latex": "4.48380305052735",
            "text/plain": "[1] 4.483803"
          },
          "metadata": {}
        }
      ]
    },
    {
      "cell_type": "code",
      "source": [
        "media <- 500\n",
        "significancia <- 0.05\n",
        "confianca <- 1 - significancia\n",
        "n <- 50"
      ],
      "metadata": {
        "id": "PE99TXSfpsj0",
        "execution": {
          "iopub.status.busy": "2024-07-31T20:06:24.468202Z",
          "iopub.execute_input": "2024-07-31T20:06:24.469682Z",
          "iopub.status.idle": "2024-07-31T20:06:24.486767Z"
        },
        "trusted": true
      },
      "execution_count": null,
      "outputs": []
    },
    {
      "cell_type": "markdown",
      "source": [
        "### **Passo 1** - formulação das hipóteses $H_0$ e $H_1$\n",
        "\n",
        "#### <font color='red'>Lembre-se, a hipótese nula sempre contém a alegação de igualdade</font>"
      ],
      "metadata": {
        "id": "nqmFpl7wpsj2"
      }
    },
    {
      "cell_type": "markdown",
      "source": [
        "### $H_0: \\mu = 500$\n",
        "\n",
        "### $H_1: \\mu \\neq 500$"
      ],
      "metadata": {
        "id": "QVcqkHZhpsj3"
      }
    },
    {
      "cell_type": "markdown",
      "source": [
        "---"
      ],
      "metadata": {
        "id": "MShPuVL6psj3"
      }
    },
    {
      "cell_type": "markdown",
      "source": [
        "### **Passo 2** - escolha da distribuição amostral adequada\n",
        "<img src='https://caelum-online-public.s3.amazonaws.com/1229-estatistica-parte3/01/img003.png' width=70%>"
      ],
      "metadata": {
        "id": "_rAz73fzpsj4"
      }
    },
    {
      "cell_type": "markdown",
      "source": [
        "### O tamanho da amostra é maior que 30?\n",
        "#### Resp.: Sim\n",
        "\n",
        "### O desvio padrão populacional é conhecido?\n",
        "#### Resp.: Não"
      ],
      "metadata": {
        "id": "XC1JOtU9psj4"
      }
    },
    {
      "cell_type": "markdown",
      "source": [
        "---"
      ],
      "metadata": {
        "id": "Uq-Zq_Sxpsj5"
      }
    },
    {
      "cell_type": "markdown",
      "source": [
        "### **Passo 3** - fixação da significância do teste ($\\alpha$)"
      ],
      "metadata": {
        "id": "V3OT4caspsj5"
      }
    },
    {
      "cell_type": "markdown",
      "source": [
        "#### <font color=red>Documentações:\n",
        "\n",
        "- [**Normal**](https://www.rdocumentation.org/packages/stats/versions/3.6.1/topics/Normal)"
      ],
      "metadata": {
        "id": "wI1Nhj_vpsj6"
      }
    },
    {
      "cell_type": "code",
      "source": [
        "probabilidade <- (0.5 + (confianca / 2))\n",
        "probabilidade"
      ],
      "metadata": {
        "colab": {
          "base_uri": "https://localhost:8080/",
          "height": 35
        },
        "id": "2JyYCHeQpsj8",
        "outputId": "593263ce-a450-43d3-bcf1-1d663ef2774f",
        "execution": {
          "iopub.status.busy": "2024-07-31T20:06:24.489512Z",
          "iopub.execute_input": "2024-07-31T20:06:24.491057Z",
          "iopub.status.idle": "2024-07-31T20:06:24.507709Z"
        },
        "trusted": true
      },
      "execution_count": null,
      "outputs": [
        {
          "output_type": "display_data",
          "data": {
            "text/html": "0.975",
            "text/markdown": "0.975",
            "text/latex": "0.975",
            "text/plain": "[1] 0.975"
          },
          "metadata": {}
        }
      ]
    },
    {
      "cell_type": "markdown",
      "source": [
        "### Obtendo $z_{\\alpha/2}$"
      ],
      "metadata": {
        "id": "Fu4Wbd-ipsj-"
      }
    },
    {
      "cell_type": "code",
      "source": [
        "z_alpha_2 <- qnorm(probabilidade)\n",
        "z_alpha_2"
      ],
      "metadata": {
        "colab": {
          "base_uri": "https://localhost:8080/",
          "height": 35
        },
        "id": "imc3GyDLpsj_",
        "outputId": "b9dca9d5-da76-42b1-919c-1aaf593fed70",
        "execution": {
          "iopub.status.busy": "2024-07-31T20:06:24.510464Z",
          "iopub.execute_input": "2024-07-31T20:06:24.511950Z",
          "iopub.status.idle": "2024-07-31T20:06:24.527996Z"
        },
        "trusted": true
      },
      "execution_count": null,
      "outputs": [
        {
          "output_type": "display_data",
          "data": {
            "text/html": "1.95996398454005",
            "text/markdown": "1.95996398454005",
            "text/latex": "1.95996398454005",
            "text/plain": "[1] 1.959964"
          },
          "metadata": {}
        }
      ]
    },
    {
      "cell_type": "markdown",
      "source": [
        "![Região de Aceitação](https://caelum-online-public.s3.amazonaws.com/1229-estatistica-parte3/01/img006.png)"
      ],
      "metadata": {
        "id": "d98Z21yOpskB"
      }
    },
    {
      "cell_type": "markdown",
      "source": [
        "---"
      ],
      "metadata": {
        "id": "eyfX7pYMpskC"
      }
    },
    {
      "cell_type": "markdown",
      "source": [
        "### **Passo 4** - cálculo da estatística-teste e verificação desse valor com as áreas de aceitação e rejeição do teste\n",
        "\n",
        "# $$z = \\frac{\\bar{x} - \\mu_0}{\\frac{s}{\\sqrt{n}}}$$"
      ],
      "metadata": {
        "id": "aaLCZs0ApskC"
      }
    },
    {
      "cell_type": "code",
      "source": [
        "z <- (media_amostra - media) / (desvio_padrao_amostra / sqrt(n))\n",
        "z"
      ],
      "metadata": {
        "colab": {
          "base_uri": "https://localhost:8080/",
          "height": 35
        },
        "id": "a6zMj0YzpskC",
        "outputId": "83a2bb40-f67f-4ddc-dbd9-a88032f7dc86",
        "execution": {
          "iopub.status.busy": "2024-07-31T20:06:24.530699Z",
          "iopub.execute_input": "2024-07-31T20:06:24.536769Z",
          "iopub.status.idle": "2024-07-31T20:06:24.553323Z"
        },
        "trusted": true
      },
      "execution_count": null,
      "outputs": [
        {
          "output_type": "display_data",
          "data": {
            "text/html": "5.10955977599187",
            "text/markdown": "5.10955977599187",
            "text/latex": "5.10955977599187",
            "text/plain": "[1] 5.10956"
          },
          "metadata": {}
        }
      ]
    },
    {
      "cell_type": "markdown",
      "source": [
        "![Estatística-Teste](https://caelum-online-public.s3.amazonaws.com/1229-estatistica-parte3/01/img007.png)"
      ],
      "metadata": {
        "id": "UMHqgrlupskE"
      }
    },
    {
      "cell_type": "markdown",
      "source": [
        "---"
      ],
      "metadata": {
        "id": "tFfJX8G9pskF"
      }
    },
    {
      "cell_type": "markdown",
      "source": [
        "### **Passo 5** - Aceitação ou rejeição da hipótese nula"
      ],
      "metadata": {
        "id": "aqTnTTePpskF"
      }
    },
    {
      "cell_type": "markdown",
      "source": [
        "<img src='https://caelum-online-public.s3.amazonaws.com/1229-estatistica-parte3/01/img013.png' width=90%>"
      ],
      "metadata": {
        "id": "pD1cc4DHpskG"
      }
    },
    {
      "cell_type": "markdown",
      "source": [
        "### <font color='red'>Critério do valor crítico</font>\n",
        "\n",
        "> ### Teste Bicaudal\n",
        "> ### Rejeitar $H_0$ se $z \\leq -z_{\\alpha / 2}$ ou se $z \\geq z_{\\alpha / 2}$"
      ],
      "metadata": {
        "id": "qbnH6V15pskG"
      }
    },
    {
      "cell_type": "code",
      "source": [
        "z <= -z_alpha_2"
      ],
      "metadata": {
        "colab": {
          "base_uri": "https://localhost:8080/",
          "height": 35
        },
        "id": "-MkJyqSupskG",
        "outputId": "6495abcc-0c3f-4759-8a31-96d668ad2eff",
        "execution": {
          "iopub.status.busy": "2024-07-31T20:06:24.556123Z",
          "iopub.execute_input": "2024-07-31T20:06:24.557573Z",
          "iopub.status.idle": "2024-07-31T20:06:24.573107Z"
        },
        "trusted": true
      },
      "execution_count": null,
      "outputs": [
        {
          "output_type": "display_data",
          "data": {
            "text/html": "FALSE",
            "text/markdown": "FALSE",
            "text/latex": "FALSE",
            "text/plain": "[1] FALSE"
          },
          "metadata": {}
        }
      ]
    },
    {
      "cell_type": "code",
      "source": [
        "z >= z_alpha_2"
      ],
      "metadata": {
        "colab": {
          "base_uri": "https://localhost:8080/",
          "height": 35
        },
        "id": "FVTIIXA3pskI",
        "outputId": "8ec15147-9c1d-4fa0-fe26-8de8166f3ed6",
        "execution": {
          "iopub.status.busy": "2024-07-31T20:06:24.575826Z",
          "iopub.execute_input": "2024-07-31T20:06:24.577227Z",
          "iopub.status.idle": "2024-07-31T20:06:24.592669Z"
        },
        "trusted": true
      },
      "execution_count": null,
      "outputs": [
        {
          "output_type": "display_data",
          "data": {
            "text/html": "TRUE",
            "text/markdown": "TRUE",
            "text/latex": "TRUE",
            "text/plain": "[1] TRUE"
          },
          "metadata": {}
        }
      ]
    },
    {
      "cell_type": "code",
      "source": [
        "if(z <= -z_alpha_2 || z >= z_alpha_2){\n",
        "    'Rejeitar H0'\n",
        "}else{\n",
        "    'Aceitar H0'\n",
        "}"
      ],
      "metadata": {
        "execution": {
          "iopub.status.busy": "2024-07-31T20:06:24.595341Z",
          "iopub.execute_input": "2024-07-31T20:06:24.596850Z",
          "iopub.status.idle": "2024-07-31T20:06:24.611562Z"
        },
        "trusted": true,
        "id": "cE8JBZGW5ZbM",
        "outputId": "0a7fcdad-5fc2-45dd-911d-a77e37e4e770"
      },
      "execution_count": null,
      "outputs": [
        {
          "output_type": "display_data",
          "data": {
            "text/html": "'Rejeitar H0'",
            "text/markdown": "'Rejeitar H0'",
            "text/latex": "'Rejeitar H0'",
            "text/plain": "[1] \"Rejeitar H0\""
          },
          "metadata": {}
        }
      ]
    },
    {
      "cell_type": "markdown",
      "source": [
        "### <font color='green'>Conclusão: Como a média amostral $\\bar{x}$ é significativamente maior que 500 ml, rejeitamos $H_0$. Neste caso, devem ser tomadas providências para ajustar o maquinário que preenche as embalagens.</font>"
      ],
      "metadata": {
        "id": "YX-xSnZFpskM"
      }
    },
    {
      "cell_type": "markdown",
      "source": [
        "### <font color='red'>Critério do $p-valor$</font>\n",
        "\n",
        "> ### Teste Bicaudal\n",
        "> ### Rejeitar $H_0$ se o valor $p\\leq\\alpha$"
      ],
      "metadata": {
        "id": "Aqv_KZoYpskN"
      }
    },
    {
      "cell_type": "code",
      "source": [
        "p_valor <- 2 * (1 - pnorm(z))\n",
        "p_valor"
      ],
      "metadata": {
        "execution": {
          "iopub.status.busy": "2024-07-31T20:06:24.614128Z",
          "iopub.execute_input": "2024-07-31T20:06:24.615524Z",
          "iopub.status.idle": "2024-07-31T20:06:24.631718Z"
        },
        "trusted": true,
        "id": "c8X0li2_5ZbN",
        "outputId": "64a90cf1-8c7f-4e8a-aedb-699c92ceeb3b"
      },
      "execution_count": null,
      "outputs": [
        {
          "output_type": "display_data",
          "data": {
            "text/html": "3.22910317152036e-07",
            "text/markdown": "3.22910317152036e-07",
            "text/latex": "3.22910317152036e-07",
            "text/plain": "[1] 3.229103e-07"
          },
          "metadata": {}
        }
      ]
    },
    {
      "cell_type": "code",
      "source": [
        "p_valor <= significancia"
      ],
      "metadata": {
        "colab": {
          "base_uri": "https://localhost:8080/",
          "height": 35
        },
        "id": "vUHgYIHqpskR",
        "outputId": "b53d6bed-fcb0-41ae-ecf4-38e2dd1dcaec",
        "scrolled": true,
        "execution": {
          "iopub.status.busy": "2024-07-31T20:06:24.634284Z",
          "iopub.execute_input": "2024-07-31T20:06:24.635719Z",
          "iopub.status.idle": "2024-07-31T20:06:24.649490Z"
        },
        "trusted": true
      },
      "execution_count": null,
      "outputs": [
        {
          "output_type": "display_data",
          "data": {
            "text/html": "TRUE",
            "text/markdown": "TRUE",
            "text/latex": "TRUE",
            "text/plain": "[1] TRUE"
          },
          "metadata": {}
        }
      ]
    },
    {
      "cell_type": "markdown",
      "source": [
        "#### <font color=red>Documentações:\n",
        "\n",
        "- [**Normal**](https://www.rdocumentation.org/packages/stats/versions/3.6.1/topics/Normal)\n",
        "- [**ZTest**](https://www.rdocumentation.org/packages/DescTools/versions/0.99.19/topics/ZTest)"
      ],
      "metadata": {
        "id": "YRw1O5X8pskT"
      }
    },
    {
      "cell_type": "code",
      "source": [
        "# install.packages('DescTools')\n",
        "\n",
        "# OU\n",
        "\n",
        "# packageurl <- \"https://cran.r-project.org/src/contrib/Archive/DescTools/DescTools_0.99.30.tar.gz\"\n",
        "# install.packages(packageurl, repos=NULL, type=\"source\")"
      ],
      "metadata": {
        "execution": {
          "iopub.status.busy": "2024-07-31T20:06:24.652126Z",
          "iopub.execute_input": "2024-07-31T20:06:24.653539Z",
          "iopub.status.idle": "2024-07-31T20:06:24.663655Z"
        },
        "trusted": true,
        "id": "q5YhpVAG5ZbN"
      },
      "execution_count": null,
      "outputs": []
    },
    {
      "cell_type": "code",
      "source": [
        "library(DescTools)"
      ],
      "metadata": {
        "execution": {
          "iopub.status.busy": "2024-07-31T20:06:24.666218Z",
          "iopub.execute_input": "2024-07-31T20:06:24.667613Z",
          "iopub.status.idle": "2024-07-31T20:06:26.057783Z"
        },
        "trusted": true,
        "id": "2HPgd1lz5ZbN"
      },
      "execution_count": null,
      "outputs": []
    },
    {
      "cell_type": "code",
      "source": [
        "ZTest(amostra$Amostra, mu = media, sd_pop = desvio_padrao_amostra)"
      ],
      "metadata": {
        "execution": {
          "iopub.status.busy": "2024-07-31T20:06:26.060514Z",
          "iopub.execute_input": "2024-07-31T20:06:26.062401Z",
          "iopub.status.idle": "2024-07-31T20:06:26.078258Z"
        },
        "trusted": true,
        "id": "Lzelsc1r5ZbO",
        "outputId": "59986119-e89f-47da-f0bd-6f16340800fc"
      },
      "execution_count": null,
      "outputs": [
        {
          "output_type": "display_data",
          "data": {
            "text/plain": "\n\tOne Sample z-test\n\ndata:  amostra$Amostra\nz = 5.1096, Std. Dev. Population = 4.4838, p-value = 3.229e-07\nalternative hypothesis: true mean is not equal to 500\n95 percent confidence interval:\n 501.9972 504.4828\nsample estimates:\nmean of x \n   503.24 \n"
          },
          "metadata": {}
        }
      ]
    },
    {
      "cell_type": "code",
      "source": [
        "resultado <- ZTest(amostra$Amostra, mu = media, sd_pop = desvio_padrao_amostra)"
      ],
      "metadata": {
        "execution": {
          "iopub.status.busy": "2024-07-31T20:06:26.080888Z",
          "iopub.execute_input": "2024-07-31T20:06:26.082479Z",
          "iopub.status.idle": "2024-07-31T20:06:26.093971Z"
        },
        "trusted": true,
        "id": "BH-aLcq35ZbO"
      },
      "execution_count": null,
      "outputs": []
    },
    {
      "cell_type": "code",
      "source": [
        "resultado$statistic"
      ],
      "metadata": {
        "execution": {
          "iopub.status.busy": "2024-07-31T20:06:26.096592Z",
          "iopub.execute_input": "2024-07-31T20:06:26.098150Z",
          "iopub.status.idle": "2024-07-31T20:06:26.112243Z"
        },
        "trusted": true,
        "id": "E-j6NNie5ZbO",
        "outputId": "04031070-81a7-4844-9756-78a2ef1119b6"
      },
      "execution_count": null,
      "outputs": [
        {
          "output_type": "display_data",
          "data": {
            "text/html": "<strong>z:</strong> 5.10955977599187",
            "text/markdown": "**z:** 5.10955977599187",
            "text/latex": "\\textbf{z:} 5.10955977599187",
            "text/plain": "      z \n5.10956 "
          },
          "metadata": {}
        }
      ]
    },
    {
      "cell_type": "code",
      "source": [
        "z"
      ],
      "metadata": {
        "execution": {
          "iopub.status.busy": "2024-07-31T20:06:26.114900Z",
          "iopub.execute_input": "2024-07-31T20:06:26.116443Z",
          "iopub.status.idle": "2024-07-31T20:06:26.130747Z"
        },
        "trusted": true,
        "id": "QPX2gRlM5ZbO",
        "outputId": "05fc55e3-b46c-46d8-e1a6-0299c5b5b7d9"
      },
      "execution_count": null,
      "outputs": [
        {
          "output_type": "display_data",
          "data": {
            "text/html": "5.10955977599187",
            "text/markdown": "5.10955977599187",
            "text/latex": "5.10955977599187",
            "text/plain": "[1] 5.10956"
          },
          "metadata": {}
        }
      ]
    },
    {
      "cell_type": "code",
      "source": [
        "p_valor <- resultado$p.value\n",
        "p_valor"
      ],
      "metadata": {
        "execution": {
          "iopub.status.busy": "2024-07-31T20:06:26.133311Z",
          "iopub.execute_input": "2024-07-31T20:06:26.134741Z",
          "iopub.status.idle": "2024-07-31T20:06:26.150472Z"
        },
        "trusted": true,
        "id": "yY7E68hE5ZbP",
        "outputId": "649b18bc-99e5-4b58-b773-e0a471f206f2"
      },
      "execution_count": null,
      "outputs": [
        {
          "output_type": "display_data",
          "data": {
            "text/html": "3.22910317244578e-07",
            "text/markdown": "3.22910317244578e-07",
            "text/latex": "3.22910317244578e-07",
            "text/plain": "[1] 3.229103e-07"
          },
          "metadata": {}
        }
      ]
    },
    {
      "cell_type": "code",
      "source": [
        "p_valor <= significancia"
      ],
      "metadata": {
        "execution": {
          "iopub.status.busy": "2024-07-31T20:06:26.153057Z",
          "iopub.execute_input": "2024-07-31T20:06:26.154505Z",
          "iopub.status.idle": "2024-07-31T20:06:26.168540Z"
        },
        "trusted": true,
        "id": "aXxbWPae5ZbP",
        "outputId": "953e5cf6-9c7a-48ca-cb61-7e846623bfb8"
      },
      "execution_count": null,
      "outputs": [
        {
          "output_type": "display_data",
          "data": {
            "text/html": "TRUE",
            "text/markdown": "TRUE",
            "text/latex": "TRUE",
            "text/plain": "[1] TRUE"
          },
          "metadata": {}
        }
      ]
    },
    {
      "cell_type": "markdown",
      "source": [
        "---"
      ],
      "metadata": {
        "id": "YQQdl-Nepskv"
      }
    },
    {
      "cell_type": "markdown",
      "source": [
        "## <font color=green>3.2 Teste Unicaudal</font>\n",
        "***"
      ],
      "metadata": {
        "id": "U8OWXeVtpskv"
      }
    },
    {
      "cell_type": "markdown",
      "source": [
        "## <font color='red'>Problema</font>"
      ],
      "metadata": {
        "id": "CPHPL4nWpskw"
      }
    },
    {
      "cell_type": "markdown",
      "source": [
        "Um famoso fabricante de refrigerantes alega que uma lata de 350 ml de seu principal produto contém, **no máximo**, **37 gramas de açúcar**. Esta alegação nos leva a entender que a quantidade média de açúcar em uma lata de refrigerante deve ser **igual ou menor que 37 g**.\n",
        "\n",
        "Um consumidor desconfiado e com conhecimentos em inferência estatística resolve testar a alegação do fabricante e seleciona, aleatóriamente, em um conjunto de estabelecimentos distintos, **uma amostra de 25 latas** do refrigerante em questão. Utilizando o equipamento correto o consumidor obteve as quantidades de açúcar em todas as 25 latas de sua amostra.\n",
        "\n",
        "**Assumindo que essa população se distribua aproximadamente como uma normal e considerando um nível de significância de 5%, é possível aceitar como válida a alegação do fabricante?**"
      ],
      "metadata": {
        "id": "vDyxOXLvpskw"
      }
    },
    {
      "cell_type": "markdown",
      "source": [
        "### Construindo tabela $t$ de Student\n",
        "\n",
        "#### <font color=red>Documentações:\n",
        "\n",
        "- [**TDist**](https://www.rdocumentation.org/packages/stats/versions/3.6.1/topics/TDist)"
      ],
      "metadata": {
        "id": "5P5nWN0epsky"
      }
    },
    {
      "cell_type": "code",
      "source": [
        "q <- seq(0.05, 0.005, by = -0.005)\n",
        "df <- seq(1, 30, by = 1)\n",
        "probabilidade <- c()\n",
        "for(i in df){\n",
        "    for(j in q){\n",
        "        probabilidade <- c(probabilidade, qt(j, i, lower.tail = F))\n",
        "    }\n",
        "}\n",
        "tabela_t_student <- matrix(probabilidade, ncol=10, byrow=TRUE)\n",
        "colnames(tabela_t_student) <- format(q)\n",
        "rownames(tabela_t_student) <- format(df)\n",
        "tabela_t_student"
      ],
      "metadata": {
        "colab": {
          "base_uri": "https://localhost:8080/",
          "height": 1010
        },
        "id": "lKuhGKPEpsky",
        "outputId": "7ed95512-f283-465d-9a75-da2d3f0384b9",
        "execution": {
          "iopub.status.busy": "2024-07-31T20:06:26.171223Z",
          "iopub.execute_input": "2024-07-31T20:06:26.172670Z",
          "iopub.status.idle": "2024-07-31T20:06:26.240508Z"
        },
        "trusted": true
      },
      "execution_count": null,
      "outputs": [
        {
          "output_type": "display_data",
          "data": {
            "text/html": "<table class=\"dataframe\">\n<caption>A matrix: 30 × 10 of type dbl</caption>\n<thead>\n\t<tr><th></th><th scope=col>0.050</th><th scope=col>0.045</th><th scope=col>0.040</th><th scope=col>0.035</th><th scope=col>0.030</th><th scope=col>0.025</th><th scope=col>0.020</th><th scope=col>0.015</th><th scope=col>0.010</th><th scope=col>0.005</th></tr>\n</thead>\n<tbody>\n\t<tr><th scope=row> 1</th><td>6.313752</td><td>7.026366</td><td>7.915815</td><td>9.057887</td><td>10.578895</td><td>12.706205</td><td>15.894545</td><td>21.204949</td><td>31.820516</td><td>63.656741</td></tr>\n\t<tr><th scope=row> 2</th><td>2.919986</td><td>3.103977</td><td>3.319764</td><td>3.578247</td><td> 3.896425</td><td> 4.302653</td><td> 4.848732</td><td> 5.642778</td><td> 6.964557</td><td> 9.924843</td></tr>\n\t<tr><th scope=row> 3</th><td>2.353363</td><td>2.470807</td><td>2.605427</td><td>2.762599</td><td> 2.950510</td><td> 3.182446</td><td> 3.481909</td><td> 3.896046</td><td> 4.540703</td><td> 5.840909</td></tr>\n\t<tr><th scope=row> 4</th><td>2.131847</td><td>2.226100</td><td>2.332873</td><td>2.455892</td><td> 2.600762</td><td> 2.776445</td><td> 2.998528</td><td> 3.297630</td><td> 3.746947</td><td> 4.604095</td></tr>\n\t<tr><th scope=row> 5</th><td>2.015048</td><td>2.097837</td><td>2.190958</td><td>2.297392</td><td> 2.421585</td><td> 2.570582</td><td> 2.756509</td><td> 3.002875</td><td> 3.364930</td><td> 4.032143</td></tr>\n\t<tr><th scope=row> 6</th><td>1.943180</td><td>2.019201</td><td>2.104306</td><td>2.201059</td><td> 2.313263</td><td> 2.446912</td><td> 2.612242</td><td> 2.828928</td><td> 3.142668</td><td> 3.707428</td></tr>\n\t<tr><th scope=row> 7</th><td>1.894579</td><td>1.966153</td><td>2.046011</td><td>2.136453</td><td> 2.240879</td><td> 2.364624</td><td> 2.516752</td><td> 2.714573</td><td> 2.997952</td><td> 3.499483</td></tr>\n\t<tr><th scope=row> 8</th><td>1.859548</td><td>1.927986</td><td>2.004152</td><td>2.090166</td><td> 2.189155</td><td> 2.306004</td><td> 2.448985</td><td> 2.633814</td><td> 2.896459</td><td> 3.355387</td></tr>\n\t<tr><th scope=row> 9</th><td>1.833113</td><td>1.899222</td><td>1.972653</td><td>2.055395</td><td> 2.150375</td><td> 2.262157</td><td> 2.398441</td><td> 2.573804</td><td> 2.821438</td><td> 3.249836</td></tr>\n\t<tr><th scope=row>10</th><td>1.812461</td><td>1.876774</td><td>1.948099</td><td>2.028327</td><td> 2.120234</td><td> 2.228139</td><td> 2.359315</td><td> 2.527484</td><td> 2.763769</td><td> 3.169273</td></tr>\n\t<tr><th scope=row>11</th><td>1.795885</td><td>1.858772</td><td>1.928427</td><td>2.006663</td><td> 2.096139</td><td> 2.200985</td><td> 2.328140</td><td> 2.490664</td><td> 2.718079</td><td> 3.105807</td></tr>\n\t<tr><th scope=row>12</th><td>1.782288</td><td>1.844015</td><td>1.912313</td><td>1.988934</td><td> 2.076441</td><td> 2.178813</td><td> 2.302722</td><td> 2.460700</td><td> 2.680998</td><td> 3.054540</td></tr>\n\t<tr><th scope=row>13</th><td>1.770933</td><td>1.831700</td><td>1.898874</td><td>1.974158</td><td> 2.060038</td><td> 2.160369</td><td> 2.281604</td><td> 2.435845</td><td> 2.650309</td><td> 3.012276</td></tr>\n\t<tr><th scope=row>14</th><td>1.761310</td><td>1.821267</td><td>1.887496</td><td>1.961656</td><td> 2.046169</td><td> 2.144787</td><td> 2.263781</td><td> 2.414898</td><td> 2.624494</td><td> 2.976843</td></tr>\n\t<tr><th scope=row>15</th><td>1.753050</td><td>1.812316</td><td>1.877739</td><td>1.950940</td><td> 2.034289</td><td> 2.131450</td><td> 2.248540</td><td> 2.397005</td><td> 2.602480</td><td> 2.946713</td></tr>\n\t<tr><th scope=row>16</th><td>1.745884</td><td>1.804553</td><td>1.869279</td><td>1.941654</td><td> 2.024000</td><td> 2.119905</td><td> 2.235358</td><td> 2.381545</td><td> 2.583487</td><td> 2.920782</td></tr>\n\t<tr><th scope=row>17</th><td>1.739607</td><td>1.797755</td><td>1.861875</td><td>1.933530</td><td> 2.015002</td><td> 2.109816</td><td> 2.223845</td><td> 2.368055</td><td> 2.566934</td><td> 2.898231</td></tr>\n\t<tr><th scope=row>18</th><td>1.734064</td><td>1.791754</td><td>1.855340</td><td>1.926362</td><td> 2.007067</td><td> 2.100922</td><td> 2.213703</td><td> 2.356180</td><td> 2.552380</td><td> 2.878440</td></tr>\n\t<tr><th scope=row>19</th><td>1.729133</td><td>1.786417</td><td>1.849530</td><td>1.919992</td><td> 2.000017</td><td> 2.093024</td><td> 2.204701</td><td> 2.345648</td><td> 2.539483</td><td> 2.860935</td></tr>\n\t<tr><th scope=row>20</th><td>1.724718</td><td>1.781640</td><td>1.844331</td><td>1.914292</td><td> 1.993713</td><td> 2.085963</td><td> 2.196658</td><td> 2.336242</td><td> 2.527977</td><td> 2.845340</td></tr>\n\t<tr><th scope=row>21</th><td>1.720743</td><td>1.777339</td><td>1.839651</td><td>1.909164</td><td> 1.988041</td><td> 2.079614</td><td> 2.189427</td><td> 2.327792</td><td> 2.517648</td><td> 2.831360</td></tr>\n\t<tr><th scope=row>22</th><td>1.717144</td><td>1.773447</td><td>1.835417</td><td>1.904524</td><td> 1.982911</td><td> 2.073873</td><td> 2.182893</td><td> 2.320160</td><td> 2.508325</td><td> 2.818756</td></tr>\n\t<tr><th scope=row>23</th><td>1.713872</td><td>1.769907</td><td>1.831567</td><td>1.900307</td><td> 1.978249</td><td> 2.068658</td><td> 2.176958</td><td> 2.313231</td><td> 2.499867</td><td> 2.807336</td></tr>\n\t<tr><th scope=row>24</th><td>1.710882</td><td>1.766675</td><td>1.828051</td><td>1.896457</td><td> 1.973994</td><td> 2.063899</td><td> 2.171545</td><td> 2.306913</td><td> 2.492159</td><td> 2.796940</td></tr>\n\t<tr><th scope=row>25</th><td>1.708141</td><td>1.763711</td><td>1.824828</td><td>1.892928</td><td> 1.970095</td><td> 2.059539</td><td> 2.166587</td><td> 2.301130</td><td> 2.485107</td><td> 2.787436</td></tr>\n\t<tr><th scope=row>26</th><td>1.705618</td><td>1.760983</td><td>1.821863</td><td>1.889682</td><td> 1.966509</td><td> 2.055529</td><td> 2.162029</td><td> 2.295815</td><td> 2.478630</td><td> 2.778715</td></tr>\n\t<tr><th scope=row>27</th><td>1.703288</td><td>1.758466</td><td>1.819126</td><td>1.886686</td><td> 1.963200</td><td> 2.051831</td><td> 2.157825</td><td> 2.290914</td><td> 2.472660</td><td> 2.770683</td></tr>\n\t<tr><th scope=row>28</th><td>1.701131</td><td>1.756134</td><td>1.816592</td><td>1.883912</td><td> 1.960136</td><td> 2.048407</td><td> 2.153935</td><td> 2.286380</td><td> 2.467140</td><td> 2.763262</td></tr>\n\t<tr><th scope=row>29</th><td>1.699127</td><td>1.753968</td><td>1.814238</td><td>1.881336</td><td> 1.957293</td><td> 2.045230</td><td> 2.150325</td><td> 2.282175</td><td> 2.462021</td><td> 2.756386</td></tr>\n\t<tr><th scope=row>30</th><td>1.697261</td><td>1.751952</td><td>1.812047</td><td>1.878938</td><td> 1.954645</td><td> 2.042272</td><td> 2.146966</td><td> 2.278262</td><td> 2.457262</td><td> 2.749996</td></tr>\n</tbody>\n</table>\n",
            "text/markdown": "\nA matrix: 30 × 10 of type dbl\n\n| <!--/--> | 0.050 | 0.045 | 0.040 | 0.035 | 0.030 | 0.025 | 0.020 | 0.015 | 0.010 | 0.005 |\n|---|---|---|---|---|---|---|---|---|---|---|\n|  1 | 6.313752 | 7.026366 | 7.915815 | 9.057887 | 10.578895 | 12.706205 | 15.894545 | 21.204949 | 31.820516 | 63.656741 |\n|  2 | 2.919986 | 3.103977 | 3.319764 | 3.578247 |  3.896425 |  4.302653 |  4.848732 |  5.642778 |  6.964557 |  9.924843 |\n|  3 | 2.353363 | 2.470807 | 2.605427 | 2.762599 |  2.950510 |  3.182446 |  3.481909 |  3.896046 |  4.540703 |  5.840909 |\n|  4 | 2.131847 | 2.226100 | 2.332873 | 2.455892 |  2.600762 |  2.776445 |  2.998528 |  3.297630 |  3.746947 |  4.604095 |\n|  5 | 2.015048 | 2.097837 | 2.190958 | 2.297392 |  2.421585 |  2.570582 |  2.756509 |  3.002875 |  3.364930 |  4.032143 |\n|  6 | 1.943180 | 2.019201 | 2.104306 | 2.201059 |  2.313263 |  2.446912 |  2.612242 |  2.828928 |  3.142668 |  3.707428 |\n|  7 | 1.894579 | 1.966153 | 2.046011 | 2.136453 |  2.240879 |  2.364624 |  2.516752 |  2.714573 |  2.997952 |  3.499483 |\n|  8 | 1.859548 | 1.927986 | 2.004152 | 2.090166 |  2.189155 |  2.306004 |  2.448985 |  2.633814 |  2.896459 |  3.355387 |\n|  9 | 1.833113 | 1.899222 | 1.972653 | 2.055395 |  2.150375 |  2.262157 |  2.398441 |  2.573804 |  2.821438 |  3.249836 |\n| 10 | 1.812461 | 1.876774 | 1.948099 | 2.028327 |  2.120234 |  2.228139 |  2.359315 |  2.527484 |  2.763769 |  3.169273 |\n| 11 | 1.795885 | 1.858772 | 1.928427 | 2.006663 |  2.096139 |  2.200985 |  2.328140 |  2.490664 |  2.718079 |  3.105807 |\n| 12 | 1.782288 | 1.844015 | 1.912313 | 1.988934 |  2.076441 |  2.178813 |  2.302722 |  2.460700 |  2.680998 |  3.054540 |\n| 13 | 1.770933 | 1.831700 | 1.898874 | 1.974158 |  2.060038 |  2.160369 |  2.281604 |  2.435845 |  2.650309 |  3.012276 |\n| 14 | 1.761310 | 1.821267 | 1.887496 | 1.961656 |  2.046169 |  2.144787 |  2.263781 |  2.414898 |  2.624494 |  2.976843 |\n| 15 | 1.753050 | 1.812316 | 1.877739 | 1.950940 |  2.034289 |  2.131450 |  2.248540 |  2.397005 |  2.602480 |  2.946713 |\n| 16 | 1.745884 | 1.804553 | 1.869279 | 1.941654 |  2.024000 |  2.119905 |  2.235358 |  2.381545 |  2.583487 |  2.920782 |\n| 17 | 1.739607 | 1.797755 | 1.861875 | 1.933530 |  2.015002 |  2.109816 |  2.223845 |  2.368055 |  2.566934 |  2.898231 |\n| 18 | 1.734064 | 1.791754 | 1.855340 | 1.926362 |  2.007067 |  2.100922 |  2.213703 |  2.356180 |  2.552380 |  2.878440 |\n| 19 | 1.729133 | 1.786417 | 1.849530 | 1.919992 |  2.000017 |  2.093024 |  2.204701 |  2.345648 |  2.539483 |  2.860935 |\n| 20 | 1.724718 | 1.781640 | 1.844331 | 1.914292 |  1.993713 |  2.085963 |  2.196658 |  2.336242 |  2.527977 |  2.845340 |\n| 21 | 1.720743 | 1.777339 | 1.839651 | 1.909164 |  1.988041 |  2.079614 |  2.189427 |  2.327792 |  2.517648 |  2.831360 |\n| 22 | 1.717144 | 1.773447 | 1.835417 | 1.904524 |  1.982911 |  2.073873 |  2.182893 |  2.320160 |  2.508325 |  2.818756 |\n| 23 | 1.713872 | 1.769907 | 1.831567 | 1.900307 |  1.978249 |  2.068658 |  2.176958 |  2.313231 |  2.499867 |  2.807336 |\n| 24 | 1.710882 | 1.766675 | 1.828051 | 1.896457 |  1.973994 |  2.063899 |  2.171545 |  2.306913 |  2.492159 |  2.796940 |\n| 25 | 1.708141 | 1.763711 | 1.824828 | 1.892928 |  1.970095 |  2.059539 |  2.166587 |  2.301130 |  2.485107 |  2.787436 |\n| 26 | 1.705618 | 1.760983 | 1.821863 | 1.889682 |  1.966509 |  2.055529 |  2.162029 |  2.295815 |  2.478630 |  2.778715 |\n| 27 | 1.703288 | 1.758466 | 1.819126 | 1.886686 |  1.963200 |  2.051831 |  2.157825 |  2.290914 |  2.472660 |  2.770683 |\n| 28 | 1.701131 | 1.756134 | 1.816592 | 1.883912 |  1.960136 |  2.048407 |  2.153935 |  2.286380 |  2.467140 |  2.763262 |\n| 29 | 1.699127 | 1.753968 | 1.814238 | 1.881336 |  1.957293 |  2.045230 |  2.150325 |  2.282175 |  2.462021 |  2.756386 |\n| 30 | 1.697261 | 1.751952 | 1.812047 | 1.878938 |  1.954645 |  2.042272 |  2.146966 |  2.278262 |  2.457262 |  2.749996 |\n\n",
            "text/latex": "A matrix: 30 × 10 of type dbl\n\\begin{tabular}{r|llllllllll}\n  & 0.050 & 0.045 & 0.040 & 0.035 & 0.030 & 0.025 & 0.020 & 0.015 & 0.010 & 0.005\\\\\n\\hline\n\t 1 & 6.313752 & 7.026366 & 7.915815 & 9.057887 & 10.578895 & 12.706205 & 15.894545 & 21.204949 & 31.820516 & 63.656741\\\\\n\t 2 & 2.919986 & 3.103977 & 3.319764 & 3.578247 &  3.896425 &  4.302653 &  4.848732 &  5.642778 &  6.964557 &  9.924843\\\\\n\t 3 & 2.353363 & 2.470807 & 2.605427 & 2.762599 &  2.950510 &  3.182446 &  3.481909 &  3.896046 &  4.540703 &  5.840909\\\\\n\t 4 & 2.131847 & 2.226100 & 2.332873 & 2.455892 &  2.600762 &  2.776445 &  2.998528 &  3.297630 &  3.746947 &  4.604095\\\\\n\t 5 & 2.015048 & 2.097837 & 2.190958 & 2.297392 &  2.421585 &  2.570582 &  2.756509 &  3.002875 &  3.364930 &  4.032143\\\\\n\t 6 & 1.943180 & 2.019201 & 2.104306 & 2.201059 &  2.313263 &  2.446912 &  2.612242 &  2.828928 &  3.142668 &  3.707428\\\\\n\t 7 & 1.894579 & 1.966153 & 2.046011 & 2.136453 &  2.240879 &  2.364624 &  2.516752 &  2.714573 &  2.997952 &  3.499483\\\\\n\t 8 & 1.859548 & 1.927986 & 2.004152 & 2.090166 &  2.189155 &  2.306004 &  2.448985 &  2.633814 &  2.896459 &  3.355387\\\\\n\t 9 & 1.833113 & 1.899222 & 1.972653 & 2.055395 &  2.150375 &  2.262157 &  2.398441 &  2.573804 &  2.821438 &  3.249836\\\\\n\t10 & 1.812461 & 1.876774 & 1.948099 & 2.028327 &  2.120234 &  2.228139 &  2.359315 &  2.527484 &  2.763769 &  3.169273\\\\\n\t11 & 1.795885 & 1.858772 & 1.928427 & 2.006663 &  2.096139 &  2.200985 &  2.328140 &  2.490664 &  2.718079 &  3.105807\\\\\n\t12 & 1.782288 & 1.844015 & 1.912313 & 1.988934 &  2.076441 &  2.178813 &  2.302722 &  2.460700 &  2.680998 &  3.054540\\\\\n\t13 & 1.770933 & 1.831700 & 1.898874 & 1.974158 &  2.060038 &  2.160369 &  2.281604 &  2.435845 &  2.650309 &  3.012276\\\\\n\t14 & 1.761310 & 1.821267 & 1.887496 & 1.961656 &  2.046169 &  2.144787 &  2.263781 &  2.414898 &  2.624494 &  2.976843\\\\\n\t15 & 1.753050 & 1.812316 & 1.877739 & 1.950940 &  2.034289 &  2.131450 &  2.248540 &  2.397005 &  2.602480 &  2.946713\\\\\n\t16 & 1.745884 & 1.804553 & 1.869279 & 1.941654 &  2.024000 &  2.119905 &  2.235358 &  2.381545 &  2.583487 &  2.920782\\\\\n\t17 & 1.739607 & 1.797755 & 1.861875 & 1.933530 &  2.015002 &  2.109816 &  2.223845 &  2.368055 &  2.566934 &  2.898231\\\\\n\t18 & 1.734064 & 1.791754 & 1.855340 & 1.926362 &  2.007067 &  2.100922 &  2.213703 &  2.356180 &  2.552380 &  2.878440\\\\\n\t19 & 1.729133 & 1.786417 & 1.849530 & 1.919992 &  2.000017 &  2.093024 &  2.204701 &  2.345648 &  2.539483 &  2.860935\\\\\n\t20 & 1.724718 & 1.781640 & 1.844331 & 1.914292 &  1.993713 &  2.085963 &  2.196658 &  2.336242 &  2.527977 &  2.845340\\\\\n\t21 & 1.720743 & 1.777339 & 1.839651 & 1.909164 &  1.988041 &  2.079614 &  2.189427 &  2.327792 &  2.517648 &  2.831360\\\\\n\t22 & 1.717144 & 1.773447 & 1.835417 & 1.904524 &  1.982911 &  2.073873 &  2.182893 &  2.320160 &  2.508325 &  2.818756\\\\\n\t23 & 1.713872 & 1.769907 & 1.831567 & 1.900307 &  1.978249 &  2.068658 &  2.176958 &  2.313231 &  2.499867 &  2.807336\\\\\n\t24 & 1.710882 & 1.766675 & 1.828051 & 1.896457 &  1.973994 &  2.063899 &  2.171545 &  2.306913 &  2.492159 &  2.796940\\\\\n\t25 & 1.708141 & 1.763711 & 1.824828 & 1.892928 &  1.970095 &  2.059539 &  2.166587 &  2.301130 &  2.485107 &  2.787436\\\\\n\t26 & 1.705618 & 1.760983 & 1.821863 & 1.889682 &  1.966509 &  2.055529 &  2.162029 &  2.295815 &  2.478630 &  2.778715\\\\\n\t27 & 1.703288 & 1.758466 & 1.819126 & 1.886686 &  1.963200 &  2.051831 &  2.157825 &  2.290914 &  2.472660 &  2.770683\\\\\n\t28 & 1.701131 & 1.756134 & 1.816592 & 1.883912 &  1.960136 &  2.048407 &  2.153935 &  2.286380 &  2.467140 &  2.763262\\\\\n\t29 & 1.699127 & 1.753968 & 1.814238 & 1.881336 &  1.957293 &  2.045230 &  2.150325 &  2.282175 &  2.462021 &  2.756386\\\\\n\t30 & 1.697261 & 1.751952 & 1.812047 & 1.878938 &  1.954645 &  2.042272 &  2.146966 &  2.278262 &  2.457262 &  2.749996\\\\\n\\end{tabular}\n",
            "text/plain": "   0.050    0.045    0.040    0.035    0.030     0.025     0.020     0.015    \n 1 6.313752 7.026366 7.915815 9.057887 10.578895 12.706205 15.894545 21.204949\n 2 2.919986 3.103977 3.319764 3.578247  3.896425  4.302653  4.848732  5.642778\n 3 2.353363 2.470807 2.605427 2.762599  2.950510  3.182446  3.481909  3.896046\n 4 2.131847 2.226100 2.332873 2.455892  2.600762  2.776445  2.998528  3.297630\n 5 2.015048 2.097837 2.190958 2.297392  2.421585  2.570582  2.756509  3.002875\n 6 1.943180 2.019201 2.104306 2.201059  2.313263  2.446912  2.612242  2.828928\n 7 1.894579 1.966153 2.046011 2.136453  2.240879  2.364624  2.516752  2.714573\n 8 1.859548 1.927986 2.004152 2.090166  2.189155  2.306004  2.448985  2.633814\n 9 1.833113 1.899222 1.972653 2.055395  2.150375  2.262157  2.398441  2.573804\n10 1.812461 1.876774 1.948099 2.028327  2.120234  2.228139  2.359315  2.527484\n11 1.795885 1.858772 1.928427 2.006663  2.096139  2.200985  2.328140  2.490664\n12 1.782288 1.844015 1.912313 1.988934  2.076441  2.178813  2.302722  2.460700\n13 1.770933 1.831700 1.898874 1.974158  2.060038  2.160369  2.281604  2.435845\n14 1.761310 1.821267 1.887496 1.961656  2.046169  2.144787  2.263781  2.414898\n15 1.753050 1.812316 1.877739 1.950940  2.034289  2.131450  2.248540  2.397005\n16 1.745884 1.804553 1.869279 1.941654  2.024000  2.119905  2.235358  2.381545\n17 1.739607 1.797755 1.861875 1.933530  2.015002  2.109816  2.223845  2.368055\n18 1.734064 1.791754 1.855340 1.926362  2.007067  2.100922  2.213703  2.356180\n19 1.729133 1.786417 1.849530 1.919992  2.000017  2.093024  2.204701  2.345648\n20 1.724718 1.781640 1.844331 1.914292  1.993713  2.085963  2.196658  2.336242\n21 1.720743 1.777339 1.839651 1.909164  1.988041  2.079614  2.189427  2.327792\n22 1.717144 1.773447 1.835417 1.904524  1.982911  2.073873  2.182893  2.320160\n23 1.713872 1.769907 1.831567 1.900307  1.978249  2.068658  2.176958  2.313231\n24 1.710882 1.766675 1.828051 1.896457  1.973994  2.063899  2.171545  2.306913\n25 1.708141 1.763711 1.824828 1.892928  1.970095  2.059539  2.166587  2.301130\n26 1.705618 1.760983 1.821863 1.889682  1.966509  2.055529  2.162029  2.295815\n27 1.703288 1.758466 1.819126 1.886686  1.963200  2.051831  2.157825  2.290914\n28 1.701131 1.756134 1.816592 1.883912  1.960136  2.048407  2.153935  2.286380\n29 1.699127 1.753968 1.814238 1.881336  1.957293  2.045230  2.150325  2.282175\n30 1.697261 1.751952 1.812047 1.878938  1.954645  2.042272  2.146966  2.278262\n   0.010     0.005    \n 1 31.820516 63.656741\n 2  6.964557  9.924843\n 3  4.540703  5.840909\n 4  3.746947  4.604095\n 5  3.364930  4.032143\n 6  3.142668  3.707428\n 7  2.997952  3.499483\n 8  2.896459  3.355387\n 9  2.821438  3.249836\n10  2.763769  3.169273\n11  2.718079  3.105807\n12  2.680998  3.054540\n13  2.650309  3.012276\n14  2.624494  2.976843\n15  2.602480  2.946713\n16  2.583487  2.920782\n17  2.566934  2.898231\n18  2.552380  2.878440\n19  2.539483  2.860935\n20  2.527977  2.845340\n21  2.517648  2.831360\n22  2.508325  2.818756\n23  2.499867  2.807336\n24  2.492159  2.796940\n25  2.485107  2.787436\n26  2.478630  2.778715\n27  2.472660  2.770683\n28  2.467140  2.763262\n29  2.462021  2.756386\n30  2.457262  2.749996"
          },
          "metadata": {}
        }
      ]
    },
    {
      "cell_type": "markdown",
      "source": [
        "<img src='https://caelum-online-public.s3.amazonaws.com/1229-estatistica-parte3/01/img004.png' width='250px'>\n",
        "\n",
        "As células da tabela acima são valores de $t$ para uma área ou probabilidade na cauda superior da distribuição $t$."
      ],
      "metadata": {
        "id": "MbVu6FdNpsk0"
      }
    },
    {
      "cell_type": "markdown",
      "source": [
        "---"
      ],
      "metadata": {
        "id": "UXM3qdYUpsk0"
      }
    },
    {
      "cell_type": "markdown",
      "source": [
        "Os **testes unicaudais** verificam as variáveis em relação a um piso ou a um teto e avaliam os valores máximos ou mínimos esperados para os parâmetros em estudo e a chance de as estatísticas amostrais serem inferiores ou superiores a dado limite."
      ],
      "metadata": {
        "id": "dDbUKs7-psk0"
      }
    },
    {
      "cell_type": "markdown",
      "source": [
        "<img src='https://caelum-online-public.s3.amazonaws.com/1229-estatistica-parte3/01/img008.png' width='700px'>"
      ],
      "metadata": {
        "id": "AvnFJnUrpsk1"
      }
    },
    {
      "cell_type": "markdown",
      "source": [
        "### Dados do problema"
      ],
      "metadata": {
        "id": "IgDg23Xppsk1"
      }
    },
    {
      "cell_type": "code",
      "source": [
        "amostra <- c(37.27, 36.42, 34.84, 34.60, 37.49,\n",
        "           36.53, 35.49, 36.90, 34.52, 37.30,\n",
        "           34.99, 36.55, 36.29, 36.06, 37.42,\n",
        "           34.47, 36.70, 35.86, 36.80, 36.92,\n",
        "           37.04, 36.39, 37.32, 36.64, 35.45)"
      ],
      "metadata": {
        "id": "IKvYICfEpsk2",
        "execution": {
          "iopub.status.busy": "2024-07-31T20:06:26.243148Z",
          "iopub.execute_input": "2024-07-31T20:06:26.244723Z",
          "iopub.status.idle": "2024-07-31T20:06:26.256267Z"
        },
        "trusted": true
      },
      "execution_count": null,
      "outputs": []
    },
    {
      "cell_type": "code",
      "source": [
        "amostra <- data.frame(Amostra = amostra)\n",
        "amostra"
      ],
      "metadata": {
        "colab": {
          "base_uri": "https://localhost:8080/",
          "height": 824
        },
        "id": "CBuciT30psk3",
        "outputId": "28df5179-0f8c-42e1-fe69-a3b02280f45f",
        "execution": {
          "iopub.status.busy": "2024-07-31T20:06:26.258882Z",
          "iopub.execute_input": "2024-07-31T20:06:26.260450Z",
          "iopub.status.idle": "2024-07-31T20:06:26.299483Z"
        },
        "trusted": true
      },
      "execution_count": null,
      "outputs": [
        {
          "output_type": "display_data",
          "data": {
            "text/html": "<table class=\"dataframe\">\n<caption>A data.frame: 25 × 1</caption>\n<thead>\n\t<tr><th scope=col>Amostra</th></tr>\n\t<tr><th scope=col>&lt;dbl&gt;</th></tr>\n</thead>\n<tbody>\n\t<tr><td>37.27</td></tr>\n\t<tr><td>36.42</td></tr>\n\t<tr><td>34.84</td></tr>\n\t<tr><td>34.60</td></tr>\n\t<tr><td>37.49</td></tr>\n\t<tr><td>36.53</td></tr>\n\t<tr><td>35.49</td></tr>\n\t<tr><td>36.90</td></tr>\n\t<tr><td>34.52</td></tr>\n\t<tr><td>37.30</td></tr>\n\t<tr><td>34.99</td></tr>\n\t<tr><td>36.55</td></tr>\n\t<tr><td>36.29</td></tr>\n\t<tr><td>36.06</td></tr>\n\t<tr><td>37.42</td></tr>\n\t<tr><td>34.47</td></tr>\n\t<tr><td>36.70</td></tr>\n\t<tr><td>35.86</td></tr>\n\t<tr><td>36.80</td></tr>\n\t<tr><td>36.92</td></tr>\n\t<tr><td>37.04</td></tr>\n\t<tr><td>36.39</td></tr>\n\t<tr><td>37.32</td></tr>\n\t<tr><td>36.64</td></tr>\n\t<tr><td>35.45</td></tr>\n</tbody>\n</table>\n",
            "text/markdown": "\nA data.frame: 25 × 1\n\n| Amostra &lt;dbl&gt; |\n|---|\n| 37.27 |\n| 36.42 |\n| 34.84 |\n| 34.60 |\n| 37.49 |\n| 36.53 |\n| 35.49 |\n| 36.90 |\n| 34.52 |\n| 37.30 |\n| 34.99 |\n| 36.55 |\n| 36.29 |\n| 36.06 |\n| 37.42 |\n| 34.47 |\n| 36.70 |\n| 35.86 |\n| 36.80 |\n| 36.92 |\n| 37.04 |\n| 36.39 |\n| 37.32 |\n| 36.64 |\n| 35.45 |\n\n",
            "text/latex": "A data.frame: 25 × 1\n\\begin{tabular}{l}\n Amostra\\\\\n <dbl>\\\\\n\\hline\n\t 37.27\\\\\n\t 36.42\\\\\n\t 34.84\\\\\n\t 34.60\\\\\n\t 37.49\\\\\n\t 36.53\\\\\n\t 35.49\\\\\n\t 36.90\\\\\n\t 34.52\\\\\n\t 37.30\\\\\n\t 34.99\\\\\n\t 36.55\\\\\n\t 36.29\\\\\n\t 36.06\\\\\n\t 37.42\\\\\n\t 34.47\\\\\n\t 36.70\\\\\n\t 35.86\\\\\n\t 36.80\\\\\n\t 36.92\\\\\n\t 37.04\\\\\n\t 36.39\\\\\n\t 37.32\\\\\n\t 36.64\\\\\n\t 35.45\\\\\n\\end{tabular}\n",
            "text/plain": "   Amostra\n1  37.27  \n2  36.42  \n3  34.84  \n4  34.60  \n5  37.49  \n6  36.53  \n7  35.49  \n8  36.90  \n9  34.52  \n10 37.30  \n11 34.99  \n12 36.55  \n13 36.29  \n14 36.06  \n15 37.42  \n16 34.47  \n17 36.70  \n18 35.86  \n19 36.80  \n20 36.92  \n21 37.04  \n22 36.39  \n23 37.32  \n24 36.64  \n25 35.45  "
          },
          "metadata": {}
        }
      ]
    },
    {
      "cell_type": "code",
      "source": [
        "media_amostra <- mean(amostra$Amostra)\n",
        "media_amostra"
      ],
      "metadata": {
        "colab": {
          "base_uri": "https://localhost:8080/",
          "height": 35
        },
        "id": "79TBzFsdpsk4",
        "outputId": "9af134c0-aee3-4394-a188-347978abdd80",
        "execution": {
          "iopub.status.busy": "2024-07-31T20:06:26.302199Z",
          "iopub.execute_input": "2024-07-31T20:06:26.303647Z",
          "iopub.status.idle": "2024-07-31T20:06:26.320737Z"
        },
        "trusted": true
      },
      "execution_count": null,
      "outputs": [
        {
          "output_type": "display_data",
          "data": {
            "text/html": "36.2504",
            "text/markdown": "36.2504",
            "text/latex": "36.2504",
            "text/plain": "[1] 36.2504"
          },
          "metadata": {}
        }
      ]
    },
    {
      "cell_type": "code",
      "source": [
        "desvio_padrao_amostra <- sd(amostra$Amostra)\n",
        "desvio_padrao_amostra"
      ],
      "metadata": {
        "colab": {
          "base_uri": "https://localhost:8080/",
          "height": 35
        },
        "id": "S82xbyghpsk6",
        "outputId": "e7b2b235-1352-4a9b-95ae-111dec8f65a0",
        "scrolled": true,
        "execution": {
          "iopub.status.busy": "2024-07-31T20:06:26.323632Z",
          "iopub.execute_input": "2024-07-31T20:06:26.325146Z",
          "iopub.status.idle": "2024-07-31T20:06:26.342038Z"
        },
        "trusted": true
      },
      "execution_count": null,
      "outputs": [
        {
          "output_type": "display_data",
          "data": {
            "text/html": "0.966753501846946",
            "text/markdown": "0.966753501846946",
            "text/latex": "0.966753501846946",
            "text/plain": "[1] 0.9667535"
          },
          "metadata": {}
        }
      ]
    },
    {
      "cell_type": "code",
      "source": [
        "media <- 37\n",
        "significancia <- 0.05\n",
        "confianca <- 1 - significancia\n",
        "n <- 25\n",
        "graus_de_liberdade <- n - 1"
      ],
      "metadata": {
        "id": "mvtiwLUWpsk8",
        "execution": {
          "iopub.status.busy": "2024-07-31T20:06:26.344759Z",
          "iopub.execute_input": "2024-07-31T20:06:26.346234Z",
          "iopub.status.idle": "2024-07-31T20:06:26.365175Z"
        },
        "trusted": true
      },
      "execution_count": null,
      "outputs": []
    },
    {
      "cell_type": "markdown",
      "source": [
        "### **Passo 1** - formulação das hipóteses $H_0$ e $H_1$"
      ],
      "metadata": {
        "id": "rpLOiPU2psk9"
      }
    },
    {
      "cell_type": "markdown",
      "source": [
        "\n",
        "#### <font color='red'>Lembre-se, a hipótese nula sempre contém a alegação de igualdade</font>"
      ],
      "metadata": {
        "id": "iMBi2jUfsc4s"
      }
    },
    {
      "cell_type": "markdown",
      "source": [
        "### $H_0: \\mu \\leq 37$\n",
        "\n",
        "### $H_1: \\mu > 37$"
      ],
      "metadata": {
        "id": "8roeH10fpsk-"
      }
    },
    {
      "cell_type": "markdown",
      "source": [
        "---"
      ],
      "metadata": {
        "id": "uqE6JXGspsk-"
      }
    },
    {
      "cell_type": "markdown",
      "source": [
        "### **Passo 2** - escolha da distribuição amostral adequada\n",
        "<img src='https://caelum-online-public.s3.amazonaws.com/1229-estatistica-parte3/01/img003.png' width=70%>"
      ],
      "metadata": {
        "id": "XsOkFtncpsk_"
      }
    },
    {
      "cell_type": "markdown",
      "source": [
        "### O tamanho da amostra é maior que 30?\n",
        "#### Resp.: Não\n",
        "\n",
        "### Podemos afirmar que a população se distribui aproximadamente como uma normal?\n",
        "#### Resp.: Sim\n",
        "\n",
        "### O desvio padrão populacional é conhecido?\n",
        "#### Resp.: Não"
      ],
      "metadata": {
        "id": "jpXjRqO2psk_"
      }
    },
    {
      "cell_type": "markdown",
      "source": [
        "---"
      ],
      "metadata": {
        "id": "J14v2aXOpslA"
      }
    },
    {
      "cell_type": "markdown",
      "source": [
        "### **Passo 3** - fixação da significância do teste ($\\alpha$)\n",
        "\n",
        "#### <font color=red>Documentações:\n",
        "\n",
        "- [**TDist**](https://www.rdocumentation.org/packages/stats/versions/3.6.1/topics/TDist)"
      ],
      "metadata": {
        "id": "DQvwhQWnpslA"
      }
    },
    {
      "cell_type": "code",
      "source": [
        "tabela_t_student[23:25, ]"
      ],
      "metadata": {
        "colab": {
          "base_uri": "https://localhost:8080/",
          "height": 173
        },
        "id": "12t8QJMzpslD",
        "outputId": "6ff367ac-ceb6-41af-e9f3-364da4170020",
        "scrolled": true,
        "execution": {
          "iopub.status.busy": "2024-07-31T20:06:26.367994Z",
          "iopub.execute_input": "2024-07-31T20:06:26.369527Z",
          "iopub.status.idle": "2024-07-31T20:06:26.391411Z"
        },
        "trusted": true
      },
      "execution_count": null,
      "outputs": [
        {
          "output_type": "display_data",
          "data": {
            "text/html": "<table class=\"dataframe\">\n<caption>A matrix: 3 × 10 of type dbl</caption>\n<thead>\n\t<tr><th></th><th scope=col>0.050</th><th scope=col>0.045</th><th scope=col>0.040</th><th scope=col>0.035</th><th scope=col>0.030</th><th scope=col>0.025</th><th scope=col>0.020</th><th scope=col>0.015</th><th scope=col>0.010</th><th scope=col>0.005</th></tr>\n</thead>\n<tbody>\n\t<tr><th scope=row>23</th><td>1.713872</td><td>1.769907</td><td>1.831567</td><td>1.900307</td><td>1.978249</td><td>2.068658</td><td>2.176958</td><td>2.313231</td><td>2.499867</td><td>2.807336</td></tr>\n\t<tr><th scope=row>24</th><td>1.710882</td><td>1.766675</td><td>1.828051</td><td>1.896457</td><td>1.973994</td><td>2.063899</td><td>2.171545</td><td>2.306913</td><td>2.492159</td><td>2.796940</td></tr>\n\t<tr><th scope=row>25</th><td>1.708141</td><td>1.763711</td><td>1.824828</td><td>1.892928</td><td>1.970095</td><td>2.059539</td><td>2.166587</td><td>2.301130</td><td>2.485107</td><td>2.787436</td></tr>\n</tbody>\n</table>\n",
            "text/markdown": "\nA matrix: 3 × 10 of type dbl\n\n| <!--/--> | 0.050 | 0.045 | 0.040 | 0.035 | 0.030 | 0.025 | 0.020 | 0.015 | 0.010 | 0.005 |\n|---|---|---|---|---|---|---|---|---|---|---|\n| 23 | 1.713872 | 1.769907 | 1.831567 | 1.900307 | 1.978249 | 2.068658 | 2.176958 | 2.313231 | 2.499867 | 2.807336 |\n| 24 | 1.710882 | 1.766675 | 1.828051 | 1.896457 | 1.973994 | 2.063899 | 2.171545 | 2.306913 | 2.492159 | 2.796940 |\n| 25 | 1.708141 | 1.763711 | 1.824828 | 1.892928 | 1.970095 | 2.059539 | 2.166587 | 2.301130 | 2.485107 | 2.787436 |\n\n",
            "text/latex": "A matrix: 3 × 10 of type dbl\n\\begin{tabular}{r|llllllllll}\n  & 0.050 & 0.045 & 0.040 & 0.035 & 0.030 & 0.025 & 0.020 & 0.015 & 0.010 & 0.005\\\\\n\\hline\n\t23 & 1.713872 & 1.769907 & 1.831567 & 1.900307 & 1.978249 & 2.068658 & 2.176958 & 2.313231 & 2.499867 & 2.807336\\\\\n\t24 & 1.710882 & 1.766675 & 1.828051 & 1.896457 & 1.973994 & 2.063899 & 2.171545 & 2.306913 & 2.492159 & 2.796940\\\\\n\t25 & 1.708141 & 1.763711 & 1.824828 & 1.892928 & 1.970095 & 2.059539 & 2.166587 & 2.301130 & 2.485107 & 2.787436\\\\\n\\end{tabular}\n",
            "text/plain": "   0.050    0.045    0.040    0.035    0.030    0.025    0.020    0.015   \n23 1.713872 1.769907 1.831567 1.900307 1.978249 2.068658 2.176958 2.313231\n24 1.710882 1.766675 1.828051 1.896457 1.973994 2.063899 2.171545 2.306913\n25 1.708141 1.763711 1.824828 1.892928 1.970095 2.059539 2.166587 2.301130\n   0.010    0.005   \n23 2.499867 2.807336\n24 2.492159 2.796940\n25 2.485107 2.787436"
          },
          "metadata": {}
        }
      ]
    },
    {
      "cell_type": "markdown",
      "source": [
        "### Obtendo $t_{\\alpha}$"
      ],
      "metadata": {
        "id": "Brk3cI1npslE"
      }
    },
    {
      "cell_type": "code",
      "source": [
        "t_alpha <- qt(confianca, graus_de_liberdade)\n",
        "t_alpha"
      ],
      "metadata": {
        "colab": {
          "base_uri": "https://localhost:8080/",
          "height": 35
        },
        "id": "xXi0eYGYpslF",
        "outputId": "7493d623-7775-4dc2-fb5a-39941b6fc277",
        "execution": {
          "iopub.status.busy": "2024-07-31T20:06:26.394106Z",
          "iopub.execute_input": "2024-07-31T20:06:26.395551Z",
          "iopub.status.idle": "2024-07-31T20:06:26.411658Z"
        },
        "trusted": true
      },
      "execution_count": null,
      "outputs": [
        {
          "output_type": "display_data",
          "data": {
            "text/html": "1.71088207990943",
            "text/markdown": "1.71088207990943",
            "text/latex": "1.71088207990943",
            "text/plain": "[1] 1.710882"
          },
          "metadata": {}
        }
      ]
    },
    {
      "cell_type": "markdown",
      "source": [
        "![Região de Aceitação](https://caelum-online-public.s3.amazonaws.com/1229-estatistica-parte3/01/img009.png)"
      ],
      "metadata": {
        "id": "xMnBzjxLpslH"
      }
    },
    {
      "cell_type": "markdown",
      "source": [
        "---"
      ],
      "metadata": {
        "id": "Azy_uNSGpslI"
      }
    },
    {
      "cell_type": "markdown",
      "source": [
        "### **Passo 4** - cálculo da estatística-teste e verificação desse valor com as áreas de aceitação e rejeição do teste\n",
        "\n",
        "# $$t = \\frac{\\bar{x} - \\mu_0}{\\frac{s}{\\sqrt{n}}}$$"
      ],
      "metadata": {
        "id": "YN4weG-1pslI"
      }
    },
    {
      "cell_type": "code",
      "source": [
        "t <- (media_amostra - media) / (desvio_padrao_amostra / sqrt(n))\n",
        "t"
      ],
      "metadata": {
        "colab": {
          "base_uri": "https://localhost:8080/",
          "height": 35
        },
        "id": "qY0DfIffpslI",
        "outputId": "00fd1921-6093-469d-d164-c864eb34b23b",
        "execution": {
          "iopub.status.busy": "2024-07-31T20:06:26.414301Z",
          "iopub.execute_input": "2024-07-31T20:06:26.415757Z",
          "iopub.status.idle": "2024-07-31T20:06:26.431982Z"
        },
        "trusted": true
      },
      "execution_count": null,
      "outputs": [
        {
          "output_type": "display_data",
          "data": {
            "text/html": "-3.87689311995208",
            "text/markdown": "-3.87689311995208",
            "text/latex": "-3.87689311995208",
            "text/plain": "[1] -3.876893"
          },
          "metadata": {}
        }
      ]
    },
    {
      "cell_type": "markdown",
      "source": [
        "![Estatística-Teste](https://caelum-online-public.s3.amazonaws.com/1229-estatistica-parte3/01/img010.png)"
      ],
      "metadata": {
        "id": "SCIchVxNpslK"
      }
    },
    {
      "cell_type": "markdown",
      "source": [
        "---"
      ],
      "metadata": {
        "id": "NiheMfTopslK"
      }
    },
    {
      "cell_type": "markdown",
      "source": [
        "### **Passo 5** - Aceitação ou rejeição da hipótese nula"
      ],
      "metadata": {
        "id": "YCsJySBGpslK"
      }
    },
    {
      "cell_type": "markdown",
      "source": [
        "<img src='https://caelum-online-public.s3.amazonaws.com/1229-estatistica-parte3/01/img013.png' width=90%>"
      ],
      "metadata": {
        "id": "ioLyTpbWpslL"
      }
    },
    {
      "cell_type": "markdown",
      "source": [
        "### <font color='red'>Critério do valor crítico</font>\n",
        "\n",
        "> ### Teste Unicaudal Superior\n",
        "> ### Rejeitar $H_0$ se $t \\geq t_{\\alpha}$"
      ],
      "metadata": {
        "id": "TQcuPzbPpslL"
      }
    },
    {
      "cell_type": "code",
      "source": [
        "t >= t_alpha"
      ],
      "metadata": {
        "colab": {
          "base_uri": "https://localhost:8080/",
          "height": 35
        },
        "id": "pkoDYMLIpslM",
        "outputId": "d1166899-8745-4bf6-fa7c-40b072c1b1ea",
        "execution": {
          "iopub.status.busy": "2024-07-31T20:06:26.434717Z",
          "iopub.execute_input": "2024-07-31T20:06:26.436235Z",
          "iopub.status.idle": "2024-07-31T20:06:26.450085Z"
        },
        "trusted": true
      },
      "execution_count": null,
      "outputs": [
        {
          "output_type": "display_data",
          "data": {
            "text/html": "FALSE",
            "text/markdown": "FALSE",
            "text/latex": "FALSE",
            "text/plain": "[1] FALSE"
          },
          "metadata": {}
        }
      ]
    },
    {
      "cell_type": "markdown",
      "source": [
        "### <font color='green'>Conclusão: Com um nível de confiança de 95% não podemos rejeitar $H_0$, ou seja, a alegação do fabricante é verdadeira.</font>"
      ],
      "metadata": {
        "id": "F-_AVTMJpslN"
      }
    },
    {
      "cell_type": "markdown",
      "source": [
        "### <font color='red'>Critério do valor $p$</font>\n",
        "\n",
        "> ### Teste Unicaudal Superior\n",
        "> ### Rejeitar $H_0$ se o valor $p\\leq\\alpha$"
      ],
      "metadata": {
        "id": "7ye3tS25pslO"
      }
    },
    {
      "cell_type": "code",
      "source": [
        "t"
      ],
      "metadata": {
        "colab": {
          "base_uri": "https://localhost:8080/",
          "height": 35
        },
        "id": "AtPMeAz4pslQ",
        "outputId": "c26c8cc5-1244-47ff-8001-c490522ec4c2",
        "execution": {
          "iopub.status.busy": "2024-07-31T20:06:26.452765Z",
          "iopub.execute_input": "2024-07-31T20:06:26.454201Z",
          "iopub.status.idle": "2024-07-31T20:06:26.468137Z"
        },
        "trusted": true
      },
      "execution_count": null,
      "outputs": [
        {
          "output_type": "display_data",
          "data": {
            "text/html": "-3.87689311995208",
            "text/markdown": "-3.87689311995208",
            "text/latex": "-3.87689311995208",
            "text/plain": "[1] -3.876893"
          },
          "metadata": {}
        }
      ]
    },
    {
      "cell_type": "code",
      "source": [
        "p_valor <- pt(t, graus_de_liberdade, lower.tail = F)\n",
        "p_valor"
      ],
      "metadata": {
        "execution": {
          "iopub.status.busy": "2024-07-31T20:06:26.470809Z",
          "iopub.execute_input": "2024-07-31T20:06:26.472220Z",
          "iopub.status.idle": "2024-07-31T20:06:26.487673Z"
        },
        "trusted": true,
        "id": "FfNsHRRp5ZbX",
        "outputId": "1a854e4e-ad0a-4763-bdb8-83572c97a70c"
      },
      "execution_count": null,
      "outputs": [
        {
          "output_type": "display_data",
          "data": {
            "text/html": "0.999640617030382",
            "text/markdown": "0.999640617030382",
            "text/latex": "0.999640617030382",
            "text/plain": "[1] 0.9996406"
          },
          "metadata": {}
        }
      ]
    },
    {
      "cell_type": "code",
      "source": [
        "p_valor <= significancia"
      ],
      "metadata": {
        "colab": {
          "base_uri": "https://localhost:8080/",
          "height": 35
        },
        "id": "_hfVEPQQpslU",
        "outputId": "1ccf5f1f-dd1f-4855-b981-f3bb76d1163e",
        "execution": {
          "iopub.status.busy": "2024-07-31T20:06:26.490390Z",
          "iopub.execute_input": "2024-07-31T20:06:26.491891Z",
          "iopub.status.idle": "2024-07-31T20:06:26.505712Z"
        },
        "trusted": true
      },
      "execution_count": null,
      "outputs": [
        {
          "output_type": "display_data",
          "data": {
            "text/html": "FALSE",
            "text/markdown": "FALSE",
            "text/latex": "FALSE",
            "text/plain": "[1] FALSE"
          },
          "metadata": {}
        }
      ]
    },
    {
      "cell_type": "markdown",
      "source": [
        "#### <font color=red>Documentações:\n",
        "\n",
        "- [**t.test**](https://www.rdocumentation.org/packages/stats/versions/3.6.1/topics/t.test)"
      ],
      "metadata": {
        "id": "4JxGeADypslW"
      }
    },
    {
      "cell_type": "code",
      "source": [
        "resultado <- t.test(amostra$Amostra, alternative = \"greater\", mu = media)\n",
        "resultado"
      ],
      "metadata": {
        "id": "Y1gP6yjvpslW",
        "execution": {
          "iopub.status.busy": "2024-07-31T20:06:26.508243Z",
          "iopub.execute_input": "2024-07-31T20:06:26.509665Z",
          "iopub.status.idle": "2024-07-31T20:06:26.525717Z"
        },
        "trusted": true,
        "outputId": "74ec8c09-0f1f-4bf1-ef30-1a4179354058"
      },
      "execution_count": null,
      "outputs": [
        {
          "output_type": "display_data",
          "data": {
            "text/plain": "\n\tOne Sample t-test\n\ndata:  amostra$Amostra\nt = -3.8769, df = 24, p-value = 0.9996\nalternative hypothesis: true mean is greater than 37\n95 percent confidence interval:\n 35.9196     Inf\nsample estimates:\nmean of x \n  36.2504 \n"
          },
          "metadata": {}
        }
      ]
    },
    {
      "cell_type": "code",
      "source": [
        "resultado$statistic"
      ],
      "metadata": {
        "execution": {
          "iopub.status.busy": "2024-07-31T20:06:26.528260Z",
          "iopub.execute_input": "2024-07-31T20:06:26.529699Z",
          "iopub.status.idle": "2024-07-31T20:06:26.543277Z"
        },
        "trusted": true,
        "id": "RTWEwpmB5ZbY",
        "outputId": "62f5169c-4be2-478d-a26c-86c6295a67cd"
      },
      "execution_count": null,
      "outputs": [
        {
          "output_type": "display_data",
          "data": {
            "text/html": "<strong>t:</strong> -3.87689311995208",
            "text/markdown": "**t:** -3.87689311995208",
            "text/latex": "\\textbf{t:} -3.87689311995208",
            "text/plain": "        t \n-3.876893 "
          },
          "metadata": {}
        }
      ]
    },
    {
      "cell_type": "code",
      "source": [
        "p_valor <- resultado$p.value\n",
        "p_valor"
      ],
      "metadata": {
        "execution": {
          "iopub.status.busy": "2024-07-31T20:06:26.545797Z",
          "iopub.execute_input": "2024-07-31T20:06:26.547161Z",
          "iopub.status.idle": "2024-07-31T20:06:26.562561Z"
        },
        "trusted": true,
        "id": "AKsmYLBJ5ZbY",
        "outputId": "8b5baa8a-56b1-4bff-a8fb-f5fc1ca60661"
      },
      "execution_count": null,
      "outputs": [
        {
          "output_type": "display_data",
          "data": {
            "text/html": "0.999640617030382",
            "text/markdown": "0.999640617030382",
            "text/latex": "0.999640617030382",
            "text/plain": "[1] 0.9996406"
          },
          "metadata": {}
        }
      ]
    },
    {
      "cell_type": "code",
      "source": [
        "resultado$p.value <= significancia"
      ],
      "metadata": {
        "colab": {
          "base_uri": "https://localhost:8080/",
          "height": 35
        },
        "id": "CMZcYUyiz0mr",
        "outputId": "c9e81381-094c-444a-8dd9-557865e8c582",
        "execution": {
          "iopub.status.busy": "2024-07-31T20:06:26.565186Z",
          "iopub.execute_input": "2024-07-31T20:06:26.566598Z",
          "iopub.status.idle": "2024-07-31T20:06:26.582534Z"
        },
        "trusted": true
      },
      "execution_count": null,
      "outputs": [
        {
          "output_type": "display_data",
          "data": {
            "text/html": "FALSE",
            "text/markdown": "FALSE",
            "text/latex": "FALSE",
            "text/plain": "[1] FALSE"
          },
          "metadata": {}
        }
      ]
    },
    {
      "cell_type": "markdown",
      "source": [
        "---"
      ],
      "metadata": {
        "id": "wlUdcJnDpsla"
      }
    },
    {
      "cell_type": "markdown",
      "source": [
        "## <font color=green>3.4 Testes para Duas Amostras</font>\n",
        "***"
      ],
      "metadata": {
        "id": "L7_ZbBBtpslb"
      }
    },
    {
      "cell_type": "markdown",
      "source": [
        "## <font color='red'>Problema</font>"
      ],
      "metadata": {
        "id": "lmAJLIu8pslb"
      }
    },
    {
      "cell_type": "markdown",
      "source": [
        "Em nosso dataset temos os rendimento dos chefes de domicílio obtidos da Pesquisa Nacional por Amostra de Domicílios - PNAD no ano de 2015. Um problema bastante conhecido em nosso país diz respeito a desigualdade de renda, principalmente entre homens e mulheres.\n",
        "\n",
        "Duas amostras aleatórias, uma de **500 homens** e outra com **500 mulheres**, foram selecionadas em nosso dataset. Com o objetivo de comprovar tal desigualdade, **teste a igualdade das médias** entre estas duas amostras com um nível de **significância de 1%**."
      ],
      "metadata": {
        "id": "0zUUY8klpslc"
      }
    },
    {
      "cell_type": "markdown",
      "source": [
        "---"
      ],
      "metadata": {
        "id": "WUknTBZgpslc"
      }
    },
    {
      "cell_type": "markdown",
      "source": [
        "É possível também utilizar testes de hipóteses para comparar duas diferentes amostras. Neste tipo de teste se deseja decidir se uma amostra é diferente da outra."
      ],
      "metadata": {
        "id": "gFIUL8Hgpslc"
      }
    },
    {
      "cell_type": "markdown",
      "source": [
        "### Seleção das amostras"
      ],
      "metadata": {
        "id": "xzGuwM4xpslc"
      }
    },
    {
      "cell_type": "code",
      "source": [
        "homens <- matrix(c(300, 1000, 4000, 5000, 300, 350, 1200, 1200, 1100, 1800, 700, 5000, 250, 1560, 400, 5500, 3000, 0, 1100, 1500, 500, 500, 788, 500, 3000, 788, 2400, 788, 3300, 1350, 2500, 2000, 1300, 2430, 9000, 10120, 1380, 2000, 1400, 1000, 500, 1500, 2200, 2100, 4000, 1000, 1200, 2900, 1800, 2000, 788, 1576, 800, 2400, 788, 788, 788, 0, 12000, 7880, 850, 1000, 1000, 1600, 3800, 788, 1200, 300, 350, 700, 6000, 1500, 5000, 2000, 1200, 800, 250, 800, 1600, 400, 3000, 2304, 800, 1400, 450, 788, 2200, 6000, 1200, 4000, 6000, 1100, 1200, 1300, 3000, 3000, 1500, 1280, 788, 1400, 788, 4000, 0, 1000, 2500, 1300, 3000, 500, 1600, 2000, 1280, 150, 0, 0, 7000, 1061, 700, 788, 2000, 788, 10500, 788, 1600, 1050, 1100, 3000, 800, 1400, 1200, 2500, 1000, 1500, 1500, 900, 2000, 300, 3000, 788, 1400, 2000, 2000, 3000, 2600, 15000, 1500, 950, 1200, 1500, 7500, 1400, 350, 750, 1200, 788, 0, 2500, 1700, 788, 700, 1600, 1200, 320, 6000, 2000, 2000, 3000, 900, 2100, 0, 788, 1800, 1600, 4000, 1300, 1300, 1500, 8900, 1400, 788, 600, 1000, 950, 2000, 4000, 2300, 2000, 800, 2500, 1500, 1400, 800, 6000, 788, 900, 200, 1300, 788, 2600, 1500, 8000, 900, 2000, 2000, 350, 3000, 9580, 0, 400, 800, 1700, 1800, 1200, 18000, 9000, 3000, 1200, 700, 1200, 400, 987, 6000, 2000, 0, 0, 480, 500, 800, 1680, 10000, 1200, 1700, 788, 2200, 10000, 10000, 100, 1200, 1600, 2500, 1300, 1200, 1300, 2200, 200, 60, 1100, 1200, 6000, 4500, 100, 788, 2900, 2500, 900, 788, 2500, 4000, 788, 1400, 1000, 300, 788, 1000, 4000, 2200, 788, 1000, 1000, 600, 1600, 6000, 2500, 2500, 1000, 3000, 2200, 4500, 1500, 4300, 1500, 8500, 3200, 1200, 1200, 1500, 4000, 2000, 1350, 1500, 890, 5000, 2400, 13000, 800, 1500, 1500, 2000, 580, 500, 920, 1200, 2000, 788, 500, 20000, 1350, 1576, 500, 8000, 1800, 600, 1000, 3000, 4000, 1500, 788, 600, 2300, 1500, 500, 500, 800, 900, 8000, 1600, 3000, 788, 1500, 5200, 900, 3565, 650, 1700, 1600, 788, 1200, 788, 788, 100, 900, 1700, 10000, 1600, 200, 788, 1400, 1500, 400, 4200, 1400, 4000, 5516, 3500, 700, 1400, 1200, 0, 7000, 2000, 5000, 2000, 750, 3000, 2000, 1500, 200, 3000, 1700, 1500, 7000, 1500, 788, 2400, 2500, 1500, 2000, 1500, 2000, 1100, 800, 1800, 480, 3500, 700, 3400, 5000, 5000, 1300, 3000, 2000, 900, 2000, 1000, 1800, 0, 1500, 788, 3500, 875, 5000, 2000, 1300, 1600, 0, 750, 1200, 120, 1800, 1200, 788, 1000, 0, 1400, 2300, 7000, 4000, 5000, 788, 20000, 4000, 0, 1200, 1800, 500, 1000, 788, 1300, 5000, 50, 1700, 2000, 1600, 2000, 1350, 1500, 600, 1700, 780, 2446, 2100, 5000, 1700, 1200, 1000, 788, 4500, 1500, 788, 0, 1580, 1000, 4500, 2400, 788, 1100, 2000, 788, 100, 1200, 1200, 1200, 1000, 2000, 788, 2000, 15000, 600, 0, 1500, 3000, 4000, 900, 810, 600, 1500, 4000, 1200, 5000, 5300, 2500, 800, 0, 1400, 1500, 4000, 1200, 400, 1000, 820, 1000, 1000, 788, 1500, 2500, 1500, 220, 600, 788, 1750, 7000))\n",
        "mulheres <- matrix(c(788, 1200, 6000, 1000, 788, 1100, 1900, 1577, 900, 950, 1200, 788, 788, 1100, 30, 620, 900, 1000, 1200, 2000, 0, 500, 1200, 1500, 1200, 1120, 788, 788, 2300, 2400, 3000, 788, 4000, 1000, 500, 500, 1700, 200, 6000, 400, 950, 1100, 50, 930, 850, 1100, 3500, 1500, 1200, 900, 1100, 1500, 788, 1000, 788, 4500, 4000, 8000, 3500, 788, 1050, 1000, 1400, 3500, 600, 3000, 500, 930, 2660, 788, 360, 2364, 788, 160, 1100, 1085, 1050, 1500, 100, 0, 788, 250, 1700, 1300, 800, 0, 2000, 820, 910, 300, 2000, 200, 788, 788, 800, 1500, 1300, 1200, 0, 600, 1036, 400, 1100, 788, 400, 1500, 1200, 1800, 1000, 788, 850, 60, 1800, 3500, 600, 200, 500, 200, 1100, 1540, 1100, 900, 800, 500, 200, 1200, 1250, 788, 500, 200, 788, 200, 0, 1800, 2000, 1000, 900, 3000, 700, 1200, 788, 2800, 3300, 400, 0, 850, 1022, 6000, 750, 1000, 3500, 400, 1500, 1000, 800, 0, 980, 2400, 850, 1100, 788, 1100, 788, 1200, 788, 864, 1000, 500, 400, 3000, 1200, 100, 80, 900, 2000, 1250, 1000, 300, 400, 1500, 60, 8000, 1000, 600, 800, 350, 788, 0, 600, 788, 2500, 1300, 800, 8000, 1100, 800, 900, 2000, 0, 800, 1400, 1000, 1200, 788, 3840, 788, 3940, 788, 560, 800, 2000, 600, 2900, 0, 400, 800, 7000, 788, 788, 788, 788, 1250, 1500, 1386, 100, 300, 788, 788, 600, 600, 900, 2800, 788, 350, 900, 0, 150, 788, 788, 1000, 30, 788, 780, 900, 0, 0, 3000, 1800, 2000, 1100, 788, 0, 7500, 1800, 788, 788, 2000, 3000, 180, 2500, 800, 0, 1250, 200, 1100, 0, 1100, 400, 1300, 300, 0, 1312, 600, 200, 4000, 2400, 12000, 2150, 500, 400, 0, 600, 400, 788, 1200, 500, 2000, 1500, 70, 500, 2000, 1000, 100, 500, 2000, 100, 2115, 800, 5800, 2300, 750, 788, 0, 900, 1000, 600, 3000, 5500, 1600, 788, 4000, 0, 1100, 120, 320, 1100, 2500, 200, 800, 3000, 550, 4200, 7000, 720, 0, 2000, 5000, 2000, 788, 500, 788, 7000, 500, 788, 1760, 1200, 3500, 1500, 150, 800, 788, 3000, 400, 788, 1000, 2000, 2500, 0, 788, 5200, 788, 0, 600, 1300, 120, 850, 1576, 788, 2000, 1300, 788, 800, 1800, 655, 1580, 789, 788, 850, 788, 7000, 788, 430, 800, 788, 900, 10000, 1200, 300, 400, 788, 788, 3000, 900, 1300, 1300, 788, 800, 1000, 1890, 0, 788, 900, 4000, 788, 1010, 150, 450, 1700, 890, 1200, 2800, 1000, 788, 788, 700, 600, 800, 880, 6000, 800, 800, 820, 788, 1030, 560, 2100, 6500, 2500, 788, 400, 300, 788, 2300, 1000, 3500, 984, 1576, 420, 1700, 450, 1800, 400, 1500, 1500, 4256, 1200, 890, 1200, 300, 400, 850, 1500, 3800, 1800, 996, 2000, 1000, 788, 1500, 300, 600, 950, 1200, 788, 1200, 1500, 250, 788, 1200, 6000, 300, 789, 1500, 788, 3800, 780, 1200, 1200, 220, 788, 500, 200, 480, 1576, 1576, 1035, 900, 800, 1000, 805, 200, 1200, 2220, 1500, 880, 220, 2000, 788, 150, 0, 13000, 40, 5500, 788, 788, 1000, 400, 2000, 200, 1600))"
      ],
      "metadata": {
        "execution": {
          "iopub.status.busy": "2024-07-31T20:06:26.586555Z",
          "iopub.execute_input": "2024-07-31T20:06:26.588089Z",
          "iopub.status.idle": "2024-07-31T20:06:26.610476Z"
        },
        "trusted": true,
        "id": "qDtJc09T5Zba"
      },
      "execution_count": null,
      "outputs": []
    },
    {
      "cell_type": "markdown",
      "source": [
        "### Dados do problema"
      ],
      "metadata": {
        "id": "FOFa-cHwpslg"
      }
    },
    {
      "cell_type": "code",
      "source": [
        "media_amostra_M <- mean(mulheres)\n",
        "media_amostra_M"
      ],
      "metadata": {
        "colab": {
          "base_uri": "https://localhost:8080/",
          "height": 35
        },
        "id": "BGyXCbompslh",
        "outputId": "a5e8a9b9-ee69-408f-b8c0-6cac89b36d9a",
        "execution": {
          "iopub.status.busy": "2024-07-31T20:06:26.614685Z",
          "iopub.execute_input": "2024-07-31T20:06:26.616513Z",
          "iopub.status.idle": "2024-07-31T20:06:26.635775Z"
        },
        "trusted": true
      },
      "execution_count": null,
      "outputs": [
        {
          "output_type": "display_data",
          "data": {
            "text/html": "1357.528",
            "text/markdown": "1357.528",
            "text/latex": "1357.528",
            "text/plain": "[1] 1357.528"
          },
          "metadata": {}
        }
      ]
    },
    {
      "cell_type": "code",
      "source": [
        "desvio_padrao_amostra_M <- sd(mulheres)\n",
        "desvio_padrao_amostra_M"
      ],
      "metadata": {
        "colab": {
          "base_uri": "https://localhost:8080/",
          "height": 35
        },
        "id": "RoxFOCA3pslk",
        "outputId": "85133b37-a4a6-49cd-a585-700725811b09",
        "execution": {
          "iopub.status.busy": "2024-07-31T20:06:26.639716Z",
          "iopub.execute_input": "2024-07-31T20:06:26.641288Z",
          "iopub.status.idle": "2024-07-31T20:06:26.659981Z"
        },
        "trusted": true
      },
      "execution_count": null,
      "outputs": [
        {
          "output_type": "display_data",
          "data": {
            "text/html": "1569.90119074846",
            "text/markdown": "1569.90119074846",
            "text/latex": "1569.90119074846",
            "text/plain": "[1] 1569.901"
          },
          "metadata": {}
        }
      ]
    },
    {
      "cell_type": "code",
      "source": [
        "media_amostra_H <- mean(homens)\n",
        "media_amostra_H"
      ],
      "metadata": {
        "colab": {
          "base_uri": "https://localhost:8080/",
          "height": 35
        },
        "id": "Of8L6Hygpsll",
        "outputId": "fe0dc0f3-79e3-4375-de47-43a4ff6c3f79",
        "execution": {
          "iopub.status.busy": "2024-07-31T20:06:26.664045Z",
          "iopub.execute_input": "2024-07-31T20:06:26.665566Z",
          "iopub.status.idle": "2024-07-31T20:06:26.682224Z"
        },
        "trusted": true
      },
      "execution_count": null,
      "outputs": [
        {
          "output_type": "display_data",
          "data": {
            "text/html": "2142.608",
            "text/markdown": "2142.608",
            "text/latex": "2142.608",
            "text/plain": "[1] 2142.608"
          },
          "metadata": {}
        }
      ]
    },
    {
      "cell_type": "code",
      "source": [
        "desvio_padrao_amostra_H <- sd(homens)\n",
        "desvio_padrao_amostra_H"
      ],
      "metadata": {
        "colab": {
          "base_uri": "https://localhost:8080/",
          "height": 35
        },
        "id": "-cSpXXTepsln",
        "outputId": "8a3d0017-ac70-4fe3-aae1-0c7bf32e676e",
        "execution": {
          "iopub.status.busy": "2024-07-31T20:06:26.685033Z",
          "iopub.execute_input": "2024-07-31T20:06:26.686409Z",
          "iopub.status.idle": "2024-07-31T20:06:26.701919Z"
        },
        "trusted": true
      },
      "execution_count": null,
      "outputs": [
        {
          "output_type": "display_data",
          "data": {
            "text/html": "2548.05080249987",
            "text/markdown": "2548.05080249987",
            "text/latex": "2548.05080249987",
            "text/plain": "[1] 2548.051"
          },
          "metadata": {}
        }
      ]
    },
    {
      "cell_type": "code",
      "source": [
        "significancia <- 0.01\n",
        "confianca <- 1 - significancia\n",
        "n_M <- 500\n",
        "n_H <- 500\n",
        "D_0 <- 0"
      ],
      "metadata": {
        "id": "Cl7kdxkUpslo",
        "execution": {
          "iopub.status.busy": "2024-07-31T20:06:26.704585Z",
          "iopub.execute_input": "2024-07-31T20:06:26.706006Z",
          "iopub.status.idle": "2024-07-31T20:06:26.723806Z"
        },
        "trusted": true
      },
      "execution_count": null,
      "outputs": []
    },
    {
      "cell_type": "markdown",
      "source": [
        "---"
      ],
      "metadata": {
        "id": "PGoWwWwjpslp"
      }
    },
    {
      "cell_type": "markdown",
      "source": [
        "### **Passo 1** - formulação das hipóteses $H_0$ e $H_1$\n",
        "\n",
        "#### <font color='red'>Lembre-se, a hipótese nula sempre contém a alegação de igualdade</font>"
      ],
      "metadata": {
        "id": "tO597Oxgpslp"
      }
    },
    {
      "cell_type": "markdown",
      "source": [
        "### $\\mu_1 \\Rightarrow$ Média das rendas dos chefes de domicílios do sexo masculino\n",
        "### $\\mu_2 \\Rightarrow$ Média das rendas dos chefes de domicílios do sexo feminino\n",
        "\n",
        "### $\n",
        "\\begin{cases}\n",
        "H_0: \\mu_1 \\leq \\mu_2\\\\\n",
        "H_1: \\mu_1 > \\mu_2\n",
        "\\end{cases}\n",
        "$\n",
        "\n",
        "### ou\n",
        "\n",
        "### $\n",
        "\\begin{cases}\n",
        "H_0: \\mu_1 -\\mu_2 \\leq 0\\\\\n",
        "H_1: \\mu_1 -\\mu_2 > 0\n",
        "\\end{cases}\n",
        "$"
      ],
      "metadata": {
        "id": "LysVU-7fpslr"
      }
    },
    {
      "cell_type": "markdown",
      "source": [
        "---"
      ],
      "metadata": {
        "id": "ENKqbCgQpslr"
      }
    },
    {
      "cell_type": "markdown",
      "source": [
        "### **Passo 2** - escolha da distribuição amostral adequada\n",
        "<img src='https://caelum-online-public.s3.amazonaws.com/1229-estatistica-parte3/01/img003.png' width=70%>\n",
        "\n",
        "### <font color='red'>Observação importante</font>\n",
        "> Em testes que envolvam duas amostras com o emprego da tabela $t$ de Student, o número de graus de liberdade será sempre igual a $n_1 + n_2 - 2$"
      ],
      "metadata": {
        "id": "dBA05Y3Zpslr"
      }
    },
    {
      "cell_type": "markdown",
      "source": [
        "### O tamanho da amostra é maior que 30?\n",
        "#### Resp.: Sim\n",
        "\n",
        "### O desvio padrão populacional é conhecido?\n",
        "#### Resp.: Não"
      ],
      "metadata": {
        "id": "6_Q_Wtjlpsls"
      }
    },
    {
      "cell_type": "markdown",
      "source": [
        "---"
      ],
      "metadata": {
        "id": "T6sVzVjVpsls"
      }
    },
    {
      "cell_type": "markdown",
      "source": [
        "### **Passo 3** - fixação da significância do teste ($\\alpha$)"
      ],
      "metadata": {
        "id": "SUN4yJqzpsls"
      }
    },
    {
      "cell_type": "code",
      "source": [
        "probabilidade <- confianca\n",
        "probabilidade"
      ],
      "metadata": {
        "colab": {
          "base_uri": "https://localhost:8080/",
          "height": 35
        },
        "id": "b3Y_CZmzpsls",
        "outputId": "bc2e1945-7bb1-4c2c-851a-f0102328ce0e",
        "execution": {
          "iopub.status.busy": "2024-07-31T20:06:26.726503Z",
          "iopub.execute_input": "2024-07-31T20:06:26.728032Z",
          "iopub.status.idle": "2024-07-31T20:06:26.743487Z"
        },
        "trusted": true
      },
      "execution_count": null,
      "outputs": [
        {
          "output_type": "display_data",
          "data": {
            "text/html": "0.99",
            "text/markdown": "0.99",
            "text/latex": "0.99",
            "text/plain": "[1] 0.99"
          },
          "metadata": {}
        }
      ]
    },
    {
      "cell_type": "code",
      "source": [
        "z_alpha <- qnorm(probabilidade)\n",
        "z_alpha"
      ],
      "metadata": {
        "colab": {
          "base_uri": "https://localhost:8080/",
          "height": 35
        },
        "id": "qNse2bFRpslu",
        "outputId": "b03d1db9-17ec-4577-825d-dc81f7aee07b",
        "execution": {
          "iopub.status.busy": "2024-07-31T20:06:26.746125Z",
          "iopub.execute_input": "2024-07-31T20:06:26.747500Z",
          "iopub.status.idle": "2024-07-31T20:06:26.762381Z"
        },
        "trusted": true
      },
      "execution_count": null,
      "outputs": [
        {
          "output_type": "display_data",
          "data": {
            "text/html": "2.32634787404084",
            "text/markdown": "2.32634787404084",
            "text/latex": "2.32634787404084",
            "text/plain": "[1] 2.326348"
          },
          "metadata": {}
        }
      ]
    },
    {
      "cell_type": "markdown",
      "source": [
        "![Região de Aceitação](https://caelum-online-public.s3.amazonaws.com/1229-estatistica-parte3/01/img011.png)"
      ],
      "metadata": {
        "id": "y9u_zd8Opslv"
      }
    },
    {
      "cell_type": "markdown",
      "source": [
        "---"
      ],
      "metadata": {
        "id": "xUhiEXRMpslv"
      }
    },
    {
      "cell_type": "markdown",
      "source": [
        "### **Passo 4** - cálculo da estatística-teste e verificação desse valor com as áreas de aceitação e rejeição do teste\n",
        "\n",
        "# $$z = \\frac{(\\bar{x_1} - \\bar{x_2})-D_0}{\\sqrt{\\frac{s_1^2}{n_1} + \\frac{s_2^2}{n_2}}}$$"
      ],
      "metadata": {
        "id": "iooB1aPHpslv"
      }
    },
    {
      "cell_type": "code",
      "source": [
        "numerador <- (media_amostra_H - media_amostra_M) - D_0\n",
        "\n",
        "denominador <- sqrt((desvio_padrao_amostra_H ** 2 / n_H) + (desvio_padrao_amostra_M ** 2 / n_M))\n",
        "\n",
        "z <- numerador / denominador\n",
        "\n",
        "z"
      ],
      "metadata": {
        "colab": {
          "base_uri": "https://localhost:8080/",
          "height": 35
        },
        "id": "AL2i9JOTpslw",
        "outputId": "920efcb1-4b72-4366-9930-52d6e0119549",
        "execution": {
          "iopub.status.busy": "2024-07-31T20:06:26.765135Z",
          "iopub.execute_input": "2024-07-31T20:06:26.766821Z",
          "iopub.status.idle": "2024-07-31T20:06:26.786508Z"
        },
        "trusted": true
      },
      "execution_count": null,
      "outputs": [
        {
          "output_type": "display_data",
          "data": {
            "text/html": "5.86562005776475",
            "text/markdown": "5.86562005776475",
            "text/latex": "5.86562005776475",
            "text/plain": "[1] 5.86562"
          },
          "metadata": {}
        }
      ]
    },
    {
      "cell_type": "markdown",
      "source": [
        "![Estatística-Teste](https://caelum-online-public.s3.amazonaws.com/1229-estatistica-parte3/01/img012.png)"
      ],
      "metadata": {
        "id": "jXrfHvH5pslx"
      }
    },
    {
      "cell_type": "markdown",
      "source": [
        "---"
      ],
      "metadata": {
        "id": "4dn58Fc2pslx"
      }
    },
    {
      "cell_type": "markdown",
      "source": [
        "### **Passo 5** - Aceitação ou rejeição da hipótese nula"
      ],
      "metadata": {
        "id": "P-7NL33-pslx"
      }
    },
    {
      "cell_type": "markdown",
      "source": [
        "<img src='https://caelum-online-public.s3.amazonaws.com/1229-estatistica-parte3/01/img014.png' width=90%>"
      ],
      "metadata": {
        "id": "n_djxfYtpslx"
      }
    },
    {
      "cell_type": "markdown",
      "source": [
        "### <font color='red'>Critério do valor crítico</font>\n",
        "\n",
        "> ### Teste Unicaudal\n",
        "> ### Rejeitar $H_0$ se $z \\geq z_{\\alpha}$"
      ],
      "metadata": {
        "id": "QrObW-BXpsly"
      }
    },
    {
      "cell_type": "code",
      "source": [
        "z >= z_alpha"
      ],
      "metadata": {
        "colab": {
          "base_uri": "https://localhost:8080/",
          "height": 35
        },
        "id": "tkJSji7gpsly",
        "outputId": "8bbaa7f8-311f-4b6e-98f0-6964f510a91d",
        "execution": {
          "iopub.status.busy": "2024-07-31T20:06:26.789137Z",
          "iopub.execute_input": "2024-07-31T20:06:26.790576Z",
          "iopub.status.idle": "2024-07-31T20:06:26.803988Z"
        },
        "trusted": true
      },
      "execution_count": null,
      "outputs": [
        {
          "output_type": "display_data",
          "data": {
            "text/html": "TRUE",
            "text/markdown": "TRUE",
            "text/latex": "TRUE",
            "text/plain": "[1] TRUE"
          },
          "metadata": {}
        }
      ]
    },
    {
      "cell_type": "markdown",
      "source": [
        "### <font color='green'>Conclusão: Com um nível de confiança de 99% rejeitamos $H_0$, isto é, concluímos que a média das rendas dos chefes de domicílios do sexo masculino é maior que a média das rendas das chefes de domicílios do sexo feminino. Confirmando a alegação de desigualdade de renda entre os sexos.</font>"
      ],
      "metadata": {
        "id": "UnBVO1uDpslz"
      }
    },
    {
      "cell_type": "markdown",
      "source": [
        "### <font color='red'>Critério do valor $p$</font>\n",
        "\n",
        "> ### Teste Unicaudal\n",
        "> ### Rejeitar $H_0$ se o valor $p\\leq\\alpha$"
      ],
      "metadata": {
        "id": "cyuNEHfwpsl0"
      }
    },
    {
      "cell_type": "code",
      "source": [
        "z"
      ],
      "metadata": {
        "execution": {
          "iopub.status.busy": "2024-07-31T20:06:26.806441Z",
          "iopub.execute_input": "2024-07-31T20:06:26.807825Z",
          "iopub.status.idle": "2024-07-31T20:06:26.821196Z"
        },
        "trusted": true,
        "id": "ApVLSEvi5Zbg",
        "outputId": "ef619ec2-3558-4289-de59-65ed7fbc6fbd"
      },
      "execution_count": null,
      "outputs": [
        {
          "output_type": "display_data",
          "data": {
            "text/html": "5.86562005776475",
            "text/markdown": "5.86562005776475",
            "text/latex": "5.86562005776475",
            "text/plain": "[1] 5.86562"
          },
          "metadata": {}
        }
      ]
    },
    {
      "cell_type": "code",
      "source": [
        "p_valor <- pnorm(z, lower.tail = F)\n",
        "p_valor"
      ],
      "metadata": {
        "colab": {
          "base_uri": "https://localhost:8080/",
          "height": 35
        },
        "id": "tSbOZem9hLvs",
        "outputId": "c987a7bf-f772-4a01-a4c6-9a3afacf08d3",
        "execution": {
          "iopub.status.busy": "2024-07-31T20:06:26.823782Z",
          "iopub.execute_input": "2024-07-31T20:06:26.825252Z",
          "iopub.status.idle": "2024-07-31T20:06:26.840487Z"
        },
        "trusted": true
      },
      "execution_count": null,
      "outputs": [
        {
          "output_type": "display_data",
          "data": {
            "text/html": "2.23728678594584e-09",
            "text/markdown": "2.23728678594584e-09",
            "text/latex": "2.23728678594584e-09",
            "text/plain": "[1] 2.237287e-09"
          },
          "metadata": {}
        }
      ]
    },
    {
      "cell_type": "code",
      "source": [
        "p_valor <= significancia"
      ],
      "metadata": {
        "colab": {
          "base_uri": "https://localhost:8080/",
          "height": 35
        },
        "id": "E3NF1BzYpsl6",
        "outputId": "73af41e4-51a9-4e1f-d4c8-0786046c24b2",
        "execution": {
          "iopub.status.busy": "2024-07-31T20:06:26.843179Z",
          "iopub.execute_input": "2024-07-31T20:06:26.844651Z",
          "iopub.status.idle": "2024-07-31T20:06:26.857921Z"
        },
        "trusted": true
      },
      "execution_count": null,
      "outputs": [
        {
          "output_type": "display_data",
          "data": {
            "text/html": "TRUE",
            "text/markdown": "TRUE",
            "text/latex": "TRUE",
            "text/plain": "[1] TRUE"
          },
          "metadata": {}
        }
      ]
    },
    {
      "cell_type": "markdown",
      "source": [
        "#### <font color=red>Documentações:\n",
        "\n",
        "- [**BSDA**](https://www.rdocumentation.org/packages/BSDA/versions/1.01)\n",
        "- [**z.test**](https://www.rdocumentation.org/packages/BSDA/versions/1.01/topics/z.test)"
      ],
      "metadata": {
        "id": "Fni9E2WA5Zbh"
      }
    },
    {
      "cell_type": "code",
      "source": [
        "# install.packages(\"BSDA\")\n",
        "\n",
        "# OU\n",
        "\n",
        "# packageurl <- \"https://cran.r-project.org/src/contrib/Archive/BSDA/BSDA_1.01.tar.gz\"\n",
        "# install.packages(packageurl, repos=NULL, type=\"source\")"
      ],
      "metadata": {
        "execution": {
          "iopub.status.busy": "2024-07-31T20:06:26.860486Z",
          "iopub.execute_input": "2024-07-31T20:06:26.861938Z",
          "iopub.status.idle": "2024-07-31T20:06:26.871758Z"
        },
        "trusted": true,
        "id": "8NZGbteT5Zbh"
      },
      "execution_count": null,
      "outputs": []
    },
    {
      "cell_type": "markdown",
      "source": [
        "### z.test()"
      ],
      "metadata": {
        "id": "aLbXqnF25Zbh"
      }
    },
    {
      "cell_type": "code",
      "source": [
        "library(BSDA)"
      ],
      "metadata": {
        "execution": {
          "iopub.status.busy": "2024-07-31T20:06:26.874314Z",
          "iopub.execute_input": "2024-07-31T20:06:26.875770Z",
          "iopub.status.idle": "2024-07-31T20:06:26.917364Z"
        },
        "trusted": true,
        "id": "kshOuJgo5Zbh",
        "outputId": "f42a2f2e-a348-4cf0-cee1-35e93cae8161"
      },
      "execution_count": null,
      "outputs": [
        {
          "name": "stderr",
          "text": "Loading required package: lattice\n\n\nAttaching package: ‘BSDA’\n\n\nThe following object is masked from ‘package:datasets’:\n\n    Orange\n\n\n",
          "output_type": "stream"
        }
      ]
    },
    {
      "cell_type": "code",
      "source": [
        "resultado <- z.test(x = homens,\n",
        "                    y = mulheres,\n",
        "                    alternative = 'greater',\n",
        "                    mu = 0,\n",
        "                    sigma.x = sd(homens),\n",
        "                    sigma.y = sd(mulheres),\n",
        "                    conf.level = 0.99)\n",
        "resultado"
      ],
      "metadata": {
        "execution": {
          "iopub.status.busy": "2024-07-31T20:06:26.919949Z",
          "iopub.execute_input": "2024-07-31T20:06:26.921399Z",
          "iopub.status.idle": "2024-07-31T20:06:26.944370Z"
        },
        "trusted": true,
        "id": "XKB_pDO75Zbh",
        "outputId": "841592cb-3605-44e5-cce6-5d56024a4516"
      },
      "execution_count": null,
      "outputs": [
        {
          "output_type": "display_data",
          "data": {
            "text/plain": "\n\tTwo-sample z-Test\n\ndata:  homens and mulheres\nz = 5.8656, p-value = 2.237e-09\nalternative hypothesis: true difference in means is greater than 0\n99 percent confidence interval:\n 473.7115       NA\nsample estimates:\nmean of x mean of y \n 2142.608  1357.528 \n"
          },
          "metadata": {}
        }
      ]
    },
    {
      "cell_type": "code",
      "source": [
        "p_valor <- resultado$p.value\n",
        "p_valor"
      ],
      "metadata": {
        "execution": {
          "iopub.status.busy": "2024-07-31T20:06:26.946934Z",
          "iopub.execute_input": "2024-07-31T20:06:26.948354Z",
          "iopub.status.idle": "2024-07-31T20:06:26.964383Z"
        },
        "trusted": true,
        "id": "_WFCPeO-5Zbh",
        "outputId": "be99ab53-bc61-4208-cc24-7c5a70bc16b8"
      },
      "execution_count": null,
      "outputs": [
        {
          "output_type": "display_data",
          "data": {
            "text/html": "2.23728680026625e-09",
            "text/markdown": "2.23728680026625e-09",
            "text/latex": "2.23728680026625e-09",
            "text/plain": "[1] 2.237287e-09"
          },
          "metadata": {}
        }
      ]
    },
    {
      "cell_type": "code",
      "source": [
        "p_valor <= significancia"
      ],
      "metadata": {
        "execution": {
          "iopub.status.busy": "2024-07-31T20:06:26.967052Z",
          "iopub.execute_input": "2024-07-31T20:06:26.968562Z",
          "iopub.status.idle": "2024-07-31T20:06:26.982959Z"
        },
        "trusted": true,
        "id": "Rzf20yeX5Zbi",
        "outputId": "a7de814f-8afe-4a1a-8b1e-8b8e47f4d867"
      },
      "execution_count": null,
      "outputs": [
        {
          "output_type": "display_data",
          "data": {
            "text/html": "TRUE",
            "text/markdown": "TRUE",
            "text/latex": "TRUE",
            "text/plain": "[1] TRUE"
          },
          "metadata": {}
        }
      ]
    },
    {
      "cell_type": "markdown",
      "source": [
        "### <font color=red>Somente como observação</font>\n",
        "### t.test()"
      ],
      "metadata": {
        "id": "tefLBEj85Zbi"
      }
    },
    {
      "cell_type": "code",
      "source": [
        "resultado <- t.test(x = homens,\n",
        "                    y = mulheres,\n",
        "                    alternative = 'greater',\n",
        "                    paired = F,\n",
        "                    var.equal = T)\n",
        "resultado"
      ],
      "metadata": {
        "execution": {
          "iopub.status.busy": "2024-07-31T20:06:26.985689Z",
          "iopub.execute_input": "2024-07-31T20:06:26.987153Z",
          "iopub.status.idle": "2024-07-31T20:06:27.004329Z"
        },
        "trusted": true,
        "id": "dC3uiXKU5Zbi",
        "outputId": "67e1c246-6bc9-4d67-e03f-695fb2ee5d5d"
      },
      "execution_count": null,
      "outputs": [
        {
          "output_type": "display_data",
          "data": {
            "text/plain": "\n\tTwo Sample t-test\n\ndata:  homens and mulheres\nt = 5.8656, df = 998, p-value = 3.04e-09\nalternative hypothesis: true difference in means is greater than 0\n95 percent confidence interval:\n 564.7211      Inf\nsample estimates:\nmean of x mean of y \n 2142.608  1357.528 \n"
          },
          "metadata": {}
        }
      ]
    },
    {
      "cell_type": "code",
      "source": [
        "p_valor <- resultado$p.value\n",
        "p_valor"
      ],
      "metadata": {
        "execution": {
          "iopub.status.busy": "2024-07-31T20:06:27.006912Z",
          "iopub.execute_input": "2024-07-31T20:06:27.008344Z",
          "iopub.status.idle": "2024-07-31T20:06:27.024690Z"
        },
        "trusted": true,
        "id": "eWkOq8KI5Zbi",
        "outputId": "5ff0cda0-98bd-4c78-e547-9f39c39fd86f"
      },
      "execution_count": null,
      "outputs": [
        {
          "output_type": "display_data",
          "data": {
            "text/html": "3.04010400943369e-09",
            "text/markdown": "3.04010400943369e-09",
            "text/latex": "3.04010400943369e-09",
            "text/plain": "[1] 3.040104e-09"
          },
          "metadata": {}
        }
      ]
    },
    {
      "cell_type": "code",
      "source": [
        "p_valor <= significancia"
      ],
      "metadata": {
        "execution": {
          "iopub.status.busy": "2024-07-31T20:06:27.027318Z",
          "iopub.execute_input": "2024-07-31T20:06:27.028757Z",
          "iopub.status.idle": "2024-07-31T20:06:27.043012Z"
        },
        "trusted": true,
        "id": "2S8jrJRg5Zbi",
        "outputId": "e532cd64-2a61-48d6-8496-cd7aeddd2c88"
      },
      "execution_count": null,
      "outputs": [
        {
          "output_type": "display_data",
          "data": {
            "text/html": "TRUE",
            "text/markdown": "TRUE",
            "text/latex": "TRUE",
            "text/plain": "[1] TRUE"
          },
          "metadata": {}
        }
      ]
    },
    {
      "cell_type": "markdown",
      "source": [
        "---"
      ],
      "metadata": {
        "id": "0gxk-t4jpsl8"
      }
    },
    {
      "cell_type": "markdown",
      "source": [
        "# <font color=green>4 TESTES NÃO PARAMÉTRICOS</font>\n",
        "***"
      ],
      "metadata": {
        "id": "IEHa9ZC_psl8"
      }
    },
    {
      "cell_type": "markdown",
      "source": [
        "O trabalho com pequenas amostras pode levar a não aceitação da validade do teorema central do limite e também na impossibilidade de fazer suposições sobre a distribuição da variável avaliada. Quando isso ocorre torna-se necessária a aplicação de testes não paramétricos. Nos testes não paramétricos, não fazemos hipóteses sobre a distribuição (de probabilidade) das quais as observações são extraídas."
      ],
      "metadata": {
        "id": "8iRwKn9Wpsl8"
      }
    },
    {
      "cell_type": "markdown",
      "source": [
        "## <font color='red'>Problema</font>"
      ],
      "metadata": {
        "id": "ngqmtRxFpsl9"
      }
    },
    {
      "cell_type": "markdown",
      "source": [
        "Antes de cada partida do campeonato nacional de futebol, as moedas utilizadas pelos árbitros devem ser verificadas para se ter certeza de que não são viciadas, ou seja, que não tendam para determinado resultado. Para isso um teste simples deve ser realizado antes de cada partida. Este teste consiste em lançar a moeda do jogo **50 vezes** e contar as frequências de **CARAS** e **COROAS** obtidas. A tabela abaixo mostra o resultado obtido no experimento:\n",
        "\n",
        "||CARA|COROA|\n",
        "|-|-|-|\n",
        "|Observado|17|33|\n",
        "|Esperado|25|25|\n",
        "\n",
        "A um **nível de significância de 5%**, é possível afirmar que a moeda não é honesta, isto é, que a moeda apresenta uma probabilidade maior de cair com a face **CARA** voltada para cima?"
      ],
      "metadata": {
        "id": "Al0BiC02psl9"
      }
    },
    {
      "cell_type": "markdown",
      "source": [
        "## <font color=green>4.1 Teste do Qui-Quadrado ( $\\chi^2$)</font>\n",
        "***"
      ],
      "metadata": {
        "id": "56KA3Hnupsl9"
      }
    },
    {
      "cell_type": "markdown",
      "source": [
        "Também conhecido como teste de adequação ao ajustamento, seu nome se deve ao fato de utilizar uma variável estatística padronizada, representada pela letra grega qui ( $\\chi$) elevada ao quadrado. A tabela com os valores padronizados e como obtê-la podem ser vistos logo abaixo.\n",
        "\n",
        "O teste do $\\chi^2$ testa a hipótese nula de não haver diferença entre as frequências observadas de um determinado evento e as frequências que são realmente esperadas para este evento.\n",
        "\n",
        "Os passos de aplicação do teste são bem parecidos aos vistos para os testes paramétricos.\n",
        "\n",
        "![Região de Aceitação](https://caelum-online-public.s3.amazonaws.com/1229-estatistica-parte3/01/img017.png)"
      ],
      "metadata": {
        "id": "GxTlvB4Zpsl9"
      }
    },
    {
      "cell_type": "markdown",
      "source": [
        "### Construindo tabela $\\chi^2$\n",
        "\n",
        "#### <font color=red>Documentações:\n",
        "\n",
        "- [**Chisquare**](https://www.rdocumentation.org/packages/stats/versions/3.6.1/topics/Chisquare)"
      ],
      "metadata": {
        "id": "1lbHtKGfpsl9"
      }
    },
    {
      "cell_type": "code",
      "source": [
        "p <- c(0.005, 0.01, 0.025, 0.05, 0.1, 0.25, 0.5, 0.75, 0.9, 0.975, 0.95, 0.99, 0.995)\n",
        "df <- seq(1, 30, by = 1)\n",
        "probabilidade <- c()\n",
        "for(i in df){\n",
        "    for(j in p){\n",
        "        probabilidade <- c(probabilidade, round(qchisq(j, i, lower.tail = T), 4))\n",
        "    }\n",
        "}\n",
        "tabela_chi_2 <- matrix(probabilidade, ncol=13, byrow=TRUE)\n",
        "colnames(tabela_chi_2) <- format(p)\n",
        "rownames(tabela_chi_2) <- format(df)\n",
        "tabela_chi_2"
      ],
      "metadata": {
        "execution": {
          "iopub.status.busy": "2024-07-31T20:06:27.045716Z",
          "iopub.execute_input": "2024-07-31T20:06:27.047167Z",
          "iopub.status.idle": "2024-07-31T20:06:27.120976Z"
        },
        "trusted": true,
        "id": "cCzeKXwA5Zbk",
        "outputId": "0a235f8f-3df8-47bc-9faa-6d13060ee931"
      },
      "execution_count": null,
      "outputs": [
        {
          "output_type": "display_data",
          "data": {
            "text/html": "<table class=\"dataframe\">\n<caption>A matrix: 30 × 13 of type dbl</caption>\n<thead>\n\t<tr><th></th><th scope=col>0.005</th><th scope=col>0.010</th><th scope=col>0.025</th><th scope=col>0.050</th><th scope=col>0.100</th><th scope=col>0.250</th><th scope=col>0.500</th><th scope=col>0.750</th><th scope=col>0.900</th><th scope=col>0.975</th><th scope=col>0.950</th><th scope=col>0.990</th><th scope=col>0.995</th></tr>\n</thead>\n<tbody>\n\t<tr><th scope=row> 1</th><td> 0.0000</td><td> 0.0002</td><td> 0.0010</td><td> 0.0039</td><td> 0.0158</td><td> 0.1015</td><td> 0.4549</td><td> 1.3233</td><td> 2.7055</td><td> 5.0239</td><td> 3.8415</td><td> 6.6349</td><td> 7.8794</td></tr>\n\t<tr><th scope=row> 2</th><td> 0.0100</td><td> 0.0201</td><td> 0.0506</td><td> 0.1026</td><td> 0.2107</td><td> 0.5754</td><td> 1.3863</td><td> 2.7726</td><td> 4.6052</td><td> 7.3778</td><td> 5.9915</td><td> 9.2103</td><td>10.5966</td></tr>\n\t<tr><th scope=row> 3</th><td> 0.0717</td><td> 0.1148</td><td> 0.2158</td><td> 0.3518</td><td> 0.5844</td><td> 1.2125</td><td> 2.3660</td><td> 4.1083</td><td> 6.2514</td><td> 9.3484</td><td> 7.8147</td><td>11.3449</td><td>12.8382</td></tr>\n\t<tr><th scope=row> 4</th><td> 0.2070</td><td> 0.2971</td><td> 0.4844</td><td> 0.7107</td><td> 1.0636</td><td> 1.9226</td><td> 3.3567</td><td> 5.3853</td><td> 7.7794</td><td>11.1433</td><td> 9.4877</td><td>13.2767</td><td>14.8603</td></tr>\n\t<tr><th scope=row> 5</th><td> 0.4117</td><td> 0.5543</td><td> 0.8312</td><td> 1.1455</td><td> 1.6103</td><td> 2.6746</td><td> 4.3515</td><td> 6.6257</td><td> 9.2364</td><td>12.8325</td><td>11.0705</td><td>15.0863</td><td>16.7496</td></tr>\n\t<tr><th scope=row> 6</th><td> 0.6757</td><td> 0.8721</td><td> 1.2373</td><td> 1.6354</td><td> 2.2041</td><td> 3.4546</td><td> 5.3481</td><td> 7.8408</td><td>10.6446</td><td>14.4494</td><td>12.5916</td><td>16.8119</td><td>18.5476</td></tr>\n\t<tr><th scope=row> 7</th><td> 0.9893</td><td> 1.2390</td><td> 1.6899</td><td> 2.1673</td><td> 2.8331</td><td> 4.2549</td><td> 6.3458</td><td> 9.0371</td><td>12.0170</td><td>16.0128</td><td>14.0671</td><td>18.4753</td><td>20.2777</td></tr>\n\t<tr><th scope=row> 8</th><td> 1.3444</td><td> 1.6465</td><td> 2.1797</td><td> 2.7326</td><td> 3.4895</td><td> 5.0706</td><td> 7.3441</td><td>10.2189</td><td>13.3616</td><td>17.5345</td><td>15.5073</td><td>20.0902</td><td>21.9550</td></tr>\n\t<tr><th scope=row> 9</th><td> 1.7349</td><td> 2.0879</td><td> 2.7004</td><td> 3.3251</td><td> 4.1682</td><td> 5.8988</td><td> 8.3428</td><td>11.3888</td><td>14.6837</td><td>19.0228</td><td>16.9190</td><td>21.6660</td><td>23.5894</td></tr>\n\t<tr><th scope=row>10</th><td> 2.1559</td><td> 2.5582</td><td> 3.2470</td><td> 3.9403</td><td> 4.8652</td><td> 6.7372</td><td> 9.3418</td><td>12.5489</td><td>15.9872</td><td>20.4832</td><td>18.3070</td><td>23.2093</td><td>25.1882</td></tr>\n\t<tr><th scope=row>11</th><td> 2.6032</td><td> 3.0535</td><td> 3.8157</td><td> 4.5748</td><td> 5.5778</td><td> 7.5841</td><td>10.3410</td><td>13.7007</td><td>17.2750</td><td>21.9200</td><td>19.6751</td><td>24.7250</td><td>26.7568</td></tr>\n\t<tr><th scope=row>12</th><td> 3.0738</td><td> 3.5706</td><td> 4.4038</td><td> 5.2260</td><td> 6.3038</td><td> 8.4384</td><td>11.3403</td><td>14.8454</td><td>18.5493</td><td>23.3367</td><td>21.0261</td><td>26.2170</td><td>28.2995</td></tr>\n\t<tr><th scope=row>13</th><td> 3.5650</td><td> 4.1069</td><td> 5.0088</td><td> 5.8919</td><td> 7.0415</td><td> 9.2991</td><td>12.3398</td><td>15.9839</td><td>19.8119</td><td>24.7356</td><td>22.3620</td><td>27.6882</td><td>29.8195</td></tr>\n\t<tr><th scope=row>14</th><td> 4.0747</td><td> 4.6604</td><td> 5.6287</td><td> 6.5706</td><td> 7.7895</td><td>10.1653</td><td>13.3393</td><td>17.1169</td><td>21.0641</td><td>26.1189</td><td>23.6848</td><td>29.1412</td><td>31.3193</td></tr>\n\t<tr><th scope=row>15</th><td> 4.6009</td><td> 5.2293</td><td> 6.2621</td><td> 7.2609</td><td> 8.5468</td><td>11.0365</td><td>14.3389</td><td>18.2451</td><td>22.3071</td><td>27.4884</td><td>24.9958</td><td>30.5779</td><td>32.8013</td></tr>\n\t<tr><th scope=row>16</th><td> 5.1422</td><td> 5.8122</td><td> 6.9077</td><td> 7.9616</td><td> 9.3122</td><td>11.9122</td><td>15.3385</td><td>19.3689</td><td>23.5418</td><td>28.8454</td><td>26.2962</td><td>31.9999</td><td>34.2672</td></tr>\n\t<tr><th scope=row>17</th><td> 5.6972</td><td> 6.4078</td><td> 7.5642</td><td> 8.6718</td><td>10.0852</td><td>12.7919</td><td>16.3382</td><td>20.4887</td><td>24.7690</td><td>30.1910</td><td>27.5871</td><td>33.4087</td><td>35.7185</td></tr>\n\t<tr><th scope=row>18</th><td> 6.2648</td><td> 7.0149</td><td> 8.2307</td><td> 9.3905</td><td>10.8649</td><td>13.6753</td><td>17.3379</td><td>21.6049</td><td>25.9894</td><td>31.5264</td><td>28.8693</td><td>34.8053</td><td>37.1565</td></tr>\n\t<tr><th scope=row>19</th><td> 6.8440</td><td> 7.6327</td><td> 8.9065</td><td>10.1170</td><td>11.6509</td><td>14.5620</td><td>18.3377</td><td>22.7178</td><td>27.2036</td><td>32.8523</td><td>30.1435</td><td>36.1909</td><td>38.5823</td></tr>\n\t<tr><th scope=row>20</th><td> 7.4338</td><td> 8.2604</td><td> 9.5908</td><td>10.8508</td><td>12.4426</td><td>15.4518</td><td>19.3374</td><td>23.8277</td><td>28.4120</td><td>34.1696</td><td>31.4104</td><td>37.5662</td><td>39.9968</td></tr>\n\t<tr><th scope=row>21</th><td> 8.0337</td><td> 8.8972</td><td>10.2829</td><td>11.5913</td><td>13.2396</td><td>16.3444</td><td>20.3372</td><td>24.9348</td><td>29.6151</td><td>35.4789</td><td>32.6706</td><td>38.9322</td><td>41.4011</td></tr>\n\t<tr><th scope=row>22</th><td> 8.6427</td><td> 9.5425</td><td>10.9823</td><td>12.3380</td><td>14.0415</td><td>17.2396</td><td>21.3370</td><td>26.0393</td><td>30.8133</td><td>36.7807</td><td>33.9244</td><td>40.2894</td><td>42.7957</td></tr>\n\t<tr><th scope=row>23</th><td> 9.2604</td><td>10.1957</td><td>11.6886</td><td>13.0905</td><td>14.8480</td><td>18.1373</td><td>22.3369</td><td>27.1413</td><td>32.0069</td><td>38.0756</td><td>35.1725</td><td>41.6384</td><td>44.1813</td></tr>\n\t<tr><th scope=row>24</th><td> 9.8862</td><td>10.8564</td><td>12.4012</td><td>13.8484</td><td>15.6587</td><td>19.0373</td><td>23.3367</td><td>28.2412</td><td>33.1962</td><td>39.3641</td><td>36.4150</td><td>42.9798</td><td>45.5585</td></tr>\n\t<tr><th scope=row>25</th><td>10.5197</td><td>11.5240</td><td>13.1197</td><td>14.6114</td><td>16.4734</td><td>19.9393</td><td>24.3366</td><td>29.3389</td><td>34.3816</td><td>40.6465</td><td>37.6525</td><td>44.3141</td><td>46.9279</td></tr>\n\t<tr><th scope=row>26</th><td>11.1602</td><td>12.1981</td><td>13.8439</td><td>15.3792</td><td>17.2919</td><td>20.8434</td><td>25.3365</td><td>30.4346</td><td>35.5632</td><td>41.9232</td><td>38.8851</td><td>45.6417</td><td>48.2899</td></tr>\n\t<tr><th scope=row>27</th><td>11.8076</td><td>12.8785</td><td>14.5734</td><td>16.1514</td><td>18.1139</td><td>21.7494</td><td>26.3363</td><td>31.5284</td><td>36.7412</td><td>43.1945</td><td>40.1133</td><td>46.9629</td><td>49.6449</td></tr>\n\t<tr><th scope=row>28</th><td>12.4613</td><td>13.5647</td><td>15.3079</td><td>16.9279</td><td>18.9392</td><td>22.6572</td><td>27.3362</td><td>32.6205</td><td>37.9159</td><td>44.4608</td><td>41.3371</td><td>48.2782</td><td>50.9934</td></tr>\n\t<tr><th scope=row>29</th><td>13.1211</td><td>14.2565</td><td>16.0471</td><td>17.7084</td><td>19.7677</td><td>23.5666</td><td>28.3361</td><td>33.7109</td><td>39.0875</td><td>45.7223</td><td>42.5570</td><td>49.5879</td><td>52.3356</td></tr>\n\t<tr><th scope=row>30</th><td>13.7867</td><td>14.9535</td><td>16.7908</td><td>18.4927</td><td>20.5992</td><td>24.4776</td><td>29.3360</td><td>34.7997</td><td>40.2560</td><td>46.9792</td><td>43.7730</td><td>50.8922</td><td>53.6720</td></tr>\n</tbody>\n</table>\n",
            "text/markdown": "\nA matrix: 30 × 13 of type dbl\n\n| <!--/--> | 0.005 | 0.010 | 0.025 | 0.050 | 0.100 | 0.250 | 0.500 | 0.750 | 0.900 | 0.975 | 0.950 | 0.990 | 0.995 |\n|---|---|---|---|---|---|---|---|---|---|---|---|---|---|\n|  1 |  0.0000 |  0.0002 |  0.0010 |  0.0039 |  0.0158 |  0.1015 |  0.4549 |  1.3233 |  2.7055 |  5.0239 |  3.8415 |  6.6349 |  7.8794 |\n|  2 |  0.0100 |  0.0201 |  0.0506 |  0.1026 |  0.2107 |  0.5754 |  1.3863 |  2.7726 |  4.6052 |  7.3778 |  5.9915 |  9.2103 | 10.5966 |\n|  3 |  0.0717 |  0.1148 |  0.2158 |  0.3518 |  0.5844 |  1.2125 |  2.3660 |  4.1083 |  6.2514 |  9.3484 |  7.8147 | 11.3449 | 12.8382 |\n|  4 |  0.2070 |  0.2971 |  0.4844 |  0.7107 |  1.0636 |  1.9226 |  3.3567 |  5.3853 |  7.7794 | 11.1433 |  9.4877 | 13.2767 | 14.8603 |\n|  5 |  0.4117 |  0.5543 |  0.8312 |  1.1455 |  1.6103 |  2.6746 |  4.3515 |  6.6257 |  9.2364 | 12.8325 | 11.0705 | 15.0863 | 16.7496 |\n|  6 |  0.6757 |  0.8721 |  1.2373 |  1.6354 |  2.2041 |  3.4546 |  5.3481 |  7.8408 | 10.6446 | 14.4494 | 12.5916 | 16.8119 | 18.5476 |\n|  7 |  0.9893 |  1.2390 |  1.6899 |  2.1673 |  2.8331 |  4.2549 |  6.3458 |  9.0371 | 12.0170 | 16.0128 | 14.0671 | 18.4753 | 20.2777 |\n|  8 |  1.3444 |  1.6465 |  2.1797 |  2.7326 |  3.4895 |  5.0706 |  7.3441 | 10.2189 | 13.3616 | 17.5345 | 15.5073 | 20.0902 | 21.9550 |\n|  9 |  1.7349 |  2.0879 |  2.7004 |  3.3251 |  4.1682 |  5.8988 |  8.3428 | 11.3888 | 14.6837 | 19.0228 | 16.9190 | 21.6660 | 23.5894 |\n| 10 |  2.1559 |  2.5582 |  3.2470 |  3.9403 |  4.8652 |  6.7372 |  9.3418 | 12.5489 | 15.9872 | 20.4832 | 18.3070 | 23.2093 | 25.1882 |\n| 11 |  2.6032 |  3.0535 |  3.8157 |  4.5748 |  5.5778 |  7.5841 | 10.3410 | 13.7007 | 17.2750 | 21.9200 | 19.6751 | 24.7250 | 26.7568 |\n| 12 |  3.0738 |  3.5706 |  4.4038 |  5.2260 |  6.3038 |  8.4384 | 11.3403 | 14.8454 | 18.5493 | 23.3367 | 21.0261 | 26.2170 | 28.2995 |\n| 13 |  3.5650 |  4.1069 |  5.0088 |  5.8919 |  7.0415 |  9.2991 | 12.3398 | 15.9839 | 19.8119 | 24.7356 | 22.3620 | 27.6882 | 29.8195 |\n| 14 |  4.0747 |  4.6604 |  5.6287 |  6.5706 |  7.7895 | 10.1653 | 13.3393 | 17.1169 | 21.0641 | 26.1189 | 23.6848 | 29.1412 | 31.3193 |\n| 15 |  4.6009 |  5.2293 |  6.2621 |  7.2609 |  8.5468 | 11.0365 | 14.3389 | 18.2451 | 22.3071 | 27.4884 | 24.9958 | 30.5779 | 32.8013 |\n| 16 |  5.1422 |  5.8122 |  6.9077 |  7.9616 |  9.3122 | 11.9122 | 15.3385 | 19.3689 | 23.5418 | 28.8454 | 26.2962 | 31.9999 | 34.2672 |\n| 17 |  5.6972 |  6.4078 |  7.5642 |  8.6718 | 10.0852 | 12.7919 | 16.3382 | 20.4887 | 24.7690 | 30.1910 | 27.5871 | 33.4087 | 35.7185 |\n| 18 |  6.2648 |  7.0149 |  8.2307 |  9.3905 | 10.8649 | 13.6753 | 17.3379 | 21.6049 | 25.9894 | 31.5264 | 28.8693 | 34.8053 | 37.1565 |\n| 19 |  6.8440 |  7.6327 |  8.9065 | 10.1170 | 11.6509 | 14.5620 | 18.3377 | 22.7178 | 27.2036 | 32.8523 | 30.1435 | 36.1909 | 38.5823 |\n| 20 |  7.4338 |  8.2604 |  9.5908 | 10.8508 | 12.4426 | 15.4518 | 19.3374 | 23.8277 | 28.4120 | 34.1696 | 31.4104 | 37.5662 | 39.9968 |\n| 21 |  8.0337 |  8.8972 | 10.2829 | 11.5913 | 13.2396 | 16.3444 | 20.3372 | 24.9348 | 29.6151 | 35.4789 | 32.6706 | 38.9322 | 41.4011 |\n| 22 |  8.6427 |  9.5425 | 10.9823 | 12.3380 | 14.0415 | 17.2396 | 21.3370 | 26.0393 | 30.8133 | 36.7807 | 33.9244 | 40.2894 | 42.7957 |\n| 23 |  9.2604 | 10.1957 | 11.6886 | 13.0905 | 14.8480 | 18.1373 | 22.3369 | 27.1413 | 32.0069 | 38.0756 | 35.1725 | 41.6384 | 44.1813 |\n| 24 |  9.8862 | 10.8564 | 12.4012 | 13.8484 | 15.6587 | 19.0373 | 23.3367 | 28.2412 | 33.1962 | 39.3641 | 36.4150 | 42.9798 | 45.5585 |\n| 25 | 10.5197 | 11.5240 | 13.1197 | 14.6114 | 16.4734 | 19.9393 | 24.3366 | 29.3389 | 34.3816 | 40.6465 | 37.6525 | 44.3141 | 46.9279 |\n| 26 | 11.1602 | 12.1981 | 13.8439 | 15.3792 | 17.2919 | 20.8434 | 25.3365 | 30.4346 | 35.5632 | 41.9232 | 38.8851 | 45.6417 | 48.2899 |\n| 27 | 11.8076 | 12.8785 | 14.5734 | 16.1514 | 18.1139 | 21.7494 | 26.3363 | 31.5284 | 36.7412 | 43.1945 | 40.1133 | 46.9629 | 49.6449 |\n| 28 | 12.4613 | 13.5647 | 15.3079 | 16.9279 | 18.9392 | 22.6572 | 27.3362 | 32.6205 | 37.9159 | 44.4608 | 41.3371 | 48.2782 | 50.9934 |\n| 29 | 13.1211 | 14.2565 | 16.0471 | 17.7084 | 19.7677 | 23.5666 | 28.3361 | 33.7109 | 39.0875 | 45.7223 | 42.5570 | 49.5879 | 52.3356 |\n| 30 | 13.7867 | 14.9535 | 16.7908 | 18.4927 | 20.5992 | 24.4776 | 29.3360 | 34.7997 | 40.2560 | 46.9792 | 43.7730 | 50.8922 | 53.6720 |\n\n",
            "text/latex": "A matrix: 30 × 13 of type dbl\n\\begin{tabular}{r|lllllllllllll}\n  & 0.005 & 0.010 & 0.025 & 0.050 & 0.100 & 0.250 & 0.500 & 0.750 & 0.900 & 0.975 & 0.950 & 0.990 & 0.995\\\\\n\\hline\n\t 1 &  0.0000 &  0.0002 &  0.0010 &  0.0039 &  0.0158 &  0.1015 &  0.4549 &  1.3233 &  2.7055 &  5.0239 &  3.8415 &  6.6349 &  7.8794\\\\\n\t 2 &  0.0100 &  0.0201 &  0.0506 &  0.1026 &  0.2107 &  0.5754 &  1.3863 &  2.7726 &  4.6052 &  7.3778 &  5.9915 &  9.2103 & 10.5966\\\\\n\t 3 &  0.0717 &  0.1148 &  0.2158 &  0.3518 &  0.5844 &  1.2125 &  2.3660 &  4.1083 &  6.2514 &  9.3484 &  7.8147 & 11.3449 & 12.8382\\\\\n\t 4 &  0.2070 &  0.2971 &  0.4844 &  0.7107 &  1.0636 &  1.9226 &  3.3567 &  5.3853 &  7.7794 & 11.1433 &  9.4877 & 13.2767 & 14.8603\\\\\n\t 5 &  0.4117 &  0.5543 &  0.8312 &  1.1455 &  1.6103 &  2.6746 &  4.3515 &  6.6257 &  9.2364 & 12.8325 & 11.0705 & 15.0863 & 16.7496\\\\\n\t 6 &  0.6757 &  0.8721 &  1.2373 &  1.6354 &  2.2041 &  3.4546 &  5.3481 &  7.8408 & 10.6446 & 14.4494 & 12.5916 & 16.8119 & 18.5476\\\\\n\t 7 &  0.9893 &  1.2390 &  1.6899 &  2.1673 &  2.8331 &  4.2549 &  6.3458 &  9.0371 & 12.0170 & 16.0128 & 14.0671 & 18.4753 & 20.2777\\\\\n\t 8 &  1.3444 &  1.6465 &  2.1797 &  2.7326 &  3.4895 &  5.0706 &  7.3441 & 10.2189 & 13.3616 & 17.5345 & 15.5073 & 20.0902 & 21.9550\\\\\n\t 9 &  1.7349 &  2.0879 &  2.7004 &  3.3251 &  4.1682 &  5.8988 &  8.3428 & 11.3888 & 14.6837 & 19.0228 & 16.9190 & 21.6660 & 23.5894\\\\\n\t10 &  2.1559 &  2.5582 &  3.2470 &  3.9403 &  4.8652 &  6.7372 &  9.3418 & 12.5489 & 15.9872 & 20.4832 & 18.3070 & 23.2093 & 25.1882\\\\\n\t11 &  2.6032 &  3.0535 &  3.8157 &  4.5748 &  5.5778 &  7.5841 & 10.3410 & 13.7007 & 17.2750 & 21.9200 & 19.6751 & 24.7250 & 26.7568\\\\\n\t12 &  3.0738 &  3.5706 &  4.4038 &  5.2260 &  6.3038 &  8.4384 & 11.3403 & 14.8454 & 18.5493 & 23.3367 & 21.0261 & 26.2170 & 28.2995\\\\\n\t13 &  3.5650 &  4.1069 &  5.0088 &  5.8919 &  7.0415 &  9.2991 & 12.3398 & 15.9839 & 19.8119 & 24.7356 & 22.3620 & 27.6882 & 29.8195\\\\\n\t14 &  4.0747 &  4.6604 &  5.6287 &  6.5706 &  7.7895 & 10.1653 & 13.3393 & 17.1169 & 21.0641 & 26.1189 & 23.6848 & 29.1412 & 31.3193\\\\\n\t15 &  4.6009 &  5.2293 &  6.2621 &  7.2609 &  8.5468 & 11.0365 & 14.3389 & 18.2451 & 22.3071 & 27.4884 & 24.9958 & 30.5779 & 32.8013\\\\\n\t16 &  5.1422 &  5.8122 &  6.9077 &  7.9616 &  9.3122 & 11.9122 & 15.3385 & 19.3689 & 23.5418 & 28.8454 & 26.2962 & 31.9999 & 34.2672\\\\\n\t17 &  5.6972 &  6.4078 &  7.5642 &  8.6718 & 10.0852 & 12.7919 & 16.3382 & 20.4887 & 24.7690 & 30.1910 & 27.5871 & 33.4087 & 35.7185\\\\\n\t18 &  6.2648 &  7.0149 &  8.2307 &  9.3905 & 10.8649 & 13.6753 & 17.3379 & 21.6049 & 25.9894 & 31.5264 & 28.8693 & 34.8053 & 37.1565\\\\\n\t19 &  6.8440 &  7.6327 &  8.9065 & 10.1170 & 11.6509 & 14.5620 & 18.3377 & 22.7178 & 27.2036 & 32.8523 & 30.1435 & 36.1909 & 38.5823\\\\\n\t20 &  7.4338 &  8.2604 &  9.5908 & 10.8508 & 12.4426 & 15.4518 & 19.3374 & 23.8277 & 28.4120 & 34.1696 & 31.4104 & 37.5662 & 39.9968\\\\\n\t21 &  8.0337 &  8.8972 & 10.2829 & 11.5913 & 13.2396 & 16.3444 & 20.3372 & 24.9348 & 29.6151 & 35.4789 & 32.6706 & 38.9322 & 41.4011\\\\\n\t22 &  8.6427 &  9.5425 & 10.9823 & 12.3380 & 14.0415 & 17.2396 & 21.3370 & 26.0393 & 30.8133 & 36.7807 & 33.9244 & 40.2894 & 42.7957\\\\\n\t23 &  9.2604 & 10.1957 & 11.6886 & 13.0905 & 14.8480 & 18.1373 & 22.3369 & 27.1413 & 32.0069 & 38.0756 & 35.1725 & 41.6384 & 44.1813\\\\\n\t24 &  9.8862 & 10.8564 & 12.4012 & 13.8484 & 15.6587 & 19.0373 & 23.3367 & 28.2412 & 33.1962 & 39.3641 & 36.4150 & 42.9798 & 45.5585\\\\\n\t25 & 10.5197 & 11.5240 & 13.1197 & 14.6114 & 16.4734 & 19.9393 & 24.3366 & 29.3389 & 34.3816 & 40.6465 & 37.6525 & 44.3141 & 46.9279\\\\\n\t26 & 11.1602 & 12.1981 & 13.8439 & 15.3792 & 17.2919 & 20.8434 & 25.3365 & 30.4346 & 35.5632 & 41.9232 & 38.8851 & 45.6417 & 48.2899\\\\\n\t27 & 11.8076 & 12.8785 & 14.5734 & 16.1514 & 18.1139 & 21.7494 & 26.3363 & 31.5284 & 36.7412 & 43.1945 & 40.1133 & 46.9629 & 49.6449\\\\\n\t28 & 12.4613 & 13.5647 & 15.3079 & 16.9279 & 18.9392 & 22.6572 & 27.3362 & 32.6205 & 37.9159 & 44.4608 & 41.3371 & 48.2782 & 50.9934\\\\\n\t29 & 13.1211 & 14.2565 & 16.0471 & 17.7084 & 19.7677 & 23.5666 & 28.3361 & 33.7109 & 39.0875 & 45.7223 & 42.5570 & 49.5879 & 52.3356\\\\\n\t30 & 13.7867 & 14.9535 & 16.7908 & 18.4927 & 20.5992 & 24.4776 & 29.3360 & 34.7997 & 40.2560 & 46.9792 & 43.7730 & 50.8922 & 53.6720\\\\\n\\end{tabular}\n",
            "text/plain": "   0.005   0.010   0.025   0.050   0.100   0.250   0.500   0.750   0.900  \n 1  0.0000  0.0002  0.0010  0.0039  0.0158  0.1015  0.4549  1.3233  2.7055\n 2  0.0100  0.0201  0.0506  0.1026  0.2107  0.5754  1.3863  2.7726  4.6052\n 3  0.0717  0.1148  0.2158  0.3518  0.5844  1.2125  2.3660  4.1083  6.2514\n 4  0.2070  0.2971  0.4844  0.7107  1.0636  1.9226  3.3567  5.3853  7.7794\n 5  0.4117  0.5543  0.8312  1.1455  1.6103  2.6746  4.3515  6.6257  9.2364\n 6  0.6757  0.8721  1.2373  1.6354  2.2041  3.4546  5.3481  7.8408 10.6446\n 7  0.9893  1.2390  1.6899  2.1673  2.8331  4.2549  6.3458  9.0371 12.0170\n 8  1.3444  1.6465  2.1797  2.7326  3.4895  5.0706  7.3441 10.2189 13.3616\n 9  1.7349  2.0879  2.7004  3.3251  4.1682  5.8988  8.3428 11.3888 14.6837\n10  2.1559  2.5582  3.2470  3.9403  4.8652  6.7372  9.3418 12.5489 15.9872\n11  2.6032  3.0535  3.8157  4.5748  5.5778  7.5841 10.3410 13.7007 17.2750\n12  3.0738  3.5706  4.4038  5.2260  6.3038  8.4384 11.3403 14.8454 18.5493\n13  3.5650  4.1069  5.0088  5.8919  7.0415  9.2991 12.3398 15.9839 19.8119\n14  4.0747  4.6604  5.6287  6.5706  7.7895 10.1653 13.3393 17.1169 21.0641\n15  4.6009  5.2293  6.2621  7.2609  8.5468 11.0365 14.3389 18.2451 22.3071\n16  5.1422  5.8122  6.9077  7.9616  9.3122 11.9122 15.3385 19.3689 23.5418\n17  5.6972  6.4078  7.5642  8.6718 10.0852 12.7919 16.3382 20.4887 24.7690\n18  6.2648  7.0149  8.2307  9.3905 10.8649 13.6753 17.3379 21.6049 25.9894\n19  6.8440  7.6327  8.9065 10.1170 11.6509 14.5620 18.3377 22.7178 27.2036\n20  7.4338  8.2604  9.5908 10.8508 12.4426 15.4518 19.3374 23.8277 28.4120\n21  8.0337  8.8972 10.2829 11.5913 13.2396 16.3444 20.3372 24.9348 29.6151\n22  8.6427  9.5425 10.9823 12.3380 14.0415 17.2396 21.3370 26.0393 30.8133\n23  9.2604 10.1957 11.6886 13.0905 14.8480 18.1373 22.3369 27.1413 32.0069\n24  9.8862 10.8564 12.4012 13.8484 15.6587 19.0373 23.3367 28.2412 33.1962\n25 10.5197 11.5240 13.1197 14.6114 16.4734 19.9393 24.3366 29.3389 34.3816\n26 11.1602 12.1981 13.8439 15.3792 17.2919 20.8434 25.3365 30.4346 35.5632\n27 11.8076 12.8785 14.5734 16.1514 18.1139 21.7494 26.3363 31.5284 36.7412\n28 12.4613 13.5647 15.3079 16.9279 18.9392 22.6572 27.3362 32.6205 37.9159\n29 13.1211 14.2565 16.0471 17.7084 19.7677 23.5666 28.3361 33.7109 39.0875\n30 13.7867 14.9535 16.7908 18.4927 20.5992 24.4776 29.3360 34.7997 40.2560\n   0.975   0.950   0.990   0.995  \n 1  5.0239  3.8415  6.6349  7.8794\n 2  7.3778  5.9915  9.2103 10.5966\n 3  9.3484  7.8147 11.3449 12.8382\n 4 11.1433  9.4877 13.2767 14.8603\n 5 12.8325 11.0705 15.0863 16.7496\n 6 14.4494 12.5916 16.8119 18.5476\n 7 16.0128 14.0671 18.4753 20.2777\n 8 17.5345 15.5073 20.0902 21.9550\n 9 19.0228 16.9190 21.6660 23.5894\n10 20.4832 18.3070 23.2093 25.1882\n11 21.9200 19.6751 24.7250 26.7568\n12 23.3367 21.0261 26.2170 28.2995\n13 24.7356 22.3620 27.6882 29.8195\n14 26.1189 23.6848 29.1412 31.3193\n15 27.4884 24.9958 30.5779 32.8013\n16 28.8454 26.2962 31.9999 34.2672\n17 30.1910 27.5871 33.4087 35.7185\n18 31.5264 28.8693 34.8053 37.1565\n19 32.8523 30.1435 36.1909 38.5823\n20 34.1696 31.4104 37.5662 39.9968\n21 35.4789 32.6706 38.9322 41.4011\n22 36.7807 33.9244 40.2894 42.7957\n23 38.0756 35.1725 41.6384 44.1813\n24 39.3641 36.4150 42.9798 45.5585\n25 40.6465 37.6525 44.3141 46.9279\n26 41.9232 38.8851 45.6417 48.2899\n27 43.1945 40.1133 46.9629 49.6449\n28 44.4608 41.3371 48.2782 50.9934\n29 45.7223 42.5570 49.5879 52.3356\n30 46.9792 43.7730 50.8922 53.6720"
          },
          "metadata": {}
        }
      ]
    },
    {
      "cell_type": "markdown",
      "source": [
        "<img src='https://caelum-online-public.s3.amazonaws.com/1229-estatistica-parte3/01/img016.png' width='250px'>\n",
        "\n",
        "Tabela com os valores de $\\chi_p^2$ em função dos graus de liberdade $(n - 1)$ e de $p = P(\\chi^2 \\leq \\chi_p^2)$"
      ],
      "metadata": {
        "id": "UkzhYAPDpsl_"
      }
    },
    {
      "cell_type": "markdown",
      "source": [
        "## <font color='red'>Problema</font>"
      ],
      "metadata": {
        "id": "cCPOqVFKpsl_"
      }
    },
    {
      "cell_type": "markdown",
      "source": [
        "Antes de cada partida do campeonato nacional de futebol, as moedas utilizadas pelos árbitros devem ser verificadas para se ter certeza de que não são viciadas, ou seja, que não tendam para determinado resultado. Para isso um teste simples deve ser realizado antes de cada partida. Este teste consiste em lançar a moeda do jogo **50 vezes** e contar as frequências de **CARAS** e **COROAS** obtidas. A tabela abaixo mostra o resultado obtido no experimento:\n",
        "\n",
        "||CARA|COROA|\n",
        "|-|-|-|\n",
        "|Observado|17|33|\n",
        "|Esperado|25|25|\n",
        "\n",
        "A um **nível de significância de 5%**, é possível afirmar que a moeda não é honesta, isto é, que a moeda apresenta uma probabilidade maior de cair com a face **CARA** voltada para cima?"
      ],
      "metadata": {
        "id": "GTq1wpkbpsl_"
      }
    },
    {
      "cell_type": "markdown",
      "source": [
        "---"
      ],
      "metadata": {
        "id": "CSlCI1wUpsl_"
      }
    },
    {
      "cell_type": "markdown",
      "source": [
        "### Dados do problema"
      ],
      "metadata": {
        "id": "Op26YDWnpsmA"
      }
    },
    {
      "cell_type": "code",
      "source": [
        "F_Observada <- c(17, 33)\n",
        "F_Esperada <- c(25, 25)\n",
        "significancia <- 0.05\n",
        "confianca <- 1 - significancia\n",
        "k <- 2 # Número de eventos possíveis\n",
        "graus_de_liberdade <- k - 1"
      ],
      "metadata": {
        "id": "p5iOqxk2psmA",
        "execution": {
          "iopub.status.busy": "2024-07-31T20:06:27.123677Z",
          "iopub.execute_input": "2024-07-31T20:06:27.125223Z",
          "iopub.status.idle": "2024-07-31T20:06:27.145594Z"
        },
        "trusted": true
      },
      "execution_count": null,
      "outputs": []
    },
    {
      "cell_type": "markdown",
      "source": [
        "### **Passo 1** - formulação das hipóteses $H_0$ e $H_1$\n",
        "\n",
        "#### <font color='red'>Lembre-se, a hipótese nula sempre contém a alegação de igualdade</font>"
      ],
      "metadata": {
        "id": "w6A74pM-psmB"
      }
    },
    {
      "cell_type": "markdown",
      "source": [
        "### $H_0: F_{CARA} = F_{COROA}$\n",
        "\n",
        "### $H_1: F_{CARA} \\neq F_{COROA}$"
      ],
      "metadata": {
        "id": "zA4AD5_8psmB"
      }
    },
    {
      "cell_type": "markdown",
      "source": [
        "---"
      ],
      "metadata": {
        "id": "rUtuw6_bpsmB"
      }
    },
    {
      "cell_type": "markdown",
      "source": [
        "### **Passo 2** - fixação da significância do teste ($\\alpha$)"
      ],
      "metadata": {
        "id": "Zi2oE6ZbpsmB"
      }
    },
    {
      "cell_type": "markdown",
      "source": [
        "https://docs.scipy.org/doc/scipy/reference/generated/scipy.stats.chi.html"
      ],
      "metadata": {
        "id": "cCL8Wyy7psmC"
      }
    },
    {
      "cell_type": "code",
      "source": [
        "tabela_chi_2[1:3, ]"
      ],
      "metadata": {
        "colab": {
          "base_uri": "https://localhost:8080/",
          "height": 210
        },
        "id": "WRsJSXxGpsmE",
        "outputId": "106db812-4580-4e1f-e7d3-5070da776d1f",
        "scrolled": true,
        "execution": {
          "iopub.status.busy": "2024-07-31T20:06:27.148271Z",
          "iopub.execute_input": "2024-07-31T20:06:27.149758Z",
          "iopub.status.idle": "2024-07-31T20:06:27.170567Z"
        },
        "trusted": true
      },
      "execution_count": null,
      "outputs": [
        {
          "output_type": "display_data",
          "data": {
            "text/html": "<table class=\"dataframe\">\n<caption>A matrix: 3 × 13 of type dbl</caption>\n<thead>\n\t<tr><th></th><th scope=col>0.005</th><th scope=col>0.010</th><th scope=col>0.025</th><th scope=col>0.050</th><th scope=col>0.100</th><th scope=col>0.250</th><th scope=col>0.500</th><th scope=col>0.750</th><th scope=col>0.900</th><th scope=col>0.975</th><th scope=col>0.950</th><th scope=col>0.990</th><th scope=col>0.995</th></tr>\n</thead>\n<tbody>\n\t<tr><th scope=row> 1</th><td>0.0000</td><td>0.0002</td><td>0.0010</td><td>0.0039</td><td>0.0158</td><td>0.1015</td><td>0.4549</td><td>1.3233</td><td>2.7055</td><td>5.0239</td><td>3.8415</td><td> 6.6349</td><td> 7.8794</td></tr>\n\t<tr><th scope=row> 2</th><td>0.0100</td><td>0.0201</td><td>0.0506</td><td>0.1026</td><td>0.2107</td><td>0.5754</td><td>1.3863</td><td>2.7726</td><td>4.6052</td><td>7.3778</td><td>5.9915</td><td> 9.2103</td><td>10.5966</td></tr>\n\t<tr><th scope=row> 3</th><td>0.0717</td><td>0.1148</td><td>0.2158</td><td>0.3518</td><td>0.5844</td><td>1.2125</td><td>2.3660</td><td>4.1083</td><td>6.2514</td><td>9.3484</td><td>7.8147</td><td>11.3449</td><td>12.8382</td></tr>\n</tbody>\n</table>\n",
            "text/markdown": "\nA matrix: 3 × 13 of type dbl\n\n| <!--/--> | 0.005 | 0.010 | 0.025 | 0.050 | 0.100 | 0.250 | 0.500 | 0.750 | 0.900 | 0.975 | 0.950 | 0.990 | 0.995 |\n|---|---|---|---|---|---|---|---|---|---|---|---|---|---|\n|  1 | 0.0000 | 0.0002 | 0.0010 | 0.0039 | 0.0158 | 0.1015 | 0.4549 | 1.3233 | 2.7055 | 5.0239 | 3.8415 |  6.6349 |  7.8794 |\n|  2 | 0.0100 | 0.0201 | 0.0506 | 0.1026 | 0.2107 | 0.5754 | 1.3863 | 2.7726 | 4.6052 | 7.3778 | 5.9915 |  9.2103 | 10.5966 |\n|  3 | 0.0717 | 0.1148 | 0.2158 | 0.3518 | 0.5844 | 1.2125 | 2.3660 | 4.1083 | 6.2514 | 9.3484 | 7.8147 | 11.3449 | 12.8382 |\n\n",
            "text/latex": "A matrix: 3 × 13 of type dbl\n\\begin{tabular}{r|lllllllllllll}\n  & 0.005 & 0.010 & 0.025 & 0.050 & 0.100 & 0.250 & 0.500 & 0.750 & 0.900 & 0.975 & 0.950 & 0.990 & 0.995\\\\\n\\hline\n\t 1 & 0.0000 & 0.0002 & 0.0010 & 0.0039 & 0.0158 & 0.1015 & 0.4549 & 1.3233 & 2.7055 & 5.0239 & 3.8415 &  6.6349 &  7.8794\\\\\n\t 2 & 0.0100 & 0.0201 & 0.0506 & 0.1026 & 0.2107 & 0.5754 & 1.3863 & 2.7726 & 4.6052 & 7.3778 & 5.9915 &  9.2103 & 10.5966\\\\\n\t 3 & 0.0717 & 0.1148 & 0.2158 & 0.3518 & 0.5844 & 1.2125 & 2.3660 & 4.1083 & 6.2514 & 9.3484 & 7.8147 & 11.3449 & 12.8382\\\\\n\\end{tabular}\n",
            "text/plain": "   0.005  0.010  0.025  0.050  0.100  0.250  0.500  0.750  0.900  0.975  0.950 \n 1 0.0000 0.0002 0.0010 0.0039 0.0158 0.1015 0.4549 1.3233 2.7055 5.0239 3.8415\n 2 0.0100 0.0201 0.0506 0.1026 0.2107 0.5754 1.3863 2.7726 4.6052 7.3778 5.9915\n 3 0.0717 0.1148 0.2158 0.3518 0.5844 1.2125 2.3660 4.1083 6.2514 9.3484 7.8147\n   0.990   0.995  \n 1  6.6349  7.8794\n 2  9.2103 10.5966\n 3 11.3449 12.8382"
          },
          "metadata": {}
        }
      ]
    },
    {
      "cell_type": "markdown",
      "source": [
        "### Obtendo $\\chi_{\\alpha}^2$"
      ],
      "metadata": {
        "id": "0RRjHQm7psmF"
      }
    },
    {
      "cell_type": "code",
      "source": [
        "chi_2_alpha <- qchisq(confianca, graus_de_liberdade)\n",
        "chi_2_alpha"
      ],
      "metadata": {
        "execution": {
          "iopub.status.busy": "2024-07-31T20:06:27.173156Z",
          "iopub.execute_input": "2024-07-31T20:06:27.174602Z",
          "iopub.status.idle": "2024-07-31T20:06:27.190505Z"
        },
        "trusted": true,
        "id": "hNKXVT5F5Zbp",
        "outputId": "53ffd164-235d-44bb-bd4a-db7592609adc"
      },
      "execution_count": null,
      "outputs": [
        {
          "output_type": "display_data",
          "data": {
            "text/html": "3.84145882069412",
            "text/markdown": "3.84145882069412",
            "text/latex": "3.84145882069412",
            "text/plain": "[1] 3.841459"
          },
          "metadata": {}
        }
      ]
    },
    {
      "cell_type": "markdown",
      "source": [
        "![Região de Aceitação](https://caelum-online-public.s3.amazonaws.com/1229-estatistica-parte3/01/img018.png)"
      ],
      "metadata": {
        "id": "aHxm3ZCupsmJ"
      }
    },
    {
      "cell_type": "markdown",
      "source": [
        "---"
      ],
      "metadata": {
        "id": "FxLr2OnDpsmJ"
      }
    },
    {
      "cell_type": "markdown",
      "source": [
        "### **Passo 3** - cálculo da estatística-teste e verificação desse valor com as áreas de aceitação e rejeição do teste\n",
        "\n",
        "# $$\\chi^2 = \\sum_{i=1}^{k}{\\frac{(F_{i}^{Obs} - F_{i}^{Esp})^2}{F_{i}^{Esp}}}$$\n",
        "\n",
        "Onde\n",
        "\n",
        "$F_{i}^{Obs}$ = frequência observada para o evento $i$\n",
        "\n",
        "$F_{i}^{Esp}$ = frequência esperada para o evento $i$\n",
        "\n",
        "$k$ = total de eventos possíveis"
      ],
      "metadata": {
        "id": "JcUvBM5OpsmJ"
      }
    },
    {
      "cell_type": "code",
      "source": [
        "chi_2 <- ( (F_Observada[1] - F_Esperada[1]) ** 2 / F_Esperada[1] ) + ( (F_Observada[2] - F_Esperada[2]) ** 2 / F_Esperada[2] )\n",
        "chi_2"
      ],
      "metadata": {
        "colab": {
          "base_uri": "https://localhost:8080/",
          "height": 35
        },
        "id": "2b32Y6HiuT-u",
        "outputId": "785b6961-162e-4672-9a71-2110af6ed3f4",
        "execution": {
          "iopub.status.busy": "2024-07-31T20:06:27.193280Z",
          "iopub.execute_input": "2024-07-31T20:06:27.194818Z",
          "iopub.status.idle": "2024-07-31T20:06:27.210684Z"
        },
        "trusted": true
      },
      "execution_count": null,
      "outputs": [
        {
          "output_type": "display_data",
          "data": {
            "text/html": "5.12",
            "text/markdown": "5.12",
            "text/latex": "5.12",
            "text/plain": "[1] 5.12"
          },
          "metadata": {}
        }
      ]
    },
    {
      "cell_type": "code",
      "source": [
        "chi_2 = 0\n",
        "for(i in 1:k){\n",
        "    chi_2 <- chi_2 + (F_Observada[i] - F_Esperada[i]) ** 2 / F_Esperada[i]\n",
        "}\n",
        "chi_2"
      ],
      "metadata": {
        "colab": {
          "base_uri": "https://localhost:8080/",
          "height": 35
        },
        "id": "7eL97ts8psmJ",
        "outputId": "7667b7de-8e7b-46df-fe08-d84eecac6c83",
        "execution": {
          "iopub.status.busy": "2024-07-31T20:06:27.213449Z",
          "iopub.execute_input": "2024-07-31T20:06:27.214988Z",
          "iopub.status.idle": "2024-07-31T20:06:27.244930Z"
        },
        "trusted": true
      },
      "execution_count": null,
      "outputs": [
        {
          "output_type": "display_data",
          "data": {
            "text/html": "5.12",
            "text/markdown": "5.12",
            "text/latex": "5.12",
            "text/plain": "[1] 5.12"
          },
          "metadata": {}
        }
      ]
    },
    {
      "cell_type": "markdown",
      "source": [
        "![Estatística-Teste](https://caelum-online-public.s3.amazonaws.com/1229-estatistica-parte3/01/img019.png)"
      ],
      "metadata": {
        "id": "gdwiYn6ZpsmK"
      }
    },
    {
      "cell_type": "markdown",
      "source": [
        "---"
      ],
      "metadata": {
        "id": "7v6msKABpsmK"
      }
    },
    {
      "cell_type": "markdown",
      "source": [
        "### **Passo 4** - Aceitação ou rejeição da hipótese nula"
      ],
      "metadata": {
        "id": "PHLhbZ3IpsmK"
      }
    },
    {
      "cell_type": "markdown",
      "source": [
        "<img src='https://caelum-online-public.s3.amazonaws.com/1229-estatistica-parte3/01/img020.png' width=80%>"
      ],
      "metadata": {
        "id": "tiQ0gAMGpsmL"
      }
    },
    {
      "cell_type": "markdown",
      "source": [
        "### <font color='red'>Critério do valor crítico</font>\n",
        "\n",
        "> ### Rejeitar $H_0$ se $\\chi_{teste}^2 > \\chi_{\\alpha}^2$"
      ],
      "metadata": {
        "id": "lhFLib7-psmM"
      }
    },
    {
      "cell_type": "code",
      "source": [
        "chi_2 > chi_2_alpha"
      ],
      "metadata": {
        "colab": {
          "base_uri": "https://localhost:8080/",
          "height": 35
        },
        "id": "HSOhw7E7psmM",
        "outputId": "1b6ce243-ae51-4497-addd-3e7aae82f4f3",
        "execution": {
          "iopub.status.busy": "2024-07-31T20:06:27.247750Z",
          "iopub.execute_input": "2024-07-31T20:06:27.249340Z",
          "iopub.status.idle": "2024-07-31T20:06:27.263090Z"
        },
        "trusted": true
      },
      "execution_count": null,
      "outputs": [
        {
          "output_type": "display_data",
          "data": {
            "text/html": "TRUE",
            "text/markdown": "TRUE",
            "text/latex": "TRUE",
            "text/plain": "[1] TRUE"
          },
          "metadata": {}
        }
      ]
    },
    {
      "cell_type": "markdown",
      "source": [
        "### <font color='green'>Conclusão: Com um nível de confiança de 95% rejeitamos a hipótese nula ($H_0$) e concluímos que as frequências observadas e esperadas são discrepantes, ou seja, a moeda não é honesta e precisa ser substituída.</font>"
      ],
      "metadata": {
        "id": "hvHTGAOepsmN"
      }
    },
    {
      "cell_type": "markdown",
      "source": [
        "### <font color='red'>Critério do valor $p$</font>\n",
        "\n",
        "> ### Rejeitar $H_0$ se o valor $p\\leq\\alpha$"
      ],
      "metadata": {
        "id": "VcqxUxnopsmN"
      }
    },
    {
      "cell_type": "code",
      "source": [
        "chi_2"
      ],
      "metadata": {
        "colab": {
          "base_uri": "https://localhost:8080/",
          "height": 35
        },
        "id": "fP8w-6MZpsmO",
        "outputId": "0cc2f80a-ab46-4485-b7da-f07a9a7085a9",
        "execution": {
          "iopub.status.busy": "2024-07-31T20:06:27.265737Z",
          "iopub.execute_input": "2024-07-31T20:06:27.267120Z",
          "iopub.status.idle": "2024-07-31T20:06:27.280519Z"
        },
        "trusted": true
      },
      "execution_count": null,
      "outputs": [
        {
          "output_type": "display_data",
          "data": {
            "text/html": "5.12",
            "text/markdown": "5.12",
            "text/latex": "5.12",
            "text/plain": "[1] 5.12"
          },
          "metadata": {}
        }
      ]
    },
    {
      "cell_type": "code",
      "source": [
        "p_valor <- pchisq(chi_2, df = graus_de_liberdade, lower.tail = F)\n",
        "p_valor"
      ],
      "metadata": {
        "colab": {
          "base_uri": "https://localhost:8080/",
          "height": 35
        },
        "id": "LWCqrM2rpsmP",
        "outputId": "9a9ff1a3-5553-40de-9863-ef8d68e03fff",
        "execution": {
          "iopub.status.busy": "2024-07-31T20:06:27.283205Z",
          "iopub.execute_input": "2024-07-31T20:06:27.284655Z",
          "iopub.status.idle": "2024-07-31T20:06:27.300011Z"
        },
        "trusted": true
      },
      "execution_count": null,
      "outputs": [
        {
          "output_type": "display_data",
          "data": {
            "text/html": "0.023651616655356",
            "text/markdown": "0.023651616655356",
            "text/latex": "0.023651616655356",
            "text/plain": "[1] 0.02365162"
          },
          "metadata": {}
        }
      ]
    },
    {
      "cell_type": "markdown",
      "source": [
        "#### <font color=red>Documentações:\n",
        "\n",
        "- [**chisq.test**](https://www.rdocumentation.org/packages/stats/versions/3.6.1/topics/chisq.test)"
      ],
      "metadata": {
        "id": "WpvavOAVpsmR"
      }
    },
    {
      "cell_type": "code",
      "source": [
        "chisq.test(x = F_Observada)"
      ],
      "metadata": {
        "execution": {
          "iopub.status.busy": "2024-07-31T20:06:27.302590Z",
          "iopub.execute_input": "2024-07-31T20:06:27.304090Z",
          "iopub.status.idle": "2024-07-31T20:06:27.318989Z"
        },
        "trusted": true,
        "id": "sY66B-VD5Zbs",
        "outputId": "abd56600-beba-4cfe-e5c7-fd8d92dcb614"
      },
      "execution_count": null,
      "outputs": [
        {
          "output_type": "display_data",
          "data": {
            "text/plain": "\n\tChi-squared test for given probabilities\n\ndata:  F_Observada\nX-squared = 5.12, df = 1, p-value = 0.02365\n"
          },
          "metadata": {}
        }
      ]
    },
    {
      "cell_type": "code",
      "source": [
        "resultado <- chisq.test(x = F_Observada, p = c(0.5, 0.5))\n",
        "resultado"
      ],
      "metadata": {
        "execution": {
          "iopub.status.busy": "2024-07-31T20:06:27.321612Z",
          "iopub.execute_input": "2024-07-31T20:06:27.323072Z",
          "iopub.status.idle": "2024-07-31T20:06:27.338414Z"
        },
        "trusted": true,
        "id": "1UI3pGCb5Zbs",
        "outputId": "21403b01-0835-457e-cd49-d125a8ca91e1"
      },
      "execution_count": null,
      "outputs": [
        {
          "output_type": "display_data",
          "data": {
            "text/plain": "\n\tChi-squared test for given probabilities\n\ndata:  F_Observada\nX-squared = 5.12, df = 1, p-value = 0.02365\n"
          },
          "metadata": {}
        }
      ]
    },
    {
      "cell_type": "code",
      "source": [
        "resultado$statistic"
      ],
      "metadata": {
        "execution": {
          "iopub.status.busy": "2024-07-31T20:06:27.341107Z",
          "iopub.execute_input": "2024-07-31T20:06:27.342583Z",
          "iopub.status.idle": "2024-07-31T20:06:27.356797Z"
        },
        "trusted": true,
        "id": "t4aX6S0H5Zbt",
        "outputId": "f628dc4c-f391-4bc8-a699-48887eb43e52"
      },
      "execution_count": null,
      "outputs": [
        {
          "output_type": "display_data",
          "data": {
            "text/html": "<strong>X-squared:</strong> 5.12",
            "text/markdown": "**X-squared:** 5.12",
            "text/latex": "\\textbf{X-squared:} 5.12",
            "text/plain": "X-squared \n     5.12 "
          },
          "metadata": {}
        }
      ]
    },
    {
      "cell_type": "code",
      "source": [
        "resultado$parameter"
      ],
      "metadata": {
        "execution": {
          "iopub.status.busy": "2024-07-31T20:06:27.359420Z",
          "iopub.execute_input": "2024-07-31T20:06:27.360891Z",
          "iopub.status.idle": "2024-07-31T20:06:27.375611Z"
        },
        "trusted": true,
        "id": "mTIheE3L5Zbt",
        "outputId": "aac5b60c-7a33-41db-d789-d658c862d441"
      },
      "execution_count": null,
      "outputs": [
        {
          "output_type": "display_data",
          "data": {
            "text/html": "<strong>df:</strong> 1",
            "text/markdown": "**df:** 1",
            "text/latex": "\\textbf{df:} 1",
            "text/plain": "df \n 1 "
          },
          "metadata": {}
        }
      ]
    },
    {
      "cell_type": "code",
      "source": [
        "p_valor <- resultado$p.value\n",
        "p_valor"
      ],
      "metadata": {
        "execution": {
          "iopub.status.busy": "2024-07-31T20:06:27.378237Z",
          "iopub.execute_input": "2024-07-31T20:06:27.379711Z",
          "iopub.status.idle": "2024-07-31T20:06:27.396648Z"
        },
        "trusted": true,
        "id": "oNfAQ4845Zbt",
        "outputId": "1c2119f2-30f7-421f-bdd7-7f328fa3a208"
      },
      "execution_count": null,
      "outputs": [
        {
          "output_type": "display_data",
          "data": {
            "text/html": "0.023651616655356",
            "text/markdown": "0.023651616655356",
            "text/latex": "0.023651616655356",
            "text/plain": "[1] 0.02365162"
          },
          "metadata": {}
        }
      ]
    },
    {
      "cell_type": "code",
      "source": [
        "resultado$observed"
      ],
      "metadata": {
        "execution": {
          "iopub.status.busy": "2024-07-31T20:06:27.399344Z",
          "iopub.execute_input": "2024-07-31T20:06:27.401284Z",
          "iopub.status.idle": "2024-07-31T20:06:27.416120Z"
        },
        "trusted": true,
        "id": "NSThQPfj5Zbt",
        "outputId": "5e971fdf-dea7-4d79-e57e-03f8b9a4abb8"
      },
      "execution_count": null,
      "outputs": [
        {
          "output_type": "display_data",
          "data": {
            "text/html": "<style>\n.list-inline {list-style: none; margin:0; padding: 0}\n.list-inline>li {display: inline-block}\n.list-inline>li:not(:last-child)::after {content: \"\\00b7\"; padding: 0 .5ex}\n</style>\n<ol class=list-inline><li>17</li><li>33</li></ol>\n",
            "text/markdown": "1. 17\n2. 33\n\n\n",
            "text/latex": "\\begin{enumerate*}\n\\item 17\n\\item 33\n\\end{enumerate*}\n",
            "text/plain": "[1] 17 33"
          },
          "metadata": {}
        }
      ]
    },
    {
      "cell_type": "code",
      "source": [
        "resultado$expected"
      ],
      "metadata": {
        "execution": {
          "iopub.status.busy": "2024-07-31T20:06:27.418741Z",
          "iopub.execute_input": "2024-07-31T20:06:27.420261Z",
          "iopub.status.idle": "2024-07-31T20:06:27.435096Z"
        },
        "trusted": true,
        "id": "aEv3WlaV5Zbu",
        "outputId": "af96beca-3930-43f1-c802-6d51401a8d14"
      },
      "execution_count": null,
      "outputs": [
        {
          "output_type": "display_data",
          "data": {
            "text/html": "<style>\n.list-inline {list-style: none; margin:0; padding: 0}\n.list-inline>li {display: inline-block}\n.list-inline>li:not(:last-child)::after {content: \"\\00b7\"; padding: 0 .5ex}\n</style>\n<ol class=list-inline><li>25</li><li>25</li></ol>\n",
            "text/markdown": "1. 25\n2. 25\n\n\n",
            "text/latex": "\\begin{enumerate*}\n\\item 25\n\\item 25\n\\end{enumerate*}\n",
            "text/plain": "[1] 25 25"
          },
          "metadata": {}
        }
      ]
    },
    {
      "cell_type": "code",
      "source": [
        "p_valor <= significancia"
      ],
      "metadata": {
        "colab": {
          "base_uri": "https://localhost:8080/",
          "height": 35
        },
        "id": "reKBubKWpsmT",
        "outputId": "69394a7b-9acb-4ce2-fea4-f51a05c9b39f",
        "execution": {
          "iopub.status.busy": "2024-07-31T20:06:27.437853Z",
          "iopub.execute_input": "2024-07-31T20:06:27.439330Z",
          "iopub.status.idle": "2024-07-31T20:06:27.454685Z"
        },
        "trusted": true
      },
      "execution_count": null,
      "outputs": [
        {
          "output_type": "display_data",
          "data": {
            "text/html": "TRUE",
            "text/markdown": "TRUE",
            "text/latex": "TRUE",
            "text/plain": "[1] TRUE"
          },
          "metadata": {}
        }
      ]
    },
    {
      "cell_type": "markdown",
      "source": [
        "---"
      ],
      "metadata": {
        "id": "WlHU5fNNpsmU"
      }
    },
    {
      "cell_type": "markdown",
      "source": [
        "## <font color='red'>Problema</font>"
      ],
      "metadata": {
        "id": "PUXdBJ9FpsmU"
      }
    },
    {
      "cell_type": "markdown",
      "source": [
        "Um novo tratamento para acabar com o hábito de fumar está sendo empregado em um grupo de **35 pacientes** voluntários. De cada paciente testado foram obtidas as informações de quantidades de cigarros consumidos por dia antes e depois do término do tratamento. Assumindo um **nível de confiança de 95%** é possível concluir que, depois da aplicação do novo tratamento, houve uma mudança no hábito de fumar do grupo de pacientes testado?"
      ],
      "metadata": {
        "id": "DXvJ2JnKpsmU"
      }
    },
    {
      "cell_type": "markdown",
      "source": [
        "## <font color=green>4.2 Teste Wilcoxon</font>\n",
        "### Comparação de duas populações - amostras dependentes\n",
        "***"
      ],
      "metadata": {
        "id": "BqE_PN7IpsmU"
      }
    },
    {
      "cell_type": "markdown",
      "source": [
        "Empregado quando se deseja comparar duas amostras relacionadas, amostras emparelhadas. Pode ser aplicado quando se deseja testar a diferença de duas condições, isto é, quando um mesmo elemento é submetido a duas medidas."
      ],
      "metadata": {
        "id": "1MxFBYB-psmU"
      }
    },
    {
      "cell_type": "markdown",
      "source": [
        "#### <font color=red>Documentações:\n",
        "\n",
        "- [**aggregate**](https://www.rdocumentation.org/packages/stats/versions/3.6.1/topics/aggregate)\n",
        "- [**merge**](https://www.rdocumentation.org/packages/base/versions/3.6.1/topics/merge)\n",
        "- [**apply**](https://www.rdocumentation.org/packages/base/versions/3.6.1/topics/apply)\n",
        "- [**Extremes**](https://www.rdocumentation.org/packages/base/versions/3.6.1/topics/Extremes)\n",
        "- [**sum**](https://www.rdocumentation.org/packages/base/versions/3.6.1/topics/sum)"
      ],
      "metadata": {
        "id": "RNvlFMk15Zbv"
      }
    },
    {
      "cell_type": "markdown",
      "source": [
        "### Dados do problema"
      ],
      "metadata": {
        "id": "3H67Y7P7psmV"
      }
    },
    {
      "cell_type": "code",
      "source": [
        "fumo <- data.frame(\n",
        "    Antes = c(39, 25, 24, 50, 13, 52, 21, 29, 10, 22, 50, 15, 36, 39, 52, 48, 24, 15, 40, 41, 17, 12, 21, 49, 14, 55, 46, 22, 28, 23, 37, 17, 31, 49, 49),\n",
        "    Depois = c(16, 8, 12, 0, 14, 16, 13, 12, 19, 17, 17, 2, 15, 10, 20, 13, 0, 4, 16, 18, 16, 16, 9, 9, 18, 4, 17, 0, 11, 14, 0, 19, 2, 9, 6)\n",
        ")\n",
        "significancia <- 0.05\n",
        "confianca <- 1 - significancia\n",
        "n <- 35"
      ],
      "metadata": {
        "id": "JBh5-HrnpsmV",
        "execution": {
          "iopub.status.busy": "2024-07-31T20:06:27.457423Z",
          "iopub.execute_input": "2024-07-31T20:06:27.458917Z",
          "iopub.status.idle": "2024-07-31T20:06:27.476557Z"
        },
        "trusted": true
      },
      "execution_count": null,
      "outputs": []
    },
    {
      "cell_type": "code",
      "source": [
        "head(fumo)"
      ],
      "metadata": {
        "colab": {
          "base_uri": "https://localhost:8080/",
          "height": 204
        },
        "id": "AfEGWBp1psmW",
        "outputId": "b68e51d1-b307-432f-8658-4642285f3725",
        "scrolled": true,
        "execution": {
          "iopub.status.busy": "2024-07-31T20:06:27.479349Z",
          "iopub.execute_input": "2024-07-31T20:06:27.480843Z",
          "iopub.status.idle": "2024-07-31T20:06:27.503319Z"
        },
        "trusted": true
      },
      "execution_count": null,
      "outputs": [
        {
          "output_type": "display_data",
          "data": {
            "text/html": "<table class=\"dataframe\">\n<caption>A data.frame: 6 × 2</caption>\n<thead>\n\t<tr><th></th><th scope=col>Antes</th><th scope=col>Depois</th></tr>\n\t<tr><th></th><th scope=col>&lt;dbl&gt;</th><th scope=col>&lt;dbl&gt;</th></tr>\n</thead>\n<tbody>\n\t<tr><th scope=row>1</th><td>39</td><td>16</td></tr>\n\t<tr><th scope=row>2</th><td>25</td><td> 8</td></tr>\n\t<tr><th scope=row>3</th><td>24</td><td>12</td></tr>\n\t<tr><th scope=row>4</th><td>50</td><td> 0</td></tr>\n\t<tr><th scope=row>5</th><td>13</td><td>14</td></tr>\n\t<tr><th scope=row>6</th><td>52</td><td>16</td></tr>\n</tbody>\n</table>\n",
            "text/markdown": "\nA data.frame: 6 × 2\n\n| <!--/--> | Antes &lt;dbl&gt; | Depois &lt;dbl&gt; |\n|---|---|---|\n| 1 | 39 | 16 |\n| 2 | 25 |  8 |\n| 3 | 24 | 12 |\n| 4 | 50 |  0 |\n| 5 | 13 | 14 |\n| 6 | 52 | 16 |\n\n",
            "text/latex": "A data.frame: 6 × 2\n\\begin{tabular}{r|ll}\n  & Antes & Depois\\\\\n  & <dbl> & <dbl>\\\\\n\\hline\n\t1 & 39 & 16\\\\\n\t2 & 25 &  8\\\\\n\t3 & 24 & 12\\\\\n\t4 & 50 &  0\\\\\n\t5 & 13 & 14\\\\\n\t6 & 52 & 16\\\\\n\\end{tabular}\n",
            "text/plain": "  Antes Depois\n1 39    16    \n2 25     8    \n3 24    12    \n4 50     0    \n5 13    14    \n6 52    16    "
          },
          "metadata": {}
        }
      ]
    },
    {
      "cell_type": "code",
      "source": [
        "media_antes <- mean(fumo$Antes)\n",
        "media_antes"
      ],
      "metadata": {
        "colab": {
          "base_uri": "https://localhost:8080/",
          "height": 35
        },
        "id": "oNQvLLR8psmX",
        "outputId": "434a1498-67cb-47fd-b87a-f68bd05a923d",
        "execution": {
          "iopub.status.busy": "2024-07-31T20:06:27.506239Z",
          "iopub.execute_input": "2024-07-31T20:06:27.507819Z",
          "iopub.status.idle": "2024-07-31T20:06:27.525374Z"
        },
        "trusted": true
      },
      "execution_count": null,
      "outputs": [
        {
          "output_type": "display_data",
          "data": {
            "text/html": "31.8571428571429",
            "text/markdown": "31.8571428571429",
            "text/latex": "31.8571428571429",
            "text/plain": "[1] 31.85714"
          },
          "metadata": {}
        }
      ]
    },
    {
      "cell_type": "code",
      "source": [
        "media_depois <- mean(fumo$Depois)\n",
        "media_depois"
      ],
      "metadata": {
        "colab": {
          "base_uri": "https://localhost:8080/",
          "height": 35
        },
        "id": "wOgIYP0upsmZ",
        "outputId": "926b067c-2ea2-407b-edba-c57075fa5c94",
        "execution": {
          "iopub.status.busy": "2024-07-31T20:06:27.534549Z",
          "iopub.execute_input": "2024-07-31T20:06:27.536022Z",
          "iopub.status.idle": "2024-07-31T20:06:27.552426Z"
        },
        "trusted": true
      },
      "execution_count": null,
      "outputs": [
        {
          "output_type": "display_data",
          "data": {
            "text/html": "11.2",
            "text/markdown": "11.2",
            "text/latex": "11.2",
            "text/plain": "[1] 11.2"
          },
          "metadata": {}
        }
      ]
    },
    {
      "cell_type": "markdown",
      "source": [
        "### **Passo 1** - formulação das hipóteses $H_0$ e $H_1$\n",
        "\n",
        "#### <font color='red'>Lembre-se, a hipótese nula sempre contém a alegação de igualdade</font>"
      ],
      "metadata": {
        "id": "gvnOmelVpsma"
      }
    },
    {
      "cell_type": "markdown",
      "source": [
        "### $H_0: \\mu_{antes} = \\mu_{depois}$\n",
        "\n",
        "### $H_1: \\mu_{antes} > \\mu_{depois}$"
      ],
      "metadata": {
        "id": "1AXOiD_epsma"
      }
    },
    {
      "cell_type": "markdown",
      "source": [
        "---"
      ],
      "metadata": {
        "id": "degUD6b2psmb"
      }
    },
    {
      "cell_type": "markdown",
      "source": [
        "### **Passo 2** - escolha da distribuição amostral adequada"
      ],
      "metadata": {
        "id": "3jrV_c2Opsmb"
      }
    },
    {
      "cell_type": "markdown",
      "source": [
        "### O tamanho da amostra é maior que 30?\n",
        "#### Resp.: Sim"
      ],
      "metadata": {
        "id": "vF-9xAPzpsmc"
      }
    },
    {
      "cell_type": "markdown",
      "source": [
        "---"
      ],
      "metadata": {
        "id": "tvxXutrGpsmc"
      }
    },
    {
      "cell_type": "markdown",
      "source": [
        "### **Passo 3** - fixação da significância do teste ($\\alpha$)"
      ],
      "metadata": {
        "id": "aihd76Wkpsmc"
      }
    },
    {
      "cell_type": "markdown",
      "source": [
        "### Obtendo $z_{\\alpha/2}$"
      ],
      "metadata": {
        "id": "XF6AA8qLpsmc"
      }
    },
    {
      "cell_type": "code",
      "source": [
        "probabilidade <- (0.5 + (confianca / 2))\n",
        "probabilidade"
      ],
      "metadata": {
        "colab": {
          "base_uri": "https://localhost:8080/",
          "height": 35
        },
        "id": "UsRrnCnXpsmd",
        "outputId": "969dfd46-755b-496b-b84a-1d3e9d565ed2",
        "execution": {
          "iopub.status.busy": "2024-07-31T20:06:27.555115Z",
          "iopub.execute_input": "2024-07-31T20:06:27.556472Z",
          "iopub.status.idle": "2024-07-31T20:06:27.572911Z"
        },
        "trusted": true
      },
      "execution_count": null,
      "outputs": [
        {
          "output_type": "display_data",
          "data": {
            "text/html": "0.975",
            "text/markdown": "0.975",
            "text/latex": "0.975",
            "text/plain": "[1] 0.975"
          },
          "metadata": {}
        }
      ]
    },
    {
      "cell_type": "code",
      "source": [
        "z_alpha_2 <- qnorm(probabilidade)\n",
        "z_alpha_2"
      ],
      "metadata": {
        "execution": {
          "iopub.status.busy": "2024-07-31T20:06:27.575489Z",
          "iopub.execute_input": "2024-07-31T20:06:27.576970Z",
          "iopub.status.idle": "2024-07-31T20:06:27.594708Z"
        },
        "trusted": true,
        "id": "DtAzKblj5Zby",
        "outputId": "0d289003-3f48-4ffa-d28b-ca68e41d0e2e"
      },
      "execution_count": null,
      "outputs": [
        {
          "output_type": "display_data",
          "data": {
            "text/html": "1.95996398454005",
            "text/markdown": "1.95996398454005",
            "text/latex": "1.95996398454005",
            "text/plain": "[1] 1.959964"
          },
          "metadata": {}
        }
      ]
    },
    {
      "cell_type": "markdown",
      "source": [
        "![Região de Aceitação](https://caelum-online-public.s3.amazonaws.com/1229-estatistica-parte3/01/img006.png)"
      ],
      "metadata": {
        "id": "S2dqQHQJpsmf"
      }
    },
    {
      "cell_type": "markdown",
      "source": [
        "---"
      ],
      "metadata": {
        "id": "z0iEZ685psmf"
      }
    },
    {
      "cell_type": "markdown",
      "source": [
        "### **Passo 4** - cálculo da estatística-teste e verificação desse valor com as áreas de aceitação e rejeição do teste\n",
        "\n",
        "# $$Z = \\frac{T - \\mu_T}{\\sigma_T}$$\n",
        "\n",
        "Onde\n",
        "\n",
        "## $T$ = menor das somas de postos de mesmo sinal\n",
        "\n",
        "# $$\\mu_T = \\frac{n(n+1)}{4}$$\n",
        "# $$\\sigma_T = \\sqrt{\\frac{n(n + 1)(2n + 1)}{24}}$$"
      ],
      "metadata": {
        "id": "zpYLf-dZpsmg"
      }
    },
    {
      "cell_type": "markdown",
      "source": [
        "### Construindo a tabela com os postos"
      ],
      "metadata": {
        "id": "ZTY9IuIIpsmg"
      }
    },
    {
      "cell_type": "code",
      "source": [
        "fumo"
      ],
      "metadata": {
        "colab": {
          "base_uri": "https://localhost:8080/",
          "height": 1134
        },
        "id": "o0fp6m3iqIlu",
        "outputId": "af1f1a0d-c2e7-478c-b637-71a520cc9a2c",
        "scrolled": true,
        "execution": {
          "iopub.status.busy": "2024-07-31T20:06:27.597444Z",
          "iopub.execute_input": "2024-07-31T20:06:27.598925Z",
          "iopub.status.idle": "2024-07-31T20:06:27.631512Z"
        },
        "trusted": true
      },
      "execution_count": null,
      "outputs": [
        {
          "output_type": "display_data",
          "data": {
            "text/html": "<table class=\"dataframe\">\n<caption>A data.frame: 35 × 2</caption>\n<thead>\n\t<tr><th scope=col>Antes</th><th scope=col>Depois</th></tr>\n\t<tr><th scope=col>&lt;dbl&gt;</th><th scope=col>&lt;dbl&gt;</th></tr>\n</thead>\n<tbody>\n\t<tr><td>39</td><td>16</td></tr>\n\t<tr><td>25</td><td> 8</td></tr>\n\t<tr><td>24</td><td>12</td></tr>\n\t<tr><td>50</td><td> 0</td></tr>\n\t<tr><td>13</td><td>14</td></tr>\n\t<tr><td>52</td><td>16</td></tr>\n\t<tr><td>21</td><td>13</td></tr>\n\t<tr><td>29</td><td>12</td></tr>\n\t<tr><td>10</td><td>19</td></tr>\n\t<tr><td>22</td><td>17</td></tr>\n\t<tr><td>50</td><td>17</td></tr>\n\t<tr><td>15</td><td> 2</td></tr>\n\t<tr><td>36</td><td>15</td></tr>\n\t<tr><td>39</td><td>10</td></tr>\n\t<tr><td>52</td><td>20</td></tr>\n\t<tr><td>48</td><td>13</td></tr>\n\t<tr><td>24</td><td> 0</td></tr>\n\t<tr><td>15</td><td> 4</td></tr>\n\t<tr><td>40</td><td>16</td></tr>\n\t<tr><td>41</td><td>18</td></tr>\n\t<tr><td>17</td><td>16</td></tr>\n\t<tr><td>12</td><td>16</td></tr>\n\t<tr><td>21</td><td> 9</td></tr>\n\t<tr><td>49</td><td> 9</td></tr>\n\t<tr><td>14</td><td>18</td></tr>\n\t<tr><td>55</td><td> 4</td></tr>\n\t<tr><td>46</td><td>17</td></tr>\n\t<tr><td>22</td><td> 0</td></tr>\n\t<tr><td>28</td><td>11</td></tr>\n\t<tr><td>23</td><td>14</td></tr>\n\t<tr><td>37</td><td> 0</td></tr>\n\t<tr><td>17</td><td>19</td></tr>\n\t<tr><td>31</td><td> 2</td></tr>\n\t<tr><td>49</td><td> 9</td></tr>\n\t<tr><td>49</td><td> 6</td></tr>\n</tbody>\n</table>\n",
            "text/markdown": "\nA data.frame: 35 × 2\n\n| Antes &lt;dbl&gt; | Depois &lt;dbl&gt; |\n|---|---|\n| 39 | 16 |\n| 25 |  8 |\n| 24 | 12 |\n| 50 |  0 |\n| 13 | 14 |\n| 52 | 16 |\n| 21 | 13 |\n| 29 | 12 |\n| 10 | 19 |\n| 22 | 17 |\n| 50 | 17 |\n| 15 |  2 |\n| 36 | 15 |\n| 39 | 10 |\n| 52 | 20 |\n| 48 | 13 |\n| 24 |  0 |\n| 15 |  4 |\n| 40 | 16 |\n| 41 | 18 |\n| 17 | 16 |\n| 12 | 16 |\n| 21 |  9 |\n| 49 |  9 |\n| 14 | 18 |\n| 55 |  4 |\n| 46 | 17 |\n| 22 |  0 |\n| 28 | 11 |\n| 23 | 14 |\n| 37 |  0 |\n| 17 | 19 |\n| 31 |  2 |\n| 49 |  9 |\n| 49 |  6 |\n\n",
            "text/latex": "A data.frame: 35 × 2\n\\begin{tabular}{ll}\n Antes & Depois\\\\\n <dbl> & <dbl>\\\\\n\\hline\n\t 39 & 16\\\\\n\t 25 &  8\\\\\n\t 24 & 12\\\\\n\t 50 &  0\\\\\n\t 13 & 14\\\\\n\t 52 & 16\\\\\n\t 21 & 13\\\\\n\t 29 & 12\\\\\n\t 10 & 19\\\\\n\t 22 & 17\\\\\n\t 50 & 17\\\\\n\t 15 &  2\\\\\n\t 36 & 15\\\\\n\t 39 & 10\\\\\n\t 52 & 20\\\\\n\t 48 & 13\\\\\n\t 24 &  0\\\\\n\t 15 &  4\\\\\n\t 40 & 16\\\\\n\t 41 & 18\\\\\n\t 17 & 16\\\\\n\t 12 & 16\\\\\n\t 21 &  9\\\\\n\t 49 &  9\\\\\n\t 14 & 18\\\\\n\t 55 &  4\\\\\n\t 46 & 17\\\\\n\t 22 &  0\\\\\n\t 28 & 11\\\\\n\t 23 & 14\\\\\n\t 37 &  0\\\\\n\t 17 & 19\\\\\n\t 31 &  2\\\\\n\t 49 &  9\\\\\n\t 49 &  6\\\\\n\\end{tabular}\n",
            "text/plain": "   Antes Depois\n1  39    16    \n2  25     8    \n3  24    12    \n4  50     0    \n5  13    14    \n6  52    16    \n7  21    13    \n8  29    12    \n9  10    19    \n10 22    17    \n11 50    17    \n12 15     2    \n13 36    15    \n14 39    10    \n15 52    20    \n16 48    13    \n17 24     0    \n18 15     4    \n19 40    16    \n20 41    18    \n21 17    16    \n22 12    16    \n23 21     9    \n24 49     9    \n25 14    18    \n26 55     4    \n27 46    17    \n28 22     0    \n29 28    11    \n30 23    14    \n31 37     0    \n32 17    19    \n33 31     2    \n34 49     9    \n35 49     6    "
          },
          "metadata": {}
        }
      ]
    },
    {
      "cell_type": "code",
      "source": [
        "fumo['Dif'] <- fumo$Depois - fumo$Antes\n",
        "fumo"
      ],
      "metadata": {
        "colab": {
          "base_uri": "https://localhost:8080/",
          "height": 1134
        },
        "id": "T4KmZijZotWj",
        "outputId": "97779ef9-8387-43d3-c41a-76b01cc7d52c",
        "scrolled": true,
        "execution": {
          "iopub.status.busy": "2024-07-31T20:06:27.634225Z",
          "iopub.execute_input": "2024-07-31T20:06:27.635673Z",
          "iopub.status.idle": "2024-07-31T20:06:27.674027Z"
        },
        "trusted": true
      },
      "execution_count": null,
      "outputs": [
        {
          "output_type": "display_data",
          "data": {
            "text/html": "<table class=\"dataframe\">\n<caption>A data.frame: 35 × 3</caption>\n<thead>\n\t<tr><th scope=col>Antes</th><th scope=col>Depois</th><th scope=col>Dif</th></tr>\n\t<tr><th scope=col>&lt;dbl&gt;</th><th scope=col>&lt;dbl&gt;</th><th scope=col>&lt;dbl&gt;</th></tr>\n</thead>\n<tbody>\n\t<tr><td>39</td><td>16</td><td>-23</td></tr>\n\t<tr><td>25</td><td> 8</td><td>-17</td></tr>\n\t<tr><td>24</td><td>12</td><td>-12</td></tr>\n\t<tr><td>50</td><td> 0</td><td>-50</td></tr>\n\t<tr><td>13</td><td>14</td><td>  1</td></tr>\n\t<tr><td>52</td><td>16</td><td>-36</td></tr>\n\t<tr><td>21</td><td>13</td><td> -8</td></tr>\n\t<tr><td>29</td><td>12</td><td>-17</td></tr>\n\t<tr><td>10</td><td>19</td><td>  9</td></tr>\n\t<tr><td>22</td><td>17</td><td> -5</td></tr>\n\t<tr><td>50</td><td>17</td><td>-33</td></tr>\n\t<tr><td>15</td><td> 2</td><td>-13</td></tr>\n\t<tr><td>36</td><td>15</td><td>-21</td></tr>\n\t<tr><td>39</td><td>10</td><td>-29</td></tr>\n\t<tr><td>52</td><td>20</td><td>-32</td></tr>\n\t<tr><td>48</td><td>13</td><td>-35</td></tr>\n\t<tr><td>24</td><td> 0</td><td>-24</td></tr>\n\t<tr><td>15</td><td> 4</td><td>-11</td></tr>\n\t<tr><td>40</td><td>16</td><td>-24</td></tr>\n\t<tr><td>41</td><td>18</td><td>-23</td></tr>\n\t<tr><td>17</td><td>16</td><td> -1</td></tr>\n\t<tr><td>12</td><td>16</td><td>  4</td></tr>\n\t<tr><td>21</td><td> 9</td><td>-12</td></tr>\n\t<tr><td>49</td><td> 9</td><td>-40</td></tr>\n\t<tr><td>14</td><td>18</td><td>  4</td></tr>\n\t<tr><td>55</td><td> 4</td><td>-51</td></tr>\n\t<tr><td>46</td><td>17</td><td>-29</td></tr>\n\t<tr><td>22</td><td> 0</td><td>-22</td></tr>\n\t<tr><td>28</td><td>11</td><td>-17</td></tr>\n\t<tr><td>23</td><td>14</td><td> -9</td></tr>\n\t<tr><td>37</td><td> 0</td><td>-37</td></tr>\n\t<tr><td>17</td><td>19</td><td>  2</td></tr>\n\t<tr><td>31</td><td> 2</td><td>-29</td></tr>\n\t<tr><td>49</td><td> 9</td><td>-40</td></tr>\n\t<tr><td>49</td><td> 6</td><td>-43</td></tr>\n</tbody>\n</table>\n",
            "text/markdown": "\nA data.frame: 35 × 3\n\n| Antes &lt;dbl&gt; | Depois &lt;dbl&gt; | Dif &lt;dbl&gt; |\n|---|---|---|\n| 39 | 16 | -23 |\n| 25 |  8 | -17 |\n| 24 | 12 | -12 |\n| 50 |  0 | -50 |\n| 13 | 14 |   1 |\n| 52 | 16 | -36 |\n| 21 | 13 |  -8 |\n| 29 | 12 | -17 |\n| 10 | 19 |   9 |\n| 22 | 17 |  -5 |\n| 50 | 17 | -33 |\n| 15 |  2 | -13 |\n| 36 | 15 | -21 |\n| 39 | 10 | -29 |\n| 52 | 20 | -32 |\n| 48 | 13 | -35 |\n| 24 |  0 | -24 |\n| 15 |  4 | -11 |\n| 40 | 16 | -24 |\n| 41 | 18 | -23 |\n| 17 | 16 |  -1 |\n| 12 | 16 |   4 |\n| 21 |  9 | -12 |\n| 49 |  9 | -40 |\n| 14 | 18 |   4 |\n| 55 |  4 | -51 |\n| 46 | 17 | -29 |\n| 22 |  0 | -22 |\n| 28 | 11 | -17 |\n| 23 | 14 |  -9 |\n| 37 |  0 | -37 |\n| 17 | 19 |   2 |\n| 31 |  2 | -29 |\n| 49 |  9 | -40 |\n| 49 |  6 | -43 |\n\n",
            "text/latex": "A data.frame: 35 × 3\n\\begin{tabular}{lll}\n Antes & Depois & Dif\\\\\n <dbl> & <dbl> & <dbl>\\\\\n\\hline\n\t 39 & 16 & -23\\\\\n\t 25 &  8 & -17\\\\\n\t 24 & 12 & -12\\\\\n\t 50 &  0 & -50\\\\\n\t 13 & 14 &   1\\\\\n\t 52 & 16 & -36\\\\\n\t 21 & 13 &  -8\\\\\n\t 29 & 12 & -17\\\\\n\t 10 & 19 &   9\\\\\n\t 22 & 17 &  -5\\\\\n\t 50 & 17 & -33\\\\\n\t 15 &  2 & -13\\\\\n\t 36 & 15 & -21\\\\\n\t 39 & 10 & -29\\\\\n\t 52 & 20 & -32\\\\\n\t 48 & 13 & -35\\\\\n\t 24 &  0 & -24\\\\\n\t 15 &  4 & -11\\\\\n\t 40 & 16 & -24\\\\\n\t 41 & 18 & -23\\\\\n\t 17 & 16 &  -1\\\\\n\t 12 & 16 &   4\\\\\n\t 21 &  9 & -12\\\\\n\t 49 &  9 & -40\\\\\n\t 14 & 18 &   4\\\\\n\t 55 &  4 & -51\\\\\n\t 46 & 17 & -29\\\\\n\t 22 &  0 & -22\\\\\n\t 28 & 11 & -17\\\\\n\t 23 & 14 &  -9\\\\\n\t 37 &  0 & -37\\\\\n\t 17 & 19 &   2\\\\\n\t 31 &  2 & -29\\\\\n\t 49 &  9 & -40\\\\\n\t 49 &  6 & -43\\\\\n\\end{tabular}\n",
            "text/plain": "   Antes Depois Dif\n1  39    16     -23\n2  25     8     -17\n3  24    12     -12\n4  50     0     -50\n5  13    14       1\n6  52    16     -36\n7  21    13      -8\n8  29    12     -17\n9  10    19       9\n10 22    17      -5\n11 50    17     -33\n12 15     2     -13\n13 36    15     -21\n14 39    10     -29\n15 52    20     -32\n16 48    13     -35\n17 24     0     -24\n18 15     4     -11\n19 40    16     -24\n20 41    18     -23\n21 17    16      -1\n22 12    16       4\n23 21     9     -12\n24 49     9     -40\n25 14    18       4\n26 55     4     -51\n27 46    17     -29\n28 22     0     -22\n29 28    11     -17\n30 23    14      -9\n31 37     0     -37\n32 17    19       2\n33 31     2     -29\n34 49     9     -40\n35 49     6     -43"
          },
          "metadata": {}
        }
      ]
    },
    {
      "cell_type": "code",
      "source": [
        "fumo['|Dif|'] = abs(fumo$Dif)\n",
        "fumo"
      ],
      "metadata": {
        "colab": {
          "base_uri": "https://localhost:8080/",
          "height": 1134
        },
        "id": "c4fvYVrdotTL",
        "outputId": "a0da369c-d29f-40c1-e8e6-ff715c14e3e3",
        "scrolled": true,
        "execution": {
          "iopub.status.busy": "2024-07-31T20:06:27.676837Z",
          "iopub.execute_input": "2024-07-31T20:06:27.678211Z",
          "iopub.status.idle": "2024-07-31T20:06:27.717267Z"
        },
        "trusted": true
      },
      "execution_count": null,
      "outputs": [
        {
          "output_type": "display_data",
          "data": {
            "text/html": "<table class=\"dataframe\">\n<caption>A data.frame: 35 × 4</caption>\n<thead>\n\t<tr><th scope=col>Antes</th><th scope=col>Depois</th><th scope=col>Dif</th><th scope=col>|Dif|</th></tr>\n\t<tr><th scope=col>&lt;dbl&gt;</th><th scope=col>&lt;dbl&gt;</th><th scope=col>&lt;dbl&gt;</th><th scope=col>&lt;dbl&gt;</th></tr>\n</thead>\n<tbody>\n\t<tr><td>39</td><td>16</td><td>-23</td><td>23</td></tr>\n\t<tr><td>25</td><td> 8</td><td>-17</td><td>17</td></tr>\n\t<tr><td>24</td><td>12</td><td>-12</td><td>12</td></tr>\n\t<tr><td>50</td><td> 0</td><td>-50</td><td>50</td></tr>\n\t<tr><td>13</td><td>14</td><td>  1</td><td> 1</td></tr>\n\t<tr><td>52</td><td>16</td><td>-36</td><td>36</td></tr>\n\t<tr><td>21</td><td>13</td><td> -8</td><td> 8</td></tr>\n\t<tr><td>29</td><td>12</td><td>-17</td><td>17</td></tr>\n\t<tr><td>10</td><td>19</td><td>  9</td><td> 9</td></tr>\n\t<tr><td>22</td><td>17</td><td> -5</td><td> 5</td></tr>\n\t<tr><td>50</td><td>17</td><td>-33</td><td>33</td></tr>\n\t<tr><td>15</td><td> 2</td><td>-13</td><td>13</td></tr>\n\t<tr><td>36</td><td>15</td><td>-21</td><td>21</td></tr>\n\t<tr><td>39</td><td>10</td><td>-29</td><td>29</td></tr>\n\t<tr><td>52</td><td>20</td><td>-32</td><td>32</td></tr>\n\t<tr><td>48</td><td>13</td><td>-35</td><td>35</td></tr>\n\t<tr><td>24</td><td> 0</td><td>-24</td><td>24</td></tr>\n\t<tr><td>15</td><td> 4</td><td>-11</td><td>11</td></tr>\n\t<tr><td>40</td><td>16</td><td>-24</td><td>24</td></tr>\n\t<tr><td>41</td><td>18</td><td>-23</td><td>23</td></tr>\n\t<tr><td>17</td><td>16</td><td> -1</td><td> 1</td></tr>\n\t<tr><td>12</td><td>16</td><td>  4</td><td> 4</td></tr>\n\t<tr><td>21</td><td> 9</td><td>-12</td><td>12</td></tr>\n\t<tr><td>49</td><td> 9</td><td>-40</td><td>40</td></tr>\n\t<tr><td>14</td><td>18</td><td>  4</td><td> 4</td></tr>\n\t<tr><td>55</td><td> 4</td><td>-51</td><td>51</td></tr>\n\t<tr><td>46</td><td>17</td><td>-29</td><td>29</td></tr>\n\t<tr><td>22</td><td> 0</td><td>-22</td><td>22</td></tr>\n\t<tr><td>28</td><td>11</td><td>-17</td><td>17</td></tr>\n\t<tr><td>23</td><td>14</td><td> -9</td><td> 9</td></tr>\n\t<tr><td>37</td><td> 0</td><td>-37</td><td>37</td></tr>\n\t<tr><td>17</td><td>19</td><td>  2</td><td> 2</td></tr>\n\t<tr><td>31</td><td> 2</td><td>-29</td><td>29</td></tr>\n\t<tr><td>49</td><td> 9</td><td>-40</td><td>40</td></tr>\n\t<tr><td>49</td><td> 6</td><td>-43</td><td>43</td></tr>\n</tbody>\n</table>\n",
            "text/markdown": "\nA data.frame: 35 × 4\n\n| Antes &lt;dbl&gt; | Depois &lt;dbl&gt; | Dif &lt;dbl&gt; | |Dif| &lt;dbl&gt; |\n|---|---|---|---|\n| 39 | 16 | -23 | 23 |\n| 25 |  8 | -17 | 17 |\n| 24 | 12 | -12 | 12 |\n| 50 |  0 | -50 | 50 |\n| 13 | 14 |   1 |  1 |\n| 52 | 16 | -36 | 36 |\n| 21 | 13 |  -8 |  8 |\n| 29 | 12 | -17 | 17 |\n| 10 | 19 |   9 |  9 |\n| 22 | 17 |  -5 |  5 |\n| 50 | 17 | -33 | 33 |\n| 15 |  2 | -13 | 13 |\n| 36 | 15 | -21 | 21 |\n| 39 | 10 | -29 | 29 |\n| 52 | 20 | -32 | 32 |\n| 48 | 13 | -35 | 35 |\n| 24 |  0 | -24 | 24 |\n| 15 |  4 | -11 | 11 |\n| 40 | 16 | -24 | 24 |\n| 41 | 18 | -23 | 23 |\n| 17 | 16 |  -1 |  1 |\n| 12 | 16 |   4 |  4 |\n| 21 |  9 | -12 | 12 |\n| 49 |  9 | -40 | 40 |\n| 14 | 18 |   4 |  4 |\n| 55 |  4 | -51 | 51 |\n| 46 | 17 | -29 | 29 |\n| 22 |  0 | -22 | 22 |\n| 28 | 11 | -17 | 17 |\n| 23 | 14 |  -9 |  9 |\n| 37 |  0 | -37 | 37 |\n| 17 | 19 |   2 |  2 |\n| 31 |  2 | -29 | 29 |\n| 49 |  9 | -40 | 40 |\n| 49 |  6 | -43 | 43 |\n\n",
            "text/latex": "A data.frame: 35 × 4\n\\begin{tabular}{llll}\n Antes & Depois & Dif & \\textbar{}Dif\\textbar{}\\\\\n <dbl> & <dbl> & <dbl> & <dbl>\\\\\n\\hline\n\t 39 & 16 & -23 & 23\\\\\n\t 25 &  8 & -17 & 17\\\\\n\t 24 & 12 & -12 & 12\\\\\n\t 50 &  0 & -50 & 50\\\\\n\t 13 & 14 &   1 &  1\\\\\n\t 52 & 16 & -36 & 36\\\\\n\t 21 & 13 &  -8 &  8\\\\\n\t 29 & 12 & -17 & 17\\\\\n\t 10 & 19 &   9 &  9\\\\\n\t 22 & 17 &  -5 &  5\\\\\n\t 50 & 17 & -33 & 33\\\\\n\t 15 &  2 & -13 & 13\\\\\n\t 36 & 15 & -21 & 21\\\\\n\t 39 & 10 & -29 & 29\\\\\n\t 52 & 20 & -32 & 32\\\\\n\t 48 & 13 & -35 & 35\\\\\n\t 24 &  0 & -24 & 24\\\\\n\t 15 &  4 & -11 & 11\\\\\n\t 40 & 16 & -24 & 24\\\\\n\t 41 & 18 & -23 & 23\\\\\n\t 17 & 16 &  -1 &  1\\\\\n\t 12 & 16 &   4 &  4\\\\\n\t 21 &  9 & -12 & 12\\\\\n\t 49 &  9 & -40 & 40\\\\\n\t 14 & 18 &   4 &  4\\\\\n\t 55 &  4 & -51 & 51\\\\\n\t 46 & 17 & -29 & 29\\\\\n\t 22 &  0 & -22 & 22\\\\\n\t 28 & 11 & -17 & 17\\\\\n\t 23 & 14 &  -9 &  9\\\\\n\t 37 &  0 & -37 & 37\\\\\n\t 17 & 19 &   2 &  2\\\\\n\t 31 &  2 & -29 & 29\\\\\n\t 49 &  9 & -40 & 40\\\\\n\t 49 &  6 & -43 & 43\\\\\n\\end{tabular}\n",
            "text/plain": "   Antes Depois Dif |Dif|\n1  39    16     -23 23   \n2  25     8     -17 17   \n3  24    12     -12 12   \n4  50     0     -50 50   \n5  13    14       1  1   \n6  52    16     -36 36   \n7  21    13      -8  8   \n8  29    12     -17 17   \n9  10    19       9  9   \n10 22    17      -5  5   \n11 50    17     -33 33   \n12 15     2     -13 13   \n13 36    15     -21 21   \n14 39    10     -29 29   \n15 52    20     -32 32   \n16 48    13     -35 35   \n17 24     0     -24 24   \n18 15     4     -11 11   \n19 40    16     -24 24   \n20 41    18     -23 23   \n21 17    16      -1  1   \n22 12    16       4  4   \n23 21     9     -12 12   \n24 49     9     -40 40   \n25 14    18       4  4   \n26 55     4     -51 51   \n27 46    17     -29 29   \n28 22     0     -22 22   \n29 28    11     -17 17   \n30 23    14      -9  9   \n31 37     0     -37 37   \n32 17    19       2  2   \n33 31     2     -29 29   \n34 49     9     -40 40   \n35 49     6     -43 43   "
          },
          "metadata": {}
        }
      ]
    },
    {
      "cell_type": "code",
      "source": [
        "fumo <- fumo[order(fumo$'|Dif|'),]\n",
        "fumo"
      ],
      "metadata": {
        "scrolled": true,
        "execution": {
          "iopub.status.busy": "2024-07-31T20:06:27.719861Z",
          "iopub.execute_input": "2024-07-31T20:06:27.721313Z",
          "iopub.status.idle": "2024-07-31T20:06:27.769576Z"
        },
        "trusted": true,
        "id": "ES7fmfu25Zbz",
        "outputId": "de4c1a92-7fe9-4649-8795-ecb56e7a02a1"
      },
      "execution_count": null,
      "outputs": [
        {
          "output_type": "display_data",
          "data": {
            "text/html": "<table class=\"dataframe\">\n<caption>A data.frame: 35 × 4</caption>\n<thead>\n\t<tr><th></th><th scope=col>Antes</th><th scope=col>Depois</th><th scope=col>Dif</th><th scope=col>|Dif|</th></tr>\n\t<tr><th></th><th scope=col>&lt;dbl&gt;</th><th scope=col>&lt;dbl&gt;</th><th scope=col>&lt;dbl&gt;</th><th scope=col>&lt;dbl&gt;</th></tr>\n</thead>\n<tbody>\n\t<tr><th scope=row>5</th><td>13</td><td>14</td><td>  1</td><td> 1</td></tr>\n\t<tr><th scope=row>21</th><td>17</td><td>16</td><td> -1</td><td> 1</td></tr>\n\t<tr><th scope=row>32</th><td>17</td><td>19</td><td>  2</td><td> 2</td></tr>\n\t<tr><th scope=row>22</th><td>12</td><td>16</td><td>  4</td><td> 4</td></tr>\n\t<tr><th scope=row>25</th><td>14</td><td>18</td><td>  4</td><td> 4</td></tr>\n\t<tr><th scope=row>10</th><td>22</td><td>17</td><td> -5</td><td> 5</td></tr>\n\t<tr><th scope=row>7</th><td>21</td><td>13</td><td> -8</td><td> 8</td></tr>\n\t<tr><th scope=row>9</th><td>10</td><td>19</td><td>  9</td><td> 9</td></tr>\n\t<tr><th scope=row>30</th><td>23</td><td>14</td><td> -9</td><td> 9</td></tr>\n\t<tr><th scope=row>18</th><td>15</td><td> 4</td><td>-11</td><td>11</td></tr>\n\t<tr><th scope=row>3</th><td>24</td><td>12</td><td>-12</td><td>12</td></tr>\n\t<tr><th scope=row>23</th><td>21</td><td> 9</td><td>-12</td><td>12</td></tr>\n\t<tr><th scope=row>12</th><td>15</td><td> 2</td><td>-13</td><td>13</td></tr>\n\t<tr><th scope=row>2</th><td>25</td><td> 8</td><td>-17</td><td>17</td></tr>\n\t<tr><th scope=row>8</th><td>29</td><td>12</td><td>-17</td><td>17</td></tr>\n\t<tr><th scope=row>29</th><td>28</td><td>11</td><td>-17</td><td>17</td></tr>\n\t<tr><th scope=row>13</th><td>36</td><td>15</td><td>-21</td><td>21</td></tr>\n\t<tr><th scope=row>28</th><td>22</td><td> 0</td><td>-22</td><td>22</td></tr>\n\t<tr><th scope=row>1</th><td>39</td><td>16</td><td>-23</td><td>23</td></tr>\n\t<tr><th scope=row>20</th><td>41</td><td>18</td><td>-23</td><td>23</td></tr>\n\t<tr><th scope=row>17</th><td>24</td><td> 0</td><td>-24</td><td>24</td></tr>\n\t<tr><th scope=row>19</th><td>40</td><td>16</td><td>-24</td><td>24</td></tr>\n\t<tr><th scope=row>14</th><td>39</td><td>10</td><td>-29</td><td>29</td></tr>\n\t<tr><th scope=row>27</th><td>46</td><td>17</td><td>-29</td><td>29</td></tr>\n\t<tr><th scope=row>33</th><td>31</td><td> 2</td><td>-29</td><td>29</td></tr>\n\t<tr><th scope=row>15</th><td>52</td><td>20</td><td>-32</td><td>32</td></tr>\n\t<tr><th scope=row>11</th><td>50</td><td>17</td><td>-33</td><td>33</td></tr>\n\t<tr><th scope=row>16</th><td>48</td><td>13</td><td>-35</td><td>35</td></tr>\n\t<tr><th scope=row>6</th><td>52</td><td>16</td><td>-36</td><td>36</td></tr>\n\t<tr><th scope=row>31</th><td>37</td><td> 0</td><td>-37</td><td>37</td></tr>\n\t<tr><th scope=row>24</th><td>49</td><td> 9</td><td>-40</td><td>40</td></tr>\n\t<tr><th scope=row>34</th><td>49</td><td> 9</td><td>-40</td><td>40</td></tr>\n\t<tr><th scope=row>35</th><td>49</td><td> 6</td><td>-43</td><td>43</td></tr>\n\t<tr><th scope=row>4</th><td>50</td><td> 0</td><td>-50</td><td>50</td></tr>\n\t<tr><th scope=row>26</th><td>55</td><td> 4</td><td>-51</td><td>51</td></tr>\n</tbody>\n</table>\n",
            "text/markdown": "\nA data.frame: 35 × 4\n\n| <!--/--> | Antes &lt;dbl&gt; | Depois &lt;dbl&gt; | Dif &lt;dbl&gt; | |Dif| &lt;dbl&gt; |\n|---|---|---|---|---|\n| 5 | 13 | 14 |   1 |  1 |\n| 21 | 17 | 16 |  -1 |  1 |\n| 32 | 17 | 19 |   2 |  2 |\n| 22 | 12 | 16 |   4 |  4 |\n| 25 | 14 | 18 |   4 |  4 |\n| 10 | 22 | 17 |  -5 |  5 |\n| 7 | 21 | 13 |  -8 |  8 |\n| 9 | 10 | 19 |   9 |  9 |\n| 30 | 23 | 14 |  -9 |  9 |\n| 18 | 15 |  4 | -11 | 11 |\n| 3 | 24 | 12 | -12 | 12 |\n| 23 | 21 |  9 | -12 | 12 |\n| 12 | 15 |  2 | -13 | 13 |\n| 2 | 25 |  8 | -17 | 17 |\n| 8 | 29 | 12 | -17 | 17 |\n| 29 | 28 | 11 | -17 | 17 |\n| 13 | 36 | 15 | -21 | 21 |\n| 28 | 22 |  0 | -22 | 22 |\n| 1 | 39 | 16 | -23 | 23 |\n| 20 | 41 | 18 | -23 | 23 |\n| 17 | 24 |  0 | -24 | 24 |\n| 19 | 40 | 16 | -24 | 24 |\n| 14 | 39 | 10 | -29 | 29 |\n| 27 | 46 | 17 | -29 | 29 |\n| 33 | 31 |  2 | -29 | 29 |\n| 15 | 52 | 20 | -32 | 32 |\n| 11 | 50 | 17 | -33 | 33 |\n| 16 | 48 | 13 | -35 | 35 |\n| 6 | 52 | 16 | -36 | 36 |\n| 31 | 37 |  0 | -37 | 37 |\n| 24 | 49 |  9 | -40 | 40 |\n| 34 | 49 |  9 | -40 | 40 |\n| 35 | 49 |  6 | -43 | 43 |\n| 4 | 50 |  0 | -50 | 50 |\n| 26 | 55 |  4 | -51 | 51 |\n\n",
            "text/latex": "A data.frame: 35 × 4\n\\begin{tabular}{r|llll}\n  & Antes & Depois & Dif & \\textbar{}Dif\\textbar{}\\\\\n  & <dbl> & <dbl> & <dbl> & <dbl>\\\\\n\\hline\n\t5 & 13 & 14 &   1 &  1\\\\\n\t21 & 17 & 16 &  -1 &  1\\\\\n\t32 & 17 & 19 &   2 &  2\\\\\n\t22 & 12 & 16 &   4 &  4\\\\\n\t25 & 14 & 18 &   4 &  4\\\\\n\t10 & 22 & 17 &  -5 &  5\\\\\n\t7 & 21 & 13 &  -8 &  8\\\\\n\t9 & 10 & 19 &   9 &  9\\\\\n\t30 & 23 & 14 &  -9 &  9\\\\\n\t18 & 15 &  4 & -11 & 11\\\\\n\t3 & 24 & 12 & -12 & 12\\\\\n\t23 & 21 &  9 & -12 & 12\\\\\n\t12 & 15 &  2 & -13 & 13\\\\\n\t2 & 25 &  8 & -17 & 17\\\\\n\t8 & 29 & 12 & -17 & 17\\\\\n\t29 & 28 & 11 & -17 & 17\\\\\n\t13 & 36 & 15 & -21 & 21\\\\\n\t28 & 22 &  0 & -22 & 22\\\\\n\t1 & 39 & 16 & -23 & 23\\\\\n\t20 & 41 & 18 & -23 & 23\\\\\n\t17 & 24 &  0 & -24 & 24\\\\\n\t19 & 40 & 16 & -24 & 24\\\\\n\t14 & 39 & 10 & -29 & 29\\\\\n\t27 & 46 & 17 & -29 & 29\\\\\n\t33 & 31 &  2 & -29 & 29\\\\\n\t15 & 52 & 20 & -32 & 32\\\\\n\t11 & 50 & 17 & -33 & 33\\\\\n\t16 & 48 & 13 & -35 & 35\\\\\n\t6 & 52 & 16 & -36 & 36\\\\\n\t31 & 37 &  0 & -37 & 37\\\\\n\t24 & 49 &  9 & -40 & 40\\\\\n\t34 & 49 &  9 & -40 & 40\\\\\n\t35 & 49 &  6 & -43 & 43\\\\\n\t4 & 50 &  0 & -50 & 50\\\\\n\t26 & 55 &  4 & -51 & 51\\\\\n\\end{tabular}\n",
            "text/plain": "   Antes Depois Dif |Dif|\n5  13    14       1  1   \n21 17    16      -1  1   \n32 17    19       2  2   \n22 12    16       4  4   \n25 14    18       4  4   \n10 22    17      -5  5   \n7  21    13      -8  8   \n9  10    19       9  9   \n30 23    14      -9  9   \n18 15     4     -11 11   \n3  24    12     -12 12   \n23 21     9     -12 12   \n12 15     2     -13 13   \n2  25     8     -17 17   \n8  29    12     -17 17   \n29 28    11     -17 17   \n13 36    15     -21 21   \n28 22     0     -22 22   \n1  39    16     -23 23   \n20 41    18     -23 23   \n17 24     0     -24 24   \n19 40    16     -24 24   \n14 39    10     -29 29   \n27 46    17     -29 29   \n33 31     2     -29 29   \n15 52    20     -32 32   \n11 50    17     -33 33   \n16 48    13     -35 35   \n6  52    16     -36 36   \n31 37     0     -37 37   \n24 49     9     -40 40   \n34 49     9     -40 40   \n35 49     6     -43 43   \n4  50     0     -50 50   \n26 55     4     -51 51   "
          },
          "metadata": {}
        }
      ]
    },
    {
      "cell_type": "code",
      "source": [
        "fumo['Posto'] <- seq(1, nrow(fumo))\n",
        "fumo"
      ],
      "metadata": {
        "colab": {
          "base_uri": "https://localhost:8080/",
          "height": 1134
        },
        "id": "K_JKSwLHotMx",
        "outputId": "51594adf-1a5c-4d51-aad3-ed49e4c1e018",
        "scrolled": true,
        "execution": {
          "iopub.status.busy": "2024-07-31T20:06:27.772216Z",
          "iopub.execute_input": "2024-07-31T20:06:27.773653Z",
          "iopub.status.idle": "2024-07-31T20:06:27.831029Z"
        },
        "trusted": true
      },
      "execution_count": null,
      "outputs": [
        {
          "output_type": "display_data",
          "data": {
            "text/html": "<table class=\"dataframe\">\n<caption>A data.frame: 35 × 5</caption>\n<thead>\n\t<tr><th></th><th scope=col>Antes</th><th scope=col>Depois</th><th scope=col>Dif</th><th scope=col>|Dif|</th><th scope=col>Posto</th></tr>\n\t<tr><th></th><th scope=col>&lt;dbl&gt;</th><th scope=col>&lt;dbl&gt;</th><th scope=col>&lt;dbl&gt;</th><th scope=col>&lt;dbl&gt;</th><th scope=col>&lt;int&gt;</th></tr>\n</thead>\n<tbody>\n\t<tr><th scope=row>5</th><td>13</td><td>14</td><td>  1</td><td> 1</td><td> 1</td></tr>\n\t<tr><th scope=row>21</th><td>17</td><td>16</td><td> -1</td><td> 1</td><td> 2</td></tr>\n\t<tr><th scope=row>32</th><td>17</td><td>19</td><td>  2</td><td> 2</td><td> 3</td></tr>\n\t<tr><th scope=row>22</th><td>12</td><td>16</td><td>  4</td><td> 4</td><td> 4</td></tr>\n\t<tr><th scope=row>25</th><td>14</td><td>18</td><td>  4</td><td> 4</td><td> 5</td></tr>\n\t<tr><th scope=row>10</th><td>22</td><td>17</td><td> -5</td><td> 5</td><td> 6</td></tr>\n\t<tr><th scope=row>7</th><td>21</td><td>13</td><td> -8</td><td> 8</td><td> 7</td></tr>\n\t<tr><th scope=row>9</th><td>10</td><td>19</td><td>  9</td><td> 9</td><td> 8</td></tr>\n\t<tr><th scope=row>30</th><td>23</td><td>14</td><td> -9</td><td> 9</td><td> 9</td></tr>\n\t<tr><th scope=row>18</th><td>15</td><td> 4</td><td>-11</td><td>11</td><td>10</td></tr>\n\t<tr><th scope=row>3</th><td>24</td><td>12</td><td>-12</td><td>12</td><td>11</td></tr>\n\t<tr><th scope=row>23</th><td>21</td><td> 9</td><td>-12</td><td>12</td><td>12</td></tr>\n\t<tr><th scope=row>12</th><td>15</td><td> 2</td><td>-13</td><td>13</td><td>13</td></tr>\n\t<tr><th scope=row>2</th><td>25</td><td> 8</td><td>-17</td><td>17</td><td>14</td></tr>\n\t<tr><th scope=row>8</th><td>29</td><td>12</td><td>-17</td><td>17</td><td>15</td></tr>\n\t<tr><th scope=row>29</th><td>28</td><td>11</td><td>-17</td><td>17</td><td>16</td></tr>\n\t<tr><th scope=row>13</th><td>36</td><td>15</td><td>-21</td><td>21</td><td>17</td></tr>\n\t<tr><th scope=row>28</th><td>22</td><td> 0</td><td>-22</td><td>22</td><td>18</td></tr>\n\t<tr><th scope=row>1</th><td>39</td><td>16</td><td>-23</td><td>23</td><td>19</td></tr>\n\t<tr><th scope=row>20</th><td>41</td><td>18</td><td>-23</td><td>23</td><td>20</td></tr>\n\t<tr><th scope=row>17</th><td>24</td><td> 0</td><td>-24</td><td>24</td><td>21</td></tr>\n\t<tr><th scope=row>19</th><td>40</td><td>16</td><td>-24</td><td>24</td><td>22</td></tr>\n\t<tr><th scope=row>14</th><td>39</td><td>10</td><td>-29</td><td>29</td><td>23</td></tr>\n\t<tr><th scope=row>27</th><td>46</td><td>17</td><td>-29</td><td>29</td><td>24</td></tr>\n\t<tr><th scope=row>33</th><td>31</td><td> 2</td><td>-29</td><td>29</td><td>25</td></tr>\n\t<tr><th scope=row>15</th><td>52</td><td>20</td><td>-32</td><td>32</td><td>26</td></tr>\n\t<tr><th scope=row>11</th><td>50</td><td>17</td><td>-33</td><td>33</td><td>27</td></tr>\n\t<tr><th scope=row>16</th><td>48</td><td>13</td><td>-35</td><td>35</td><td>28</td></tr>\n\t<tr><th scope=row>6</th><td>52</td><td>16</td><td>-36</td><td>36</td><td>29</td></tr>\n\t<tr><th scope=row>31</th><td>37</td><td> 0</td><td>-37</td><td>37</td><td>30</td></tr>\n\t<tr><th scope=row>24</th><td>49</td><td> 9</td><td>-40</td><td>40</td><td>31</td></tr>\n\t<tr><th scope=row>34</th><td>49</td><td> 9</td><td>-40</td><td>40</td><td>32</td></tr>\n\t<tr><th scope=row>35</th><td>49</td><td> 6</td><td>-43</td><td>43</td><td>33</td></tr>\n\t<tr><th scope=row>4</th><td>50</td><td> 0</td><td>-50</td><td>50</td><td>34</td></tr>\n\t<tr><th scope=row>26</th><td>55</td><td> 4</td><td>-51</td><td>51</td><td>35</td></tr>\n</tbody>\n</table>\n",
            "text/markdown": "\nA data.frame: 35 × 5\n\n| <!--/--> | Antes &lt;dbl&gt; | Depois &lt;dbl&gt; | Dif &lt;dbl&gt; | |Dif| &lt;dbl&gt; | Posto &lt;int&gt; |\n|---|---|---|---|---|---|\n| 5 | 13 | 14 |   1 |  1 |  1 |\n| 21 | 17 | 16 |  -1 |  1 |  2 |\n| 32 | 17 | 19 |   2 |  2 |  3 |\n| 22 | 12 | 16 |   4 |  4 |  4 |\n| 25 | 14 | 18 |   4 |  4 |  5 |\n| 10 | 22 | 17 |  -5 |  5 |  6 |\n| 7 | 21 | 13 |  -8 |  8 |  7 |\n| 9 | 10 | 19 |   9 |  9 |  8 |\n| 30 | 23 | 14 |  -9 |  9 |  9 |\n| 18 | 15 |  4 | -11 | 11 | 10 |\n| 3 | 24 | 12 | -12 | 12 | 11 |\n| 23 | 21 |  9 | -12 | 12 | 12 |\n| 12 | 15 |  2 | -13 | 13 | 13 |\n| 2 | 25 |  8 | -17 | 17 | 14 |\n| 8 | 29 | 12 | -17 | 17 | 15 |\n| 29 | 28 | 11 | -17 | 17 | 16 |\n| 13 | 36 | 15 | -21 | 21 | 17 |\n| 28 | 22 |  0 | -22 | 22 | 18 |\n| 1 | 39 | 16 | -23 | 23 | 19 |\n| 20 | 41 | 18 | -23 | 23 | 20 |\n| 17 | 24 |  0 | -24 | 24 | 21 |\n| 19 | 40 | 16 | -24 | 24 | 22 |\n| 14 | 39 | 10 | -29 | 29 | 23 |\n| 27 | 46 | 17 | -29 | 29 | 24 |\n| 33 | 31 |  2 | -29 | 29 | 25 |\n| 15 | 52 | 20 | -32 | 32 | 26 |\n| 11 | 50 | 17 | -33 | 33 | 27 |\n| 16 | 48 | 13 | -35 | 35 | 28 |\n| 6 | 52 | 16 | -36 | 36 | 29 |\n| 31 | 37 |  0 | -37 | 37 | 30 |\n| 24 | 49 |  9 | -40 | 40 | 31 |\n| 34 | 49 |  9 | -40 | 40 | 32 |\n| 35 | 49 |  6 | -43 | 43 | 33 |\n| 4 | 50 |  0 | -50 | 50 | 34 |\n| 26 | 55 |  4 | -51 | 51 | 35 |\n\n",
            "text/latex": "A data.frame: 35 × 5\n\\begin{tabular}{r|lllll}\n  & Antes & Depois & Dif & \\textbar{}Dif\\textbar{} & Posto\\\\\n  & <dbl> & <dbl> & <dbl> & <dbl> & <int>\\\\\n\\hline\n\t5 & 13 & 14 &   1 &  1 &  1\\\\\n\t21 & 17 & 16 &  -1 &  1 &  2\\\\\n\t32 & 17 & 19 &   2 &  2 &  3\\\\\n\t22 & 12 & 16 &   4 &  4 &  4\\\\\n\t25 & 14 & 18 &   4 &  4 &  5\\\\\n\t10 & 22 & 17 &  -5 &  5 &  6\\\\\n\t7 & 21 & 13 &  -8 &  8 &  7\\\\\n\t9 & 10 & 19 &   9 &  9 &  8\\\\\n\t30 & 23 & 14 &  -9 &  9 &  9\\\\\n\t18 & 15 &  4 & -11 & 11 & 10\\\\\n\t3 & 24 & 12 & -12 & 12 & 11\\\\\n\t23 & 21 &  9 & -12 & 12 & 12\\\\\n\t12 & 15 &  2 & -13 & 13 & 13\\\\\n\t2 & 25 &  8 & -17 & 17 & 14\\\\\n\t8 & 29 & 12 & -17 & 17 & 15\\\\\n\t29 & 28 & 11 & -17 & 17 & 16\\\\\n\t13 & 36 & 15 & -21 & 21 & 17\\\\\n\t28 & 22 &  0 & -22 & 22 & 18\\\\\n\t1 & 39 & 16 & -23 & 23 & 19\\\\\n\t20 & 41 & 18 & -23 & 23 & 20\\\\\n\t17 & 24 &  0 & -24 & 24 & 21\\\\\n\t19 & 40 & 16 & -24 & 24 & 22\\\\\n\t14 & 39 & 10 & -29 & 29 & 23\\\\\n\t27 & 46 & 17 & -29 & 29 & 24\\\\\n\t33 & 31 &  2 & -29 & 29 & 25\\\\\n\t15 & 52 & 20 & -32 & 32 & 26\\\\\n\t11 & 50 & 17 & -33 & 33 & 27\\\\\n\t16 & 48 & 13 & -35 & 35 & 28\\\\\n\t6 & 52 & 16 & -36 & 36 & 29\\\\\n\t31 & 37 &  0 & -37 & 37 & 30\\\\\n\t24 & 49 &  9 & -40 & 40 & 31\\\\\n\t34 & 49 &  9 & -40 & 40 & 32\\\\\n\t35 & 49 &  6 & -43 & 43 & 33\\\\\n\t4 & 50 &  0 & -50 & 50 & 34\\\\\n\t26 & 55 &  4 & -51 & 51 & 35\\\\\n\\end{tabular}\n",
            "text/plain": "   Antes Depois Dif |Dif| Posto\n5  13    14       1  1     1   \n21 17    16      -1  1     2   \n32 17    19       2  2     3   \n22 12    16       4  4     4   \n25 14    18       4  4     5   \n10 22    17      -5  5     6   \n7  21    13      -8  8     7   \n9  10    19       9  9     8   \n30 23    14      -9  9     9   \n18 15     4     -11 11    10   \n3  24    12     -12 12    11   \n23 21     9     -12 12    12   \n12 15     2     -13 13    13   \n2  25     8     -17 17    14   \n8  29    12     -17 17    15   \n29 28    11     -17 17    16   \n13 36    15     -21 21    17   \n28 22     0     -22 22    18   \n1  39    16     -23 23    19   \n20 41    18     -23 23    20   \n17 24     0     -24 24    21   \n19 40    16     -24 24    22   \n14 39    10     -29 29    23   \n27 46    17     -29 29    24   \n33 31     2     -29 29    25   \n15 52    20     -32 32    26   \n11 50    17     -33 33    27   \n16 48    13     -35 35    28   \n6  52    16     -36 36    29   \n31 37     0     -37 37    30   \n24 49     9     -40 40    31   \n34 49     9     -40 40    32   \n35 49     6     -43 43    33   \n4  50     0     -50 50    34   \n26 55     4     -51 51    35   "
          },
          "metadata": {}
        }
      ]
    },
    {
      "cell_type": "code",
      "source": [
        "posto <- aggregate(x = fumo$'Posto', by = list(fumo$'|Dif|'), FUN = mean)\n",
        "colnames(posto) <- c('|Dif|', 'Posto')\n",
        "posto"
      ],
      "metadata": {
        "scrolled": true,
        "execution": {
          "iopub.status.busy": "2024-07-31T20:06:27.833799Z",
          "iopub.execute_input": "2024-07-31T20:06:27.835299Z",
          "iopub.status.idle": "2024-07-31T20:06:27.868913Z"
        },
        "trusted": true,
        "id": "Rkz2IDXu5Zb0",
        "outputId": "80424eec-6387-4bda-b4cf-1491b90a058c"
      },
      "execution_count": null,
      "outputs": [
        {
          "output_type": "display_data",
          "data": {
            "text/html": "<table class=\"dataframe\">\n<caption>A data.frame: 24 × 2</caption>\n<thead>\n\t<tr><th scope=col>|Dif|</th><th scope=col>Posto</th></tr>\n\t<tr><th scope=col>&lt;dbl&gt;</th><th scope=col>&lt;dbl&gt;</th></tr>\n</thead>\n<tbody>\n\t<tr><td> 1</td><td> 1.5</td></tr>\n\t<tr><td> 2</td><td> 3.0</td></tr>\n\t<tr><td> 4</td><td> 4.5</td></tr>\n\t<tr><td> 5</td><td> 6.0</td></tr>\n\t<tr><td> 8</td><td> 7.0</td></tr>\n\t<tr><td> 9</td><td> 8.5</td></tr>\n\t<tr><td>11</td><td>10.0</td></tr>\n\t<tr><td>12</td><td>11.5</td></tr>\n\t<tr><td>13</td><td>13.0</td></tr>\n\t<tr><td>17</td><td>15.0</td></tr>\n\t<tr><td>21</td><td>17.0</td></tr>\n\t<tr><td>22</td><td>18.0</td></tr>\n\t<tr><td>23</td><td>19.5</td></tr>\n\t<tr><td>24</td><td>21.5</td></tr>\n\t<tr><td>29</td><td>24.0</td></tr>\n\t<tr><td>32</td><td>26.0</td></tr>\n\t<tr><td>33</td><td>27.0</td></tr>\n\t<tr><td>35</td><td>28.0</td></tr>\n\t<tr><td>36</td><td>29.0</td></tr>\n\t<tr><td>37</td><td>30.0</td></tr>\n\t<tr><td>40</td><td>31.5</td></tr>\n\t<tr><td>43</td><td>33.0</td></tr>\n\t<tr><td>50</td><td>34.0</td></tr>\n\t<tr><td>51</td><td>35.0</td></tr>\n</tbody>\n</table>\n",
            "text/markdown": "\nA data.frame: 24 × 2\n\n| |Dif| &lt;dbl&gt; | Posto &lt;dbl&gt; |\n|---|---|\n|  1 |  1.5 |\n|  2 |  3.0 |\n|  4 |  4.5 |\n|  5 |  6.0 |\n|  8 |  7.0 |\n|  9 |  8.5 |\n| 11 | 10.0 |\n| 12 | 11.5 |\n| 13 | 13.0 |\n| 17 | 15.0 |\n| 21 | 17.0 |\n| 22 | 18.0 |\n| 23 | 19.5 |\n| 24 | 21.5 |\n| 29 | 24.0 |\n| 32 | 26.0 |\n| 33 | 27.0 |\n| 35 | 28.0 |\n| 36 | 29.0 |\n| 37 | 30.0 |\n| 40 | 31.5 |\n| 43 | 33.0 |\n| 50 | 34.0 |\n| 51 | 35.0 |\n\n",
            "text/latex": "A data.frame: 24 × 2\n\\begin{tabular}{ll}\n \\textbar{}Dif\\textbar{} & Posto\\\\\n <dbl> & <dbl>\\\\\n\\hline\n\t  1 &  1.5\\\\\n\t  2 &  3.0\\\\\n\t  4 &  4.5\\\\\n\t  5 &  6.0\\\\\n\t  8 &  7.0\\\\\n\t  9 &  8.5\\\\\n\t 11 & 10.0\\\\\n\t 12 & 11.5\\\\\n\t 13 & 13.0\\\\\n\t 17 & 15.0\\\\\n\t 21 & 17.0\\\\\n\t 22 & 18.0\\\\\n\t 23 & 19.5\\\\\n\t 24 & 21.5\\\\\n\t 29 & 24.0\\\\\n\t 32 & 26.0\\\\\n\t 33 & 27.0\\\\\n\t 35 & 28.0\\\\\n\t 36 & 29.0\\\\\n\t 37 & 30.0\\\\\n\t 40 & 31.5\\\\\n\t 43 & 33.0\\\\\n\t 50 & 34.0\\\\\n\t 51 & 35.0\\\\\n\\end{tabular}\n",
            "text/plain": "   |Dif| Posto\n1   1     1.5 \n2   2     3.0 \n3   4     4.5 \n4   5     6.0 \n5   8     7.0 \n6   9     8.5 \n7  11    10.0 \n8  12    11.5 \n9  13    13.0 \n10 17    15.0 \n11 21    17.0 \n12 22    18.0 \n13 23    19.5 \n14 24    21.5 \n15 29    24.0 \n16 32    26.0 \n17 33    27.0 \n18 35    28.0 \n19 36    29.0 \n20 37    30.0 \n21 40    31.5 \n22 43    33.0 \n23 50    34.0 \n24 51    35.0 "
          },
          "metadata": {}
        }
      ]
    },
    {
      "cell_type": "code",
      "source": [
        "fumo$Posto <- NULL\n",
        "fumo"
      ],
      "metadata": {
        "scrolled": true,
        "execution": {
          "iopub.status.busy": "2024-07-31T20:06:27.871661Z",
          "iopub.execute_input": "2024-07-31T20:06:27.873183Z",
          "iopub.status.idle": "2024-07-31T20:06:27.919957Z"
        },
        "trusted": true,
        "id": "5ED88Y245Zb0",
        "outputId": "3946a26b-12b9-4102-97a8-12b93ea622e9"
      },
      "execution_count": null,
      "outputs": [
        {
          "output_type": "display_data",
          "data": {
            "text/html": "<table class=\"dataframe\">\n<caption>A data.frame: 35 × 4</caption>\n<thead>\n\t<tr><th></th><th scope=col>Antes</th><th scope=col>Depois</th><th scope=col>Dif</th><th scope=col>|Dif|</th></tr>\n\t<tr><th></th><th scope=col>&lt;dbl&gt;</th><th scope=col>&lt;dbl&gt;</th><th scope=col>&lt;dbl&gt;</th><th scope=col>&lt;dbl&gt;</th></tr>\n</thead>\n<tbody>\n\t<tr><th scope=row>5</th><td>13</td><td>14</td><td>  1</td><td> 1</td></tr>\n\t<tr><th scope=row>21</th><td>17</td><td>16</td><td> -1</td><td> 1</td></tr>\n\t<tr><th scope=row>32</th><td>17</td><td>19</td><td>  2</td><td> 2</td></tr>\n\t<tr><th scope=row>22</th><td>12</td><td>16</td><td>  4</td><td> 4</td></tr>\n\t<tr><th scope=row>25</th><td>14</td><td>18</td><td>  4</td><td> 4</td></tr>\n\t<tr><th scope=row>10</th><td>22</td><td>17</td><td> -5</td><td> 5</td></tr>\n\t<tr><th scope=row>7</th><td>21</td><td>13</td><td> -8</td><td> 8</td></tr>\n\t<tr><th scope=row>9</th><td>10</td><td>19</td><td>  9</td><td> 9</td></tr>\n\t<tr><th scope=row>30</th><td>23</td><td>14</td><td> -9</td><td> 9</td></tr>\n\t<tr><th scope=row>18</th><td>15</td><td> 4</td><td>-11</td><td>11</td></tr>\n\t<tr><th scope=row>3</th><td>24</td><td>12</td><td>-12</td><td>12</td></tr>\n\t<tr><th scope=row>23</th><td>21</td><td> 9</td><td>-12</td><td>12</td></tr>\n\t<tr><th scope=row>12</th><td>15</td><td> 2</td><td>-13</td><td>13</td></tr>\n\t<tr><th scope=row>2</th><td>25</td><td> 8</td><td>-17</td><td>17</td></tr>\n\t<tr><th scope=row>8</th><td>29</td><td>12</td><td>-17</td><td>17</td></tr>\n\t<tr><th scope=row>29</th><td>28</td><td>11</td><td>-17</td><td>17</td></tr>\n\t<tr><th scope=row>13</th><td>36</td><td>15</td><td>-21</td><td>21</td></tr>\n\t<tr><th scope=row>28</th><td>22</td><td> 0</td><td>-22</td><td>22</td></tr>\n\t<tr><th scope=row>1</th><td>39</td><td>16</td><td>-23</td><td>23</td></tr>\n\t<tr><th scope=row>20</th><td>41</td><td>18</td><td>-23</td><td>23</td></tr>\n\t<tr><th scope=row>17</th><td>24</td><td> 0</td><td>-24</td><td>24</td></tr>\n\t<tr><th scope=row>19</th><td>40</td><td>16</td><td>-24</td><td>24</td></tr>\n\t<tr><th scope=row>14</th><td>39</td><td>10</td><td>-29</td><td>29</td></tr>\n\t<tr><th scope=row>27</th><td>46</td><td>17</td><td>-29</td><td>29</td></tr>\n\t<tr><th scope=row>33</th><td>31</td><td> 2</td><td>-29</td><td>29</td></tr>\n\t<tr><th scope=row>15</th><td>52</td><td>20</td><td>-32</td><td>32</td></tr>\n\t<tr><th scope=row>11</th><td>50</td><td>17</td><td>-33</td><td>33</td></tr>\n\t<tr><th scope=row>16</th><td>48</td><td>13</td><td>-35</td><td>35</td></tr>\n\t<tr><th scope=row>6</th><td>52</td><td>16</td><td>-36</td><td>36</td></tr>\n\t<tr><th scope=row>31</th><td>37</td><td> 0</td><td>-37</td><td>37</td></tr>\n\t<tr><th scope=row>24</th><td>49</td><td> 9</td><td>-40</td><td>40</td></tr>\n\t<tr><th scope=row>34</th><td>49</td><td> 9</td><td>-40</td><td>40</td></tr>\n\t<tr><th scope=row>35</th><td>49</td><td> 6</td><td>-43</td><td>43</td></tr>\n\t<tr><th scope=row>4</th><td>50</td><td> 0</td><td>-50</td><td>50</td></tr>\n\t<tr><th scope=row>26</th><td>55</td><td> 4</td><td>-51</td><td>51</td></tr>\n</tbody>\n</table>\n",
            "text/markdown": "\nA data.frame: 35 × 4\n\n| <!--/--> | Antes &lt;dbl&gt; | Depois &lt;dbl&gt; | Dif &lt;dbl&gt; | |Dif| &lt;dbl&gt; |\n|---|---|---|---|---|\n| 5 | 13 | 14 |   1 |  1 |\n| 21 | 17 | 16 |  -1 |  1 |\n| 32 | 17 | 19 |   2 |  2 |\n| 22 | 12 | 16 |   4 |  4 |\n| 25 | 14 | 18 |   4 |  4 |\n| 10 | 22 | 17 |  -5 |  5 |\n| 7 | 21 | 13 |  -8 |  8 |\n| 9 | 10 | 19 |   9 |  9 |\n| 30 | 23 | 14 |  -9 |  9 |\n| 18 | 15 |  4 | -11 | 11 |\n| 3 | 24 | 12 | -12 | 12 |\n| 23 | 21 |  9 | -12 | 12 |\n| 12 | 15 |  2 | -13 | 13 |\n| 2 | 25 |  8 | -17 | 17 |\n| 8 | 29 | 12 | -17 | 17 |\n| 29 | 28 | 11 | -17 | 17 |\n| 13 | 36 | 15 | -21 | 21 |\n| 28 | 22 |  0 | -22 | 22 |\n| 1 | 39 | 16 | -23 | 23 |\n| 20 | 41 | 18 | -23 | 23 |\n| 17 | 24 |  0 | -24 | 24 |\n| 19 | 40 | 16 | -24 | 24 |\n| 14 | 39 | 10 | -29 | 29 |\n| 27 | 46 | 17 | -29 | 29 |\n| 33 | 31 |  2 | -29 | 29 |\n| 15 | 52 | 20 | -32 | 32 |\n| 11 | 50 | 17 | -33 | 33 |\n| 16 | 48 | 13 | -35 | 35 |\n| 6 | 52 | 16 | -36 | 36 |\n| 31 | 37 |  0 | -37 | 37 |\n| 24 | 49 |  9 | -40 | 40 |\n| 34 | 49 |  9 | -40 | 40 |\n| 35 | 49 |  6 | -43 | 43 |\n| 4 | 50 |  0 | -50 | 50 |\n| 26 | 55 |  4 | -51 | 51 |\n\n",
            "text/latex": "A data.frame: 35 × 4\n\\begin{tabular}{r|llll}\n  & Antes & Depois & Dif & \\textbar{}Dif\\textbar{}\\\\\n  & <dbl> & <dbl> & <dbl> & <dbl>\\\\\n\\hline\n\t5 & 13 & 14 &   1 &  1\\\\\n\t21 & 17 & 16 &  -1 &  1\\\\\n\t32 & 17 & 19 &   2 &  2\\\\\n\t22 & 12 & 16 &   4 &  4\\\\\n\t25 & 14 & 18 &   4 &  4\\\\\n\t10 & 22 & 17 &  -5 &  5\\\\\n\t7 & 21 & 13 &  -8 &  8\\\\\n\t9 & 10 & 19 &   9 &  9\\\\\n\t30 & 23 & 14 &  -9 &  9\\\\\n\t18 & 15 &  4 & -11 & 11\\\\\n\t3 & 24 & 12 & -12 & 12\\\\\n\t23 & 21 &  9 & -12 & 12\\\\\n\t12 & 15 &  2 & -13 & 13\\\\\n\t2 & 25 &  8 & -17 & 17\\\\\n\t8 & 29 & 12 & -17 & 17\\\\\n\t29 & 28 & 11 & -17 & 17\\\\\n\t13 & 36 & 15 & -21 & 21\\\\\n\t28 & 22 &  0 & -22 & 22\\\\\n\t1 & 39 & 16 & -23 & 23\\\\\n\t20 & 41 & 18 & -23 & 23\\\\\n\t17 & 24 &  0 & -24 & 24\\\\\n\t19 & 40 & 16 & -24 & 24\\\\\n\t14 & 39 & 10 & -29 & 29\\\\\n\t27 & 46 & 17 & -29 & 29\\\\\n\t33 & 31 &  2 & -29 & 29\\\\\n\t15 & 52 & 20 & -32 & 32\\\\\n\t11 & 50 & 17 & -33 & 33\\\\\n\t16 & 48 & 13 & -35 & 35\\\\\n\t6 & 52 & 16 & -36 & 36\\\\\n\t31 & 37 &  0 & -37 & 37\\\\\n\t24 & 49 &  9 & -40 & 40\\\\\n\t34 & 49 &  9 & -40 & 40\\\\\n\t35 & 49 &  6 & -43 & 43\\\\\n\t4 & 50 &  0 & -50 & 50\\\\\n\t26 & 55 &  4 & -51 & 51\\\\\n\\end{tabular}\n",
            "text/plain": "   Antes Depois Dif |Dif|\n5  13    14       1  1   \n21 17    16      -1  1   \n32 17    19       2  2   \n22 12    16       4  4   \n25 14    18       4  4   \n10 22    17      -5  5   \n7  21    13      -8  8   \n9  10    19       9  9   \n30 23    14      -9  9   \n18 15     4     -11 11   \n3  24    12     -12 12   \n23 21     9     -12 12   \n12 15     2     -13 13   \n2  25     8     -17 17   \n8  29    12     -17 17   \n29 28    11     -17 17   \n13 36    15     -21 21   \n28 22     0     -22 22   \n1  39    16     -23 23   \n20 41    18     -23 23   \n17 24     0     -24 24   \n19 40    16     -24 24   \n14 39    10     -29 29   \n27 46    17     -29 29   \n33 31     2     -29 29   \n15 52    20     -32 32   \n11 50    17     -33 33   \n16 48    13     -35 35   \n6  52    16     -36 36   \n31 37     0     -37 37   \n24 49     9     -40 40   \n34 49     9     -40 40   \n35 49     6     -43 43   \n4  50     0     -50 50   \n26 55     4     -51 51   "
          },
          "metadata": {}
        }
      ]
    },
    {
      "cell_type": "code",
      "source": [
        "fumo <- merge(x = fumo, y = posto, by = '|Dif|', all.x = TRUE)\n",
        "fumo"
      ],
      "metadata": {
        "scrolled": true,
        "execution": {
          "iopub.status.busy": "2024-07-31T20:06:27.922688Z",
          "iopub.execute_input": "2024-07-31T20:06:27.924250Z",
          "iopub.status.idle": "2024-07-31T20:06:27.969362Z"
        },
        "trusted": true,
        "id": "lqWdnxBt5Zb0",
        "outputId": "b4bdeeae-7955-49e5-a820-787da8d03b94"
      },
      "execution_count": null,
      "outputs": [
        {
          "output_type": "display_data",
          "data": {
            "text/html": "<table class=\"dataframe\">\n<caption>A data.frame: 35 × 5</caption>\n<thead>\n\t<tr><th scope=col>|Dif|</th><th scope=col>Antes</th><th scope=col>Depois</th><th scope=col>Dif</th><th scope=col>Posto</th></tr>\n\t<tr><th scope=col>&lt;dbl&gt;</th><th scope=col>&lt;dbl&gt;</th><th scope=col>&lt;dbl&gt;</th><th scope=col>&lt;dbl&gt;</th><th scope=col>&lt;dbl&gt;</th></tr>\n</thead>\n<tbody>\n\t<tr><td> 1</td><td>13</td><td>14</td><td>  1</td><td> 1.5</td></tr>\n\t<tr><td> 1</td><td>17</td><td>16</td><td> -1</td><td> 1.5</td></tr>\n\t<tr><td> 2</td><td>17</td><td>19</td><td>  2</td><td> 3.0</td></tr>\n\t<tr><td> 4</td><td>12</td><td>16</td><td>  4</td><td> 4.5</td></tr>\n\t<tr><td> 4</td><td>14</td><td>18</td><td>  4</td><td> 4.5</td></tr>\n\t<tr><td> 5</td><td>22</td><td>17</td><td> -5</td><td> 6.0</td></tr>\n\t<tr><td> 8</td><td>21</td><td>13</td><td> -8</td><td> 7.0</td></tr>\n\t<tr><td> 9</td><td>10</td><td>19</td><td>  9</td><td> 8.5</td></tr>\n\t<tr><td> 9</td><td>23</td><td>14</td><td> -9</td><td> 8.5</td></tr>\n\t<tr><td>11</td><td>15</td><td> 4</td><td>-11</td><td>10.0</td></tr>\n\t<tr><td>12</td><td>24</td><td>12</td><td>-12</td><td>11.5</td></tr>\n\t<tr><td>12</td><td>21</td><td> 9</td><td>-12</td><td>11.5</td></tr>\n\t<tr><td>13</td><td>15</td><td> 2</td><td>-13</td><td>13.0</td></tr>\n\t<tr><td>17</td><td>25</td><td> 8</td><td>-17</td><td>15.0</td></tr>\n\t<tr><td>17</td><td>29</td><td>12</td><td>-17</td><td>15.0</td></tr>\n\t<tr><td>17</td><td>28</td><td>11</td><td>-17</td><td>15.0</td></tr>\n\t<tr><td>21</td><td>36</td><td>15</td><td>-21</td><td>17.0</td></tr>\n\t<tr><td>22</td><td>22</td><td> 0</td><td>-22</td><td>18.0</td></tr>\n\t<tr><td>23</td><td>39</td><td>16</td><td>-23</td><td>19.5</td></tr>\n\t<tr><td>23</td><td>41</td><td>18</td><td>-23</td><td>19.5</td></tr>\n\t<tr><td>24</td><td>24</td><td> 0</td><td>-24</td><td>21.5</td></tr>\n\t<tr><td>24</td><td>40</td><td>16</td><td>-24</td><td>21.5</td></tr>\n\t<tr><td>29</td><td>39</td><td>10</td><td>-29</td><td>24.0</td></tr>\n\t<tr><td>29</td><td>46</td><td>17</td><td>-29</td><td>24.0</td></tr>\n\t<tr><td>29</td><td>31</td><td> 2</td><td>-29</td><td>24.0</td></tr>\n\t<tr><td>32</td><td>52</td><td>20</td><td>-32</td><td>26.0</td></tr>\n\t<tr><td>33</td><td>50</td><td>17</td><td>-33</td><td>27.0</td></tr>\n\t<tr><td>35</td><td>48</td><td>13</td><td>-35</td><td>28.0</td></tr>\n\t<tr><td>36</td><td>52</td><td>16</td><td>-36</td><td>29.0</td></tr>\n\t<tr><td>37</td><td>37</td><td> 0</td><td>-37</td><td>30.0</td></tr>\n\t<tr><td>40</td><td>49</td><td> 9</td><td>-40</td><td>31.5</td></tr>\n\t<tr><td>40</td><td>49</td><td> 9</td><td>-40</td><td>31.5</td></tr>\n\t<tr><td>43</td><td>49</td><td> 6</td><td>-43</td><td>33.0</td></tr>\n\t<tr><td>50</td><td>50</td><td> 0</td><td>-50</td><td>34.0</td></tr>\n\t<tr><td>51</td><td>55</td><td> 4</td><td>-51</td><td>35.0</td></tr>\n</tbody>\n</table>\n",
            "text/markdown": "\nA data.frame: 35 × 5\n\n| |Dif| &lt;dbl&gt; | Antes &lt;dbl&gt; | Depois &lt;dbl&gt; | Dif &lt;dbl&gt; | Posto &lt;dbl&gt; |\n|---|---|---|---|---|\n|  1 | 13 | 14 |   1 |  1.5 |\n|  1 | 17 | 16 |  -1 |  1.5 |\n|  2 | 17 | 19 |   2 |  3.0 |\n|  4 | 12 | 16 |   4 |  4.5 |\n|  4 | 14 | 18 |   4 |  4.5 |\n|  5 | 22 | 17 |  -5 |  6.0 |\n|  8 | 21 | 13 |  -8 |  7.0 |\n|  9 | 10 | 19 |   9 |  8.5 |\n|  9 | 23 | 14 |  -9 |  8.5 |\n| 11 | 15 |  4 | -11 | 10.0 |\n| 12 | 24 | 12 | -12 | 11.5 |\n| 12 | 21 |  9 | -12 | 11.5 |\n| 13 | 15 |  2 | -13 | 13.0 |\n| 17 | 25 |  8 | -17 | 15.0 |\n| 17 | 29 | 12 | -17 | 15.0 |\n| 17 | 28 | 11 | -17 | 15.0 |\n| 21 | 36 | 15 | -21 | 17.0 |\n| 22 | 22 |  0 | -22 | 18.0 |\n| 23 | 39 | 16 | -23 | 19.5 |\n| 23 | 41 | 18 | -23 | 19.5 |\n| 24 | 24 |  0 | -24 | 21.5 |\n| 24 | 40 | 16 | -24 | 21.5 |\n| 29 | 39 | 10 | -29 | 24.0 |\n| 29 | 46 | 17 | -29 | 24.0 |\n| 29 | 31 |  2 | -29 | 24.0 |\n| 32 | 52 | 20 | -32 | 26.0 |\n| 33 | 50 | 17 | -33 | 27.0 |\n| 35 | 48 | 13 | -35 | 28.0 |\n| 36 | 52 | 16 | -36 | 29.0 |\n| 37 | 37 |  0 | -37 | 30.0 |\n| 40 | 49 |  9 | -40 | 31.5 |\n| 40 | 49 |  9 | -40 | 31.5 |\n| 43 | 49 |  6 | -43 | 33.0 |\n| 50 | 50 |  0 | -50 | 34.0 |\n| 51 | 55 |  4 | -51 | 35.0 |\n\n",
            "text/latex": "A data.frame: 35 × 5\n\\begin{tabular}{lllll}\n \\textbar{}Dif\\textbar{} & Antes & Depois & Dif & Posto\\\\\n <dbl> & <dbl> & <dbl> & <dbl> & <dbl>\\\\\n\\hline\n\t  1 & 13 & 14 &   1 &  1.5\\\\\n\t  1 & 17 & 16 &  -1 &  1.5\\\\\n\t  2 & 17 & 19 &   2 &  3.0\\\\\n\t  4 & 12 & 16 &   4 &  4.5\\\\\n\t  4 & 14 & 18 &   4 &  4.5\\\\\n\t  5 & 22 & 17 &  -5 &  6.0\\\\\n\t  8 & 21 & 13 &  -8 &  7.0\\\\\n\t  9 & 10 & 19 &   9 &  8.5\\\\\n\t  9 & 23 & 14 &  -9 &  8.5\\\\\n\t 11 & 15 &  4 & -11 & 10.0\\\\\n\t 12 & 24 & 12 & -12 & 11.5\\\\\n\t 12 & 21 &  9 & -12 & 11.5\\\\\n\t 13 & 15 &  2 & -13 & 13.0\\\\\n\t 17 & 25 &  8 & -17 & 15.0\\\\\n\t 17 & 29 & 12 & -17 & 15.0\\\\\n\t 17 & 28 & 11 & -17 & 15.0\\\\\n\t 21 & 36 & 15 & -21 & 17.0\\\\\n\t 22 & 22 &  0 & -22 & 18.0\\\\\n\t 23 & 39 & 16 & -23 & 19.5\\\\\n\t 23 & 41 & 18 & -23 & 19.5\\\\\n\t 24 & 24 &  0 & -24 & 21.5\\\\\n\t 24 & 40 & 16 & -24 & 21.5\\\\\n\t 29 & 39 & 10 & -29 & 24.0\\\\\n\t 29 & 46 & 17 & -29 & 24.0\\\\\n\t 29 & 31 &  2 & -29 & 24.0\\\\\n\t 32 & 52 & 20 & -32 & 26.0\\\\\n\t 33 & 50 & 17 & -33 & 27.0\\\\\n\t 35 & 48 & 13 & -35 & 28.0\\\\\n\t 36 & 52 & 16 & -36 & 29.0\\\\\n\t 37 & 37 &  0 & -37 & 30.0\\\\\n\t 40 & 49 &  9 & -40 & 31.5\\\\\n\t 40 & 49 &  9 & -40 & 31.5\\\\\n\t 43 & 49 &  6 & -43 & 33.0\\\\\n\t 50 & 50 &  0 & -50 & 34.0\\\\\n\t 51 & 55 &  4 & -51 & 35.0\\\\\n\\end{tabular}\n",
            "text/plain": "   |Dif| Antes Depois Dif Posto\n1   1    13    14       1  1.5 \n2   1    17    16      -1  1.5 \n3   2    17    19       2  3.0 \n4   4    12    16       4  4.5 \n5   4    14    18       4  4.5 \n6   5    22    17      -5  6.0 \n7   8    21    13      -8  7.0 \n8   9    10    19       9  8.5 \n9   9    23    14      -9  8.5 \n10 11    15     4     -11 10.0 \n11 12    24    12     -12 11.5 \n12 12    21     9     -12 11.5 \n13 13    15     2     -13 13.0 \n14 17    25     8     -17 15.0 \n15 17    29    12     -17 15.0 \n16 17    28    11     -17 15.0 \n17 21    36    15     -21 17.0 \n18 22    22     0     -22 18.0 \n19 23    39    16     -23 19.5 \n20 23    41    18     -23 19.5 \n21 24    24     0     -24 21.5 \n22 24    40    16     -24 21.5 \n23 29    39    10     -29 24.0 \n24 29    46    17     -29 24.0 \n25 29    31     2     -29 24.0 \n26 32    52    20     -32 26.0 \n27 33    50    17     -33 27.0 \n28 35    48    13     -35 28.0 \n29 36    52    16     -36 29.0 \n30 37    37     0     -37 30.0 \n31 40    49     9     -40 31.5 \n32 40    49     9     -40 31.5 \n33 43    49     6     -43 33.0 \n34 50    50     0     -50 34.0 \n35 51    55     4     -51 35.0 "
          },
          "metadata": {}
        }
      ]
    },
    {
      "cell_type": "code",
      "source": [
        "fumo['Posto (+)'] <- apply(fumo[, c('Dif', 'Posto')], 1, function(x) if(x[1] > 0) x[2] else 0)\n",
        "fumo"
      ],
      "metadata": {
        "scrolled": true,
        "execution": {
          "iopub.status.busy": "2024-07-31T20:06:27.972348Z",
          "iopub.execute_input": "2024-07-31T20:06:27.973971Z",
          "iopub.status.idle": "2024-07-31T20:06:28.024055Z"
        },
        "trusted": true,
        "id": "iY56UV1T5Zb0",
        "outputId": "04150402-430c-49d6-c82d-6bf8bec8e01e"
      },
      "execution_count": null,
      "outputs": [
        {
          "output_type": "display_data",
          "data": {
            "text/html": "<table class=\"dataframe\">\n<caption>A data.frame: 35 × 6</caption>\n<thead>\n\t<tr><th scope=col>|Dif|</th><th scope=col>Antes</th><th scope=col>Depois</th><th scope=col>Dif</th><th scope=col>Posto</th><th scope=col>Posto (+)</th></tr>\n\t<tr><th scope=col>&lt;dbl&gt;</th><th scope=col>&lt;dbl&gt;</th><th scope=col>&lt;dbl&gt;</th><th scope=col>&lt;dbl&gt;</th><th scope=col>&lt;dbl&gt;</th><th scope=col>&lt;dbl&gt;</th></tr>\n</thead>\n<tbody>\n\t<tr><td> 1</td><td>13</td><td>14</td><td>  1</td><td> 1.5</td><td>1.5</td></tr>\n\t<tr><td> 1</td><td>17</td><td>16</td><td> -1</td><td> 1.5</td><td>0.0</td></tr>\n\t<tr><td> 2</td><td>17</td><td>19</td><td>  2</td><td> 3.0</td><td>3.0</td></tr>\n\t<tr><td> 4</td><td>12</td><td>16</td><td>  4</td><td> 4.5</td><td>4.5</td></tr>\n\t<tr><td> 4</td><td>14</td><td>18</td><td>  4</td><td> 4.5</td><td>4.5</td></tr>\n\t<tr><td> 5</td><td>22</td><td>17</td><td> -5</td><td> 6.0</td><td>0.0</td></tr>\n\t<tr><td> 8</td><td>21</td><td>13</td><td> -8</td><td> 7.0</td><td>0.0</td></tr>\n\t<tr><td> 9</td><td>10</td><td>19</td><td>  9</td><td> 8.5</td><td>8.5</td></tr>\n\t<tr><td> 9</td><td>23</td><td>14</td><td> -9</td><td> 8.5</td><td>0.0</td></tr>\n\t<tr><td>11</td><td>15</td><td> 4</td><td>-11</td><td>10.0</td><td>0.0</td></tr>\n\t<tr><td>12</td><td>24</td><td>12</td><td>-12</td><td>11.5</td><td>0.0</td></tr>\n\t<tr><td>12</td><td>21</td><td> 9</td><td>-12</td><td>11.5</td><td>0.0</td></tr>\n\t<tr><td>13</td><td>15</td><td> 2</td><td>-13</td><td>13.0</td><td>0.0</td></tr>\n\t<tr><td>17</td><td>25</td><td> 8</td><td>-17</td><td>15.0</td><td>0.0</td></tr>\n\t<tr><td>17</td><td>29</td><td>12</td><td>-17</td><td>15.0</td><td>0.0</td></tr>\n\t<tr><td>17</td><td>28</td><td>11</td><td>-17</td><td>15.0</td><td>0.0</td></tr>\n\t<tr><td>21</td><td>36</td><td>15</td><td>-21</td><td>17.0</td><td>0.0</td></tr>\n\t<tr><td>22</td><td>22</td><td> 0</td><td>-22</td><td>18.0</td><td>0.0</td></tr>\n\t<tr><td>23</td><td>39</td><td>16</td><td>-23</td><td>19.5</td><td>0.0</td></tr>\n\t<tr><td>23</td><td>41</td><td>18</td><td>-23</td><td>19.5</td><td>0.0</td></tr>\n\t<tr><td>24</td><td>24</td><td> 0</td><td>-24</td><td>21.5</td><td>0.0</td></tr>\n\t<tr><td>24</td><td>40</td><td>16</td><td>-24</td><td>21.5</td><td>0.0</td></tr>\n\t<tr><td>29</td><td>39</td><td>10</td><td>-29</td><td>24.0</td><td>0.0</td></tr>\n\t<tr><td>29</td><td>46</td><td>17</td><td>-29</td><td>24.0</td><td>0.0</td></tr>\n\t<tr><td>29</td><td>31</td><td> 2</td><td>-29</td><td>24.0</td><td>0.0</td></tr>\n\t<tr><td>32</td><td>52</td><td>20</td><td>-32</td><td>26.0</td><td>0.0</td></tr>\n\t<tr><td>33</td><td>50</td><td>17</td><td>-33</td><td>27.0</td><td>0.0</td></tr>\n\t<tr><td>35</td><td>48</td><td>13</td><td>-35</td><td>28.0</td><td>0.0</td></tr>\n\t<tr><td>36</td><td>52</td><td>16</td><td>-36</td><td>29.0</td><td>0.0</td></tr>\n\t<tr><td>37</td><td>37</td><td> 0</td><td>-37</td><td>30.0</td><td>0.0</td></tr>\n\t<tr><td>40</td><td>49</td><td> 9</td><td>-40</td><td>31.5</td><td>0.0</td></tr>\n\t<tr><td>40</td><td>49</td><td> 9</td><td>-40</td><td>31.5</td><td>0.0</td></tr>\n\t<tr><td>43</td><td>49</td><td> 6</td><td>-43</td><td>33.0</td><td>0.0</td></tr>\n\t<tr><td>50</td><td>50</td><td> 0</td><td>-50</td><td>34.0</td><td>0.0</td></tr>\n\t<tr><td>51</td><td>55</td><td> 4</td><td>-51</td><td>35.0</td><td>0.0</td></tr>\n</tbody>\n</table>\n",
            "text/markdown": "\nA data.frame: 35 × 6\n\n| |Dif| &lt;dbl&gt; | Antes &lt;dbl&gt; | Depois &lt;dbl&gt; | Dif &lt;dbl&gt; | Posto &lt;dbl&gt; | Posto (+) &lt;dbl&gt; |\n|---|---|---|---|---|---|\n|  1 | 13 | 14 |   1 |  1.5 | 1.5 |\n|  1 | 17 | 16 |  -1 |  1.5 | 0.0 |\n|  2 | 17 | 19 |   2 |  3.0 | 3.0 |\n|  4 | 12 | 16 |   4 |  4.5 | 4.5 |\n|  4 | 14 | 18 |   4 |  4.5 | 4.5 |\n|  5 | 22 | 17 |  -5 |  6.0 | 0.0 |\n|  8 | 21 | 13 |  -8 |  7.0 | 0.0 |\n|  9 | 10 | 19 |   9 |  8.5 | 8.5 |\n|  9 | 23 | 14 |  -9 |  8.5 | 0.0 |\n| 11 | 15 |  4 | -11 | 10.0 | 0.0 |\n| 12 | 24 | 12 | -12 | 11.5 | 0.0 |\n| 12 | 21 |  9 | -12 | 11.5 | 0.0 |\n| 13 | 15 |  2 | -13 | 13.0 | 0.0 |\n| 17 | 25 |  8 | -17 | 15.0 | 0.0 |\n| 17 | 29 | 12 | -17 | 15.0 | 0.0 |\n| 17 | 28 | 11 | -17 | 15.0 | 0.0 |\n| 21 | 36 | 15 | -21 | 17.0 | 0.0 |\n| 22 | 22 |  0 | -22 | 18.0 | 0.0 |\n| 23 | 39 | 16 | -23 | 19.5 | 0.0 |\n| 23 | 41 | 18 | -23 | 19.5 | 0.0 |\n| 24 | 24 |  0 | -24 | 21.5 | 0.0 |\n| 24 | 40 | 16 | -24 | 21.5 | 0.0 |\n| 29 | 39 | 10 | -29 | 24.0 | 0.0 |\n| 29 | 46 | 17 | -29 | 24.0 | 0.0 |\n| 29 | 31 |  2 | -29 | 24.0 | 0.0 |\n| 32 | 52 | 20 | -32 | 26.0 | 0.0 |\n| 33 | 50 | 17 | -33 | 27.0 | 0.0 |\n| 35 | 48 | 13 | -35 | 28.0 | 0.0 |\n| 36 | 52 | 16 | -36 | 29.0 | 0.0 |\n| 37 | 37 |  0 | -37 | 30.0 | 0.0 |\n| 40 | 49 |  9 | -40 | 31.5 | 0.0 |\n| 40 | 49 |  9 | -40 | 31.5 | 0.0 |\n| 43 | 49 |  6 | -43 | 33.0 | 0.0 |\n| 50 | 50 |  0 | -50 | 34.0 | 0.0 |\n| 51 | 55 |  4 | -51 | 35.0 | 0.0 |\n\n",
            "text/latex": "A data.frame: 35 × 6\n\\begin{tabular}{llllll}\n \\textbar{}Dif\\textbar{} & Antes & Depois & Dif & Posto & Posto (+)\\\\\n <dbl> & <dbl> & <dbl> & <dbl> & <dbl> & <dbl>\\\\\n\\hline\n\t  1 & 13 & 14 &   1 &  1.5 & 1.5\\\\\n\t  1 & 17 & 16 &  -1 &  1.5 & 0.0\\\\\n\t  2 & 17 & 19 &   2 &  3.0 & 3.0\\\\\n\t  4 & 12 & 16 &   4 &  4.5 & 4.5\\\\\n\t  4 & 14 & 18 &   4 &  4.5 & 4.5\\\\\n\t  5 & 22 & 17 &  -5 &  6.0 & 0.0\\\\\n\t  8 & 21 & 13 &  -8 &  7.0 & 0.0\\\\\n\t  9 & 10 & 19 &   9 &  8.5 & 8.5\\\\\n\t  9 & 23 & 14 &  -9 &  8.5 & 0.0\\\\\n\t 11 & 15 &  4 & -11 & 10.0 & 0.0\\\\\n\t 12 & 24 & 12 & -12 & 11.5 & 0.0\\\\\n\t 12 & 21 &  9 & -12 & 11.5 & 0.0\\\\\n\t 13 & 15 &  2 & -13 & 13.0 & 0.0\\\\\n\t 17 & 25 &  8 & -17 & 15.0 & 0.0\\\\\n\t 17 & 29 & 12 & -17 & 15.0 & 0.0\\\\\n\t 17 & 28 & 11 & -17 & 15.0 & 0.0\\\\\n\t 21 & 36 & 15 & -21 & 17.0 & 0.0\\\\\n\t 22 & 22 &  0 & -22 & 18.0 & 0.0\\\\\n\t 23 & 39 & 16 & -23 & 19.5 & 0.0\\\\\n\t 23 & 41 & 18 & -23 & 19.5 & 0.0\\\\\n\t 24 & 24 &  0 & -24 & 21.5 & 0.0\\\\\n\t 24 & 40 & 16 & -24 & 21.5 & 0.0\\\\\n\t 29 & 39 & 10 & -29 & 24.0 & 0.0\\\\\n\t 29 & 46 & 17 & -29 & 24.0 & 0.0\\\\\n\t 29 & 31 &  2 & -29 & 24.0 & 0.0\\\\\n\t 32 & 52 & 20 & -32 & 26.0 & 0.0\\\\\n\t 33 & 50 & 17 & -33 & 27.0 & 0.0\\\\\n\t 35 & 48 & 13 & -35 & 28.0 & 0.0\\\\\n\t 36 & 52 & 16 & -36 & 29.0 & 0.0\\\\\n\t 37 & 37 &  0 & -37 & 30.0 & 0.0\\\\\n\t 40 & 49 &  9 & -40 & 31.5 & 0.0\\\\\n\t 40 & 49 &  9 & -40 & 31.5 & 0.0\\\\\n\t 43 & 49 &  6 & -43 & 33.0 & 0.0\\\\\n\t 50 & 50 &  0 & -50 & 34.0 & 0.0\\\\\n\t 51 & 55 &  4 & -51 & 35.0 & 0.0\\\\\n\\end{tabular}\n",
            "text/plain": "   |Dif| Antes Depois Dif Posto Posto (+)\n1   1    13    14       1  1.5  1.5      \n2   1    17    16      -1  1.5  0.0      \n3   2    17    19       2  3.0  3.0      \n4   4    12    16       4  4.5  4.5      \n5   4    14    18       4  4.5  4.5      \n6   5    22    17      -5  6.0  0.0      \n7   8    21    13      -8  7.0  0.0      \n8   9    10    19       9  8.5  8.5      \n9   9    23    14      -9  8.5  0.0      \n10 11    15     4     -11 10.0  0.0      \n11 12    24    12     -12 11.5  0.0      \n12 12    21     9     -12 11.5  0.0      \n13 13    15     2     -13 13.0  0.0      \n14 17    25     8     -17 15.0  0.0      \n15 17    29    12     -17 15.0  0.0      \n16 17    28    11     -17 15.0  0.0      \n17 21    36    15     -21 17.0  0.0      \n18 22    22     0     -22 18.0  0.0      \n19 23    39    16     -23 19.5  0.0      \n20 23    41    18     -23 19.5  0.0      \n21 24    24     0     -24 21.5  0.0      \n22 24    40    16     -24 21.5  0.0      \n23 29    39    10     -29 24.0  0.0      \n24 29    46    17     -29 24.0  0.0      \n25 29    31     2     -29 24.0  0.0      \n26 32    52    20     -32 26.0  0.0      \n27 33    50    17     -33 27.0  0.0      \n28 35    48    13     -35 28.0  0.0      \n29 36    52    16     -36 29.0  0.0      \n30 37    37     0     -37 30.0  0.0      \n31 40    49     9     -40 31.5  0.0      \n32 40    49     9     -40 31.5  0.0      \n33 43    49     6     -43 33.0  0.0      \n34 50    50     0     -50 34.0  0.0      \n35 51    55     4     -51 35.0  0.0      "
          },
          "metadata": {}
        }
      ]
    },
    {
      "cell_type": "code",
      "source": [
        "fumo['Posto (-)'] <- apply(fumo[, c('Dif', 'Posto')], 1, function(x) if(x[1] < 0) x[2] else 0)\n",
        "fumo"
      ],
      "metadata": {
        "scrolled": true,
        "execution": {
          "iopub.status.busy": "2024-07-31T20:06:28.027417Z",
          "iopub.execute_input": "2024-07-31T20:06:28.029065Z",
          "iopub.status.idle": "2024-07-31T20:06:28.091301Z"
        },
        "trusted": true,
        "id": "24mEb83p5Zb1",
        "outputId": "5fff83d4-469e-4057-813f-bd0dd1c9e7a6"
      },
      "execution_count": null,
      "outputs": [
        {
          "output_type": "display_data",
          "data": {
            "text/html": "<table class=\"dataframe\">\n<caption>A data.frame: 35 × 7</caption>\n<thead>\n\t<tr><th scope=col>|Dif|</th><th scope=col>Antes</th><th scope=col>Depois</th><th scope=col>Dif</th><th scope=col>Posto</th><th scope=col>Posto (+)</th><th scope=col>Posto (-)</th></tr>\n\t<tr><th scope=col>&lt;dbl&gt;</th><th scope=col>&lt;dbl&gt;</th><th scope=col>&lt;dbl&gt;</th><th scope=col>&lt;dbl&gt;</th><th scope=col>&lt;dbl&gt;</th><th scope=col>&lt;dbl&gt;</th><th scope=col>&lt;dbl&gt;</th></tr>\n</thead>\n<tbody>\n\t<tr><td> 1</td><td>13</td><td>14</td><td>  1</td><td> 1.5</td><td>1.5</td><td> 0.0</td></tr>\n\t<tr><td> 1</td><td>17</td><td>16</td><td> -1</td><td> 1.5</td><td>0.0</td><td> 1.5</td></tr>\n\t<tr><td> 2</td><td>17</td><td>19</td><td>  2</td><td> 3.0</td><td>3.0</td><td> 0.0</td></tr>\n\t<tr><td> 4</td><td>12</td><td>16</td><td>  4</td><td> 4.5</td><td>4.5</td><td> 0.0</td></tr>\n\t<tr><td> 4</td><td>14</td><td>18</td><td>  4</td><td> 4.5</td><td>4.5</td><td> 0.0</td></tr>\n\t<tr><td> 5</td><td>22</td><td>17</td><td> -5</td><td> 6.0</td><td>0.0</td><td> 6.0</td></tr>\n\t<tr><td> 8</td><td>21</td><td>13</td><td> -8</td><td> 7.0</td><td>0.0</td><td> 7.0</td></tr>\n\t<tr><td> 9</td><td>10</td><td>19</td><td>  9</td><td> 8.5</td><td>8.5</td><td> 0.0</td></tr>\n\t<tr><td> 9</td><td>23</td><td>14</td><td> -9</td><td> 8.5</td><td>0.0</td><td> 8.5</td></tr>\n\t<tr><td>11</td><td>15</td><td> 4</td><td>-11</td><td>10.0</td><td>0.0</td><td>10.0</td></tr>\n\t<tr><td>12</td><td>24</td><td>12</td><td>-12</td><td>11.5</td><td>0.0</td><td>11.5</td></tr>\n\t<tr><td>12</td><td>21</td><td> 9</td><td>-12</td><td>11.5</td><td>0.0</td><td>11.5</td></tr>\n\t<tr><td>13</td><td>15</td><td> 2</td><td>-13</td><td>13.0</td><td>0.0</td><td>13.0</td></tr>\n\t<tr><td>17</td><td>25</td><td> 8</td><td>-17</td><td>15.0</td><td>0.0</td><td>15.0</td></tr>\n\t<tr><td>17</td><td>29</td><td>12</td><td>-17</td><td>15.0</td><td>0.0</td><td>15.0</td></tr>\n\t<tr><td>17</td><td>28</td><td>11</td><td>-17</td><td>15.0</td><td>0.0</td><td>15.0</td></tr>\n\t<tr><td>21</td><td>36</td><td>15</td><td>-21</td><td>17.0</td><td>0.0</td><td>17.0</td></tr>\n\t<tr><td>22</td><td>22</td><td> 0</td><td>-22</td><td>18.0</td><td>0.0</td><td>18.0</td></tr>\n\t<tr><td>23</td><td>39</td><td>16</td><td>-23</td><td>19.5</td><td>0.0</td><td>19.5</td></tr>\n\t<tr><td>23</td><td>41</td><td>18</td><td>-23</td><td>19.5</td><td>0.0</td><td>19.5</td></tr>\n\t<tr><td>24</td><td>24</td><td> 0</td><td>-24</td><td>21.5</td><td>0.0</td><td>21.5</td></tr>\n\t<tr><td>24</td><td>40</td><td>16</td><td>-24</td><td>21.5</td><td>0.0</td><td>21.5</td></tr>\n\t<tr><td>29</td><td>39</td><td>10</td><td>-29</td><td>24.0</td><td>0.0</td><td>24.0</td></tr>\n\t<tr><td>29</td><td>46</td><td>17</td><td>-29</td><td>24.0</td><td>0.0</td><td>24.0</td></tr>\n\t<tr><td>29</td><td>31</td><td> 2</td><td>-29</td><td>24.0</td><td>0.0</td><td>24.0</td></tr>\n\t<tr><td>32</td><td>52</td><td>20</td><td>-32</td><td>26.0</td><td>0.0</td><td>26.0</td></tr>\n\t<tr><td>33</td><td>50</td><td>17</td><td>-33</td><td>27.0</td><td>0.0</td><td>27.0</td></tr>\n\t<tr><td>35</td><td>48</td><td>13</td><td>-35</td><td>28.0</td><td>0.0</td><td>28.0</td></tr>\n\t<tr><td>36</td><td>52</td><td>16</td><td>-36</td><td>29.0</td><td>0.0</td><td>29.0</td></tr>\n\t<tr><td>37</td><td>37</td><td> 0</td><td>-37</td><td>30.0</td><td>0.0</td><td>30.0</td></tr>\n\t<tr><td>40</td><td>49</td><td> 9</td><td>-40</td><td>31.5</td><td>0.0</td><td>31.5</td></tr>\n\t<tr><td>40</td><td>49</td><td> 9</td><td>-40</td><td>31.5</td><td>0.0</td><td>31.5</td></tr>\n\t<tr><td>43</td><td>49</td><td> 6</td><td>-43</td><td>33.0</td><td>0.0</td><td>33.0</td></tr>\n\t<tr><td>50</td><td>50</td><td> 0</td><td>-50</td><td>34.0</td><td>0.0</td><td>34.0</td></tr>\n\t<tr><td>51</td><td>55</td><td> 4</td><td>-51</td><td>35.0</td><td>0.0</td><td>35.0</td></tr>\n</tbody>\n</table>\n",
            "text/markdown": "\nA data.frame: 35 × 7\n\n| |Dif| &lt;dbl&gt; | Antes &lt;dbl&gt; | Depois &lt;dbl&gt; | Dif &lt;dbl&gt; | Posto &lt;dbl&gt; | Posto (+) &lt;dbl&gt; | Posto (-) &lt;dbl&gt; |\n|---|---|---|---|---|---|---|\n|  1 | 13 | 14 |   1 |  1.5 | 1.5 |  0.0 |\n|  1 | 17 | 16 |  -1 |  1.5 | 0.0 |  1.5 |\n|  2 | 17 | 19 |   2 |  3.0 | 3.0 |  0.0 |\n|  4 | 12 | 16 |   4 |  4.5 | 4.5 |  0.0 |\n|  4 | 14 | 18 |   4 |  4.5 | 4.5 |  0.0 |\n|  5 | 22 | 17 |  -5 |  6.0 | 0.0 |  6.0 |\n|  8 | 21 | 13 |  -8 |  7.0 | 0.0 |  7.0 |\n|  9 | 10 | 19 |   9 |  8.5 | 8.5 |  0.0 |\n|  9 | 23 | 14 |  -9 |  8.5 | 0.0 |  8.5 |\n| 11 | 15 |  4 | -11 | 10.0 | 0.0 | 10.0 |\n| 12 | 24 | 12 | -12 | 11.5 | 0.0 | 11.5 |\n| 12 | 21 |  9 | -12 | 11.5 | 0.0 | 11.5 |\n| 13 | 15 |  2 | -13 | 13.0 | 0.0 | 13.0 |\n| 17 | 25 |  8 | -17 | 15.0 | 0.0 | 15.0 |\n| 17 | 29 | 12 | -17 | 15.0 | 0.0 | 15.0 |\n| 17 | 28 | 11 | -17 | 15.0 | 0.0 | 15.0 |\n| 21 | 36 | 15 | -21 | 17.0 | 0.0 | 17.0 |\n| 22 | 22 |  0 | -22 | 18.0 | 0.0 | 18.0 |\n| 23 | 39 | 16 | -23 | 19.5 | 0.0 | 19.5 |\n| 23 | 41 | 18 | -23 | 19.5 | 0.0 | 19.5 |\n| 24 | 24 |  0 | -24 | 21.5 | 0.0 | 21.5 |\n| 24 | 40 | 16 | -24 | 21.5 | 0.0 | 21.5 |\n| 29 | 39 | 10 | -29 | 24.0 | 0.0 | 24.0 |\n| 29 | 46 | 17 | -29 | 24.0 | 0.0 | 24.0 |\n| 29 | 31 |  2 | -29 | 24.0 | 0.0 | 24.0 |\n| 32 | 52 | 20 | -32 | 26.0 | 0.0 | 26.0 |\n| 33 | 50 | 17 | -33 | 27.0 | 0.0 | 27.0 |\n| 35 | 48 | 13 | -35 | 28.0 | 0.0 | 28.0 |\n| 36 | 52 | 16 | -36 | 29.0 | 0.0 | 29.0 |\n| 37 | 37 |  0 | -37 | 30.0 | 0.0 | 30.0 |\n| 40 | 49 |  9 | -40 | 31.5 | 0.0 | 31.5 |\n| 40 | 49 |  9 | -40 | 31.5 | 0.0 | 31.5 |\n| 43 | 49 |  6 | -43 | 33.0 | 0.0 | 33.0 |\n| 50 | 50 |  0 | -50 | 34.0 | 0.0 | 34.0 |\n| 51 | 55 |  4 | -51 | 35.0 | 0.0 | 35.0 |\n\n",
            "text/latex": "A data.frame: 35 × 7\n\\begin{tabular}{lllllll}\n \\textbar{}Dif\\textbar{} & Antes & Depois & Dif & Posto & Posto (+) & Posto (-)\\\\\n <dbl> & <dbl> & <dbl> & <dbl> & <dbl> & <dbl> & <dbl>\\\\\n\\hline\n\t  1 & 13 & 14 &   1 &  1.5 & 1.5 &  0.0\\\\\n\t  1 & 17 & 16 &  -1 &  1.5 & 0.0 &  1.5\\\\\n\t  2 & 17 & 19 &   2 &  3.0 & 3.0 &  0.0\\\\\n\t  4 & 12 & 16 &   4 &  4.5 & 4.5 &  0.0\\\\\n\t  4 & 14 & 18 &   4 &  4.5 & 4.5 &  0.0\\\\\n\t  5 & 22 & 17 &  -5 &  6.0 & 0.0 &  6.0\\\\\n\t  8 & 21 & 13 &  -8 &  7.0 & 0.0 &  7.0\\\\\n\t  9 & 10 & 19 &   9 &  8.5 & 8.5 &  0.0\\\\\n\t  9 & 23 & 14 &  -9 &  8.5 & 0.0 &  8.5\\\\\n\t 11 & 15 &  4 & -11 & 10.0 & 0.0 & 10.0\\\\\n\t 12 & 24 & 12 & -12 & 11.5 & 0.0 & 11.5\\\\\n\t 12 & 21 &  9 & -12 & 11.5 & 0.0 & 11.5\\\\\n\t 13 & 15 &  2 & -13 & 13.0 & 0.0 & 13.0\\\\\n\t 17 & 25 &  8 & -17 & 15.0 & 0.0 & 15.0\\\\\n\t 17 & 29 & 12 & -17 & 15.0 & 0.0 & 15.0\\\\\n\t 17 & 28 & 11 & -17 & 15.0 & 0.0 & 15.0\\\\\n\t 21 & 36 & 15 & -21 & 17.0 & 0.0 & 17.0\\\\\n\t 22 & 22 &  0 & -22 & 18.0 & 0.0 & 18.0\\\\\n\t 23 & 39 & 16 & -23 & 19.5 & 0.0 & 19.5\\\\\n\t 23 & 41 & 18 & -23 & 19.5 & 0.0 & 19.5\\\\\n\t 24 & 24 &  0 & -24 & 21.5 & 0.0 & 21.5\\\\\n\t 24 & 40 & 16 & -24 & 21.5 & 0.0 & 21.5\\\\\n\t 29 & 39 & 10 & -29 & 24.0 & 0.0 & 24.0\\\\\n\t 29 & 46 & 17 & -29 & 24.0 & 0.0 & 24.0\\\\\n\t 29 & 31 &  2 & -29 & 24.0 & 0.0 & 24.0\\\\\n\t 32 & 52 & 20 & -32 & 26.0 & 0.0 & 26.0\\\\\n\t 33 & 50 & 17 & -33 & 27.0 & 0.0 & 27.0\\\\\n\t 35 & 48 & 13 & -35 & 28.0 & 0.0 & 28.0\\\\\n\t 36 & 52 & 16 & -36 & 29.0 & 0.0 & 29.0\\\\\n\t 37 & 37 &  0 & -37 & 30.0 & 0.0 & 30.0\\\\\n\t 40 & 49 &  9 & -40 & 31.5 & 0.0 & 31.5\\\\\n\t 40 & 49 &  9 & -40 & 31.5 & 0.0 & 31.5\\\\\n\t 43 & 49 &  6 & -43 & 33.0 & 0.0 & 33.0\\\\\n\t 50 & 50 &  0 & -50 & 34.0 & 0.0 & 34.0\\\\\n\t 51 & 55 &  4 & -51 & 35.0 & 0.0 & 35.0\\\\\n\\end{tabular}\n",
            "text/plain": "   |Dif| Antes Depois Dif Posto Posto (+) Posto (-)\n1   1    13    14       1  1.5  1.5        0.0     \n2   1    17    16      -1  1.5  0.0        1.5     \n3   2    17    19       2  3.0  3.0        0.0     \n4   4    12    16       4  4.5  4.5        0.0     \n5   4    14    18       4  4.5  4.5        0.0     \n6   5    22    17      -5  6.0  0.0        6.0     \n7   8    21    13      -8  7.0  0.0        7.0     \n8   9    10    19       9  8.5  8.5        0.0     \n9   9    23    14      -9  8.5  0.0        8.5     \n10 11    15     4     -11 10.0  0.0       10.0     \n11 12    24    12     -12 11.5  0.0       11.5     \n12 12    21     9     -12 11.5  0.0       11.5     \n13 13    15     2     -13 13.0  0.0       13.0     \n14 17    25     8     -17 15.0  0.0       15.0     \n15 17    29    12     -17 15.0  0.0       15.0     \n16 17    28    11     -17 15.0  0.0       15.0     \n17 21    36    15     -21 17.0  0.0       17.0     \n18 22    22     0     -22 18.0  0.0       18.0     \n19 23    39    16     -23 19.5  0.0       19.5     \n20 23    41    18     -23 19.5  0.0       19.5     \n21 24    24     0     -24 21.5  0.0       21.5     \n22 24    40    16     -24 21.5  0.0       21.5     \n23 29    39    10     -29 24.0  0.0       24.0     \n24 29    46    17     -29 24.0  0.0       24.0     \n25 29    31     2     -29 24.0  0.0       24.0     \n26 32    52    20     -32 26.0  0.0       26.0     \n27 33    50    17     -33 27.0  0.0       27.0     \n28 35    48    13     -35 28.0  0.0       28.0     \n29 36    52    16     -36 29.0  0.0       29.0     \n30 37    37     0     -37 30.0  0.0       30.0     \n31 40    49     9     -40 31.5  0.0       31.5     \n32 40    49     9     -40 31.5  0.0       31.5     \n33 43    49     6     -43 33.0  0.0       33.0     \n34 50    50     0     -50 34.0  0.0       34.0     \n35 51    55     4     -51 35.0  0.0       35.0     "
          },
          "metadata": {}
        }
      ]
    },
    {
      "cell_type": "code",
      "source": [
        "fumo$Posto <- NULL\n",
        "fumo"
      ],
      "metadata": {
        "colab": {
          "base_uri": "https://localhost:8080/",
          "height": 1134
        },
        "id": "R2Nyk4E_os77",
        "outputId": "e22a2377-88b8-4b5b-e901-ddd8b04cab75",
        "scrolled": true,
        "execution": {
          "iopub.status.busy": "2024-07-31T20:06:28.094990Z",
          "iopub.execute_input": "2024-07-31T20:06:28.096741Z",
          "iopub.status.idle": "2024-07-31T20:06:28.145667Z"
        },
        "trusted": true
      },
      "execution_count": null,
      "outputs": [
        {
          "output_type": "display_data",
          "data": {
            "text/html": "<table class=\"dataframe\">\n<caption>A data.frame: 35 × 6</caption>\n<thead>\n\t<tr><th scope=col>|Dif|</th><th scope=col>Antes</th><th scope=col>Depois</th><th scope=col>Dif</th><th scope=col>Posto (+)</th><th scope=col>Posto (-)</th></tr>\n\t<tr><th scope=col>&lt;dbl&gt;</th><th scope=col>&lt;dbl&gt;</th><th scope=col>&lt;dbl&gt;</th><th scope=col>&lt;dbl&gt;</th><th scope=col>&lt;dbl&gt;</th><th scope=col>&lt;dbl&gt;</th></tr>\n</thead>\n<tbody>\n\t<tr><td> 1</td><td>13</td><td>14</td><td>  1</td><td>1.5</td><td> 0.0</td></tr>\n\t<tr><td> 1</td><td>17</td><td>16</td><td> -1</td><td>0.0</td><td> 1.5</td></tr>\n\t<tr><td> 2</td><td>17</td><td>19</td><td>  2</td><td>3.0</td><td> 0.0</td></tr>\n\t<tr><td> 4</td><td>12</td><td>16</td><td>  4</td><td>4.5</td><td> 0.0</td></tr>\n\t<tr><td> 4</td><td>14</td><td>18</td><td>  4</td><td>4.5</td><td> 0.0</td></tr>\n\t<tr><td> 5</td><td>22</td><td>17</td><td> -5</td><td>0.0</td><td> 6.0</td></tr>\n\t<tr><td> 8</td><td>21</td><td>13</td><td> -8</td><td>0.0</td><td> 7.0</td></tr>\n\t<tr><td> 9</td><td>10</td><td>19</td><td>  9</td><td>8.5</td><td> 0.0</td></tr>\n\t<tr><td> 9</td><td>23</td><td>14</td><td> -9</td><td>0.0</td><td> 8.5</td></tr>\n\t<tr><td>11</td><td>15</td><td> 4</td><td>-11</td><td>0.0</td><td>10.0</td></tr>\n\t<tr><td>12</td><td>24</td><td>12</td><td>-12</td><td>0.0</td><td>11.5</td></tr>\n\t<tr><td>12</td><td>21</td><td> 9</td><td>-12</td><td>0.0</td><td>11.5</td></tr>\n\t<tr><td>13</td><td>15</td><td> 2</td><td>-13</td><td>0.0</td><td>13.0</td></tr>\n\t<tr><td>17</td><td>25</td><td> 8</td><td>-17</td><td>0.0</td><td>15.0</td></tr>\n\t<tr><td>17</td><td>29</td><td>12</td><td>-17</td><td>0.0</td><td>15.0</td></tr>\n\t<tr><td>17</td><td>28</td><td>11</td><td>-17</td><td>0.0</td><td>15.0</td></tr>\n\t<tr><td>21</td><td>36</td><td>15</td><td>-21</td><td>0.0</td><td>17.0</td></tr>\n\t<tr><td>22</td><td>22</td><td> 0</td><td>-22</td><td>0.0</td><td>18.0</td></tr>\n\t<tr><td>23</td><td>39</td><td>16</td><td>-23</td><td>0.0</td><td>19.5</td></tr>\n\t<tr><td>23</td><td>41</td><td>18</td><td>-23</td><td>0.0</td><td>19.5</td></tr>\n\t<tr><td>24</td><td>24</td><td> 0</td><td>-24</td><td>0.0</td><td>21.5</td></tr>\n\t<tr><td>24</td><td>40</td><td>16</td><td>-24</td><td>0.0</td><td>21.5</td></tr>\n\t<tr><td>29</td><td>39</td><td>10</td><td>-29</td><td>0.0</td><td>24.0</td></tr>\n\t<tr><td>29</td><td>46</td><td>17</td><td>-29</td><td>0.0</td><td>24.0</td></tr>\n\t<tr><td>29</td><td>31</td><td> 2</td><td>-29</td><td>0.0</td><td>24.0</td></tr>\n\t<tr><td>32</td><td>52</td><td>20</td><td>-32</td><td>0.0</td><td>26.0</td></tr>\n\t<tr><td>33</td><td>50</td><td>17</td><td>-33</td><td>0.0</td><td>27.0</td></tr>\n\t<tr><td>35</td><td>48</td><td>13</td><td>-35</td><td>0.0</td><td>28.0</td></tr>\n\t<tr><td>36</td><td>52</td><td>16</td><td>-36</td><td>0.0</td><td>29.0</td></tr>\n\t<tr><td>37</td><td>37</td><td> 0</td><td>-37</td><td>0.0</td><td>30.0</td></tr>\n\t<tr><td>40</td><td>49</td><td> 9</td><td>-40</td><td>0.0</td><td>31.5</td></tr>\n\t<tr><td>40</td><td>49</td><td> 9</td><td>-40</td><td>0.0</td><td>31.5</td></tr>\n\t<tr><td>43</td><td>49</td><td> 6</td><td>-43</td><td>0.0</td><td>33.0</td></tr>\n\t<tr><td>50</td><td>50</td><td> 0</td><td>-50</td><td>0.0</td><td>34.0</td></tr>\n\t<tr><td>51</td><td>55</td><td> 4</td><td>-51</td><td>0.0</td><td>35.0</td></tr>\n</tbody>\n</table>\n",
            "text/markdown": "\nA data.frame: 35 × 6\n\n| |Dif| &lt;dbl&gt; | Antes &lt;dbl&gt; | Depois &lt;dbl&gt; | Dif &lt;dbl&gt; | Posto (+) &lt;dbl&gt; | Posto (-) &lt;dbl&gt; |\n|---|---|---|---|---|---|\n|  1 | 13 | 14 |   1 | 1.5 |  0.0 |\n|  1 | 17 | 16 |  -1 | 0.0 |  1.5 |\n|  2 | 17 | 19 |   2 | 3.0 |  0.0 |\n|  4 | 12 | 16 |   4 | 4.5 |  0.0 |\n|  4 | 14 | 18 |   4 | 4.5 |  0.0 |\n|  5 | 22 | 17 |  -5 | 0.0 |  6.0 |\n|  8 | 21 | 13 |  -8 | 0.0 |  7.0 |\n|  9 | 10 | 19 |   9 | 8.5 |  0.0 |\n|  9 | 23 | 14 |  -9 | 0.0 |  8.5 |\n| 11 | 15 |  4 | -11 | 0.0 | 10.0 |\n| 12 | 24 | 12 | -12 | 0.0 | 11.5 |\n| 12 | 21 |  9 | -12 | 0.0 | 11.5 |\n| 13 | 15 |  2 | -13 | 0.0 | 13.0 |\n| 17 | 25 |  8 | -17 | 0.0 | 15.0 |\n| 17 | 29 | 12 | -17 | 0.0 | 15.0 |\n| 17 | 28 | 11 | -17 | 0.0 | 15.0 |\n| 21 | 36 | 15 | -21 | 0.0 | 17.0 |\n| 22 | 22 |  0 | -22 | 0.0 | 18.0 |\n| 23 | 39 | 16 | -23 | 0.0 | 19.5 |\n| 23 | 41 | 18 | -23 | 0.0 | 19.5 |\n| 24 | 24 |  0 | -24 | 0.0 | 21.5 |\n| 24 | 40 | 16 | -24 | 0.0 | 21.5 |\n| 29 | 39 | 10 | -29 | 0.0 | 24.0 |\n| 29 | 46 | 17 | -29 | 0.0 | 24.0 |\n| 29 | 31 |  2 | -29 | 0.0 | 24.0 |\n| 32 | 52 | 20 | -32 | 0.0 | 26.0 |\n| 33 | 50 | 17 | -33 | 0.0 | 27.0 |\n| 35 | 48 | 13 | -35 | 0.0 | 28.0 |\n| 36 | 52 | 16 | -36 | 0.0 | 29.0 |\n| 37 | 37 |  0 | -37 | 0.0 | 30.0 |\n| 40 | 49 |  9 | -40 | 0.0 | 31.5 |\n| 40 | 49 |  9 | -40 | 0.0 | 31.5 |\n| 43 | 49 |  6 | -43 | 0.0 | 33.0 |\n| 50 | 50 |  0 | -50 | 0.0 | 34.0 |\n| 51 | 55 |  4 | -51 | 0.0 | 35.0 |\n\n",
            "text/latex": "A data.frame: 35 × 6\n\\begin{tabular}{llllll}\n \\textbar{}Dif\\textbar{} & Antes & Depois & Dif & Posto (+) & Posto (-)\\\\\n <dbl> & <dbl> & <dbl> & <dbl> & <dbl> & <dbl>\\\\\n\\hline\n\t  1 & 13 & 14 &   1 & 1.5 &  0.0\\\\\n\t  1 & 17 & 16 &  -1 & 0.0 &  1.5\\\\\n\t  2 & 17 & 19 &   2 & 3.0 &  0.0\\\\\n\t  4 & 12 & 16 &   4 & 4.5 &  0.0\\\\\n\t  4 & 14 & 18 &   4 & 4.5 &  0.0\\\\\n\t  5 & 22 & 17 &  -5 & 0.0 &  6.0\\\\\n\t  8 & 21 & 13 &  -8 & 0.0 &  7.0\\\\\n\t  9 & 10 & 19 &   9 & 8.5 &  0.0\\\\\n\t  9 & 23 & 14 &  -9 & 0.0 &  8.5\\\\\n\t 11 & 15 &  4 & -11 & 0.0 & 10.0\\\\\n\t 12 & 24 & 12 & -12 & 0.0 & 11.5\\\\\n\t 12 & 21 &  9 & -12 & 0.0 & 11.5\\\\\n\t 13 & 15 &  2 & -13 & 0.0 & 13.0\\\\\n\t 17 & 25 &  8 & -17 & 0.0 & 15.0\\\\\n\t 17 & 29 & 12 & -17 & 0.0 & 15.0\\\\\n\t 17 & 28 & 11 & -17 & 0.0 & 15.0\\\\\n\t 21 & 36 & 15 & -21 & 0.0 & 17.0\\\\\n\t 22 & 22 &  0 & -22 & 0.0 & 18.0\\\\\n\t 23 & 39 & 16 & -23 & 0.0 & 19.5\\\\\n\t 23 & 41 & 18 & -23 & 0.0 & 19.5\\\\\n\t 24 & 24 &  0 & -24 & 0.0 & 21.5\\\\\n\t 24 & 40 & 16 & -24 & 0.0 & 21.5\\\\\n\t 29 & 39 & 10 & -29 & 0.0 & 24.0\\\\\n\t 29 & 46 & 17 & -29 & 0.0 & 24.0\\\\\n\t 29 & 31 &  2 & -29 & 0.0 & 24.0\\\\\n\t 32 & 52 & 20 & -32 & 0.0 & 26.0\\\\\n\t 33 & 50 & 17 & -33 & 0.0 & 27.0\\\\\n\t 35 & 48 & 13 & -35 & 0.0 & 28.0\\\\\n\t 36 & 52 & 16 & -36 & 0.0 & 29.0\\\\\n\t 37 & 37 &  0 & -37 & 0.0 & 30.0\\\\\n\t 40 & 49 &  9 & -40 & 0.0 & 31.5\\\\\n\t 40 & 49 &  9 & -40 & 0.0 & 31.5\\\\\n\t 43 & 49 &  6 & -43 & 0.0 & 33.0\\\\\n\t 50 & 50 &  0 & -50 & 0.0 & 34.0\\\\\n\t 51 & 55 &  4 & -51 & 0.0 & 35.0\\\\\n\\end{tabular}\n",
            "text/plain": "   |Dif| Antes Depois Dif Posto (+) Posto (-)\n1   1    13    14       1 1.5        0.0     \n2   1    17    16      -1 0.0        1.5     \n3   2    17    19       2 3.0        0.0     \n4   4    12    16       4 4.5        0.0     \n5   4    14    18       4 4.5        0.0     \n6   5    22    17      -5 0.0        6.0     \n7   8    21    13      -8 0.0        7.0     \n8   9    10    19       9 8.5        0.0     \n9   9    23    14      -9 0.0        8.5     \n10 11    15     4     -11 0.0       10.0     \n11 12    24    12     -12 0.0       11.5     \n12 12    21     9     -12 0.0       11.5     \n13 13    15     2     -13 0.0       13.0     \n14 17    25     8     -17 0.0       15.0     \n15 17    29    12     -17 0.0       15.0     \n16 17    28    11     -17 0.0       15.0     \n17 21    36    15     -21 0.0       17.0     \n18 22    22     0     -22 0.0       18.0     \n19 23    39    16     -23 0.0       19.5     \n20 23    41    18     -23 0.0       19.5     \n21 24    24     0     -24 0.0       21.5     \n22 24    40    16     -24 0.0       21.5     \n23 29    39    10     -29 0.0       24.0     \n24 29    46    17     -29 0.0       24.0     \n25 29    31     2     -29 0.0       24.0     \n26 32    52    20     -32 0.0       26.0     \n27 33    50    17     -33 0.0       27.0     \n28 35    48    13     -35 0.0       28.0     \n29 36    52    16     -36 0.0       29.0     \n30 37    37     0     -37 0.0       30.0     \n31 40    49     9     -40 0.0       31.5     \n32 40    49     9     -40 0.0       31.5     \n33 43    49     6     -43 0.0       33.0     \n34 50    50     0     -50 0.0       34.0     \n35 51    55     4     -51 0.0       35.0     "
          },
          "metadata": {}
        }
      ]
    },
    {
      "cell_type": "markdown",
      "source": [
        "### Obter $T$\n",
        "\n",
        "## $T$ = menor das somas de postos de mesmo sinal"
      ],
      "metadata": {
        "id": "QrhSJfAipsmh"
      }
    },
    {
      "cell_type": "code",
      "source": [
        "T <- min( sum( fumo['Posto (+)'] ), sum( fumo['Posto (-)'] ) )\n",
        "T"
      ],
      "metadata": {
        "colab": {
          "base_uri": "https://localhost:8080/",
          "height": 35
        },
        "id": "TTWy-3OQpsmh",
        "outputId": "041d1650-b553-4f7c-f4ce-03284c9f445e",
        "execution": {
          "iopub.status.busy": "2024-07-31T20:06:28.148468Z",
          "iopub.execute_input": "2024-07-31T20:06:28.150108Z",
          "iopub.status.idle": "2024-07-31T20:06:28.167608Z"
        },
        "trusted": true
      },
      "execution_count": null,
      "outputs": [
        {
          "output_type": "display_data",
          "data": {
            "text/html": "22",
            "text/markdown": "22",
            "text/latex": "22",
            "text/plain": "[1] 22"
          },
          "metadata": {}
        }
      ]
    },
    {
      "cell_type": "markdown",
      "source": [
        "### Obter $\\mu_T$\n",
        "\n",
        "# $$\\mu_T = \\frac{n(n+1)}{4}$$\n"
      ],
      "metadata": {
        "id": "3y4Tn1y4psmi"
      }
    },
    {
      "cell_type": "code",
      "source": [
        "mu_T <- ( n * ( n + 1 ) ) / 4\n",
        "mu_T"
      ],
      "metadata": {
        "colab": {
          "base_uri": "https://localhost:8080/",
          "height": 35
        },
        "id": "0KhV5ph6psmi",
        "outputId": "d5a49227-aefe-4ab2-8f96-1575e4d00a68",
        "execution": {
          "iopub.status.busy": "2024-07-31T20:06:28.170381Z",
          "iopub.execute_input": "2024-07-31T20:06:28.171828Z",
          "iopub.status.idle": "2024-07-31T20:06:28.188317Z"
        },
        "trusted": true
      },
      "execution_count": null,
      "outputs": [
        {
          "output_type": "display_data",
          "data": {
            "text/html": "315",
            "text/markdown": "315",
            "text/latex": "315",
            "text/plain": "[1] 315"
          },
          "metadata": {}
        }
      ]
    },
    {
      "cell_type": "markdown",
      "source": [
        "### Obter $\\sigma_T$\n",
        "\n",
        "# $$\\sigma_T = \\sqrt{\\frac{n(n + 1)(2n + 1)}{24}}$$"
      ],
      "metadata": {
        "id": "ZqFb-m08psmj"
      }
    },
    {
      "cell_type": "code",
      "source": [
        "sigma_T <- sqrt( ( n * ( n + 1 ) * ( ( 2 * n ) + 1 ) ) / 24 )\n",
        "sigma_T"
      ],
      "metadata": {
        "colab": {
          "base_uri": "https://localhost:8080/",
          "height": 35
        },
        "id": "c6dypGFSpsmj",
        "outputId": "a56e71d7-cec3-4529-f266-b82315fa8766",
        "execution": {
          "iopub.status.busy": "2024-07-31T20:06:28.191102Z",
          "iopub.execute_input": "2024-07-31T20:06:28.192547Z",
          "iopub.status.idle": "2024-07-31T20:06:28.208939Z"
        },
        "trusted": true
      },
      "execution_count": null,
      "outputs": [
        {
          "output_type": "display_data",
          "data": {
            "text/html": "61.0532554414586",
            "text/markdown": "61.0532554414586",
            "text/latex": "61.0532554414586",
            "text/plain": "[1] 61.05326"
          },
          "metadata": {}
        }
      ]
    },
    {
      "cell_type": "markdown",
      "source": [
        "### Obter $Z_{teste}$\n",
        "\n",
        "# $$Z = \\frac{T - \\mu_T}{\\sigma_T}$$"
      ],
      "metadata": {
        "id": "qEk2CUKApsmk"
      }
    },
    {
      "cell_type": "code",
      "source": [
        "Z <- ( T - mu_T ) / sigma_T\n",
        "Z"
      ],
      "metadata": {
        "colab": {
          "base_uri": "https://localhost:8080/",
          "height": 35
        },
        "id": "KqPQgbBEpsmk",
        "outputId": "fc02c944-b662-4539-a4c4-e91f746358f3",
        "execution": {
          "iopub.status.busy": "2024-07-31T20:06:28.211718Z",
          "iopub.execute_input": "2024-07-31T20:06:28.213187Z",
          "iopub.status.idle": "2024-07-31T20:06:28.229813Z"
        },
        "trusted": true
      },
      "execution_count": null,
      "outputs": [
        {
          "output_type": "display_data",
          "data": {
            "text/html": "-4.7990888918437",
            "text/markdown": "-4.7990888918437",
            "text/latex": "-4.7990888918437",
            "text/plain": "[1] -4.799089"
          },
          "metadata": {}
        }
      ]
    },
    {
      "cell_type": "markdown",
      "source": [
        "![Estatística-Teste](https://caelum-online-public.s3.amazonaws.com/1229-estatistica-parte3/01/img021.png)"
      ],
      "metadata": {
        "id": "iMpU26IZpsmm"
      }
    },
    {
      "cell_type": "markdown",
      "source": [
        "---"
      ],
      "metadata": {
        "id": "XFgoaLzSpsmm"
      }
    },
    {
      "cell_type": "markdown",
      "source": [
        "### **Passo 5** - Aceitação ou rejeição da hipótese nula"
      ],
      "metadata": {
        "id": "YYGhG-lSpsmm"
      }
    },
    {
      "cell_type": "markdown",
      "source": [
        "<img src='https://caelum-online-public.s3.amazonaws.com/1229-estatistica-parte3/01/img022.png' width='80%'>"
      ],
      "metadata": {
        "id": "pDOdx-Vqpsmm"
      }
    },
    {
      "cell_type": "markdown",
      "source": [
        "### <font color='red'>Critério do valor crítico</font>\n",
        "\n",
        "> ### Rejeitar $H_0$ se $Z \\leq -z_{\\alpha / 2}$ ou se $Z \\geq z_{\\alpha / 2}$"
      ],
      "metadata": {
        "id": "ODKOD-rkpsmm"
      }
    },
    {
      "cell_type": "code",
      "source": [
        "Z <= -z_alpha_2"
      ],
      "metadata": {
        "colab": {
          "base_uri": "https://localhost:8080/",
          "height": 35
        },
        "id": "Gmp8dB6Apsmm",
        "outputId": "8311f709-2b10-477c-8410-93d6efbde833",
        "execution": {
          "iopub.status.busy": "2024-07-31T20:06:28.232607Z",
          "iopub.execute_input": "2024-07-31T20:06:28.234131Z",
          "iopub.status.idle": "2024-07-31T20:06:28.248991Z"
        },
        "trusted": true
      },
      "execution_count": null,
      "outputs": [
        {
          "output_type": "display_data",
          "data": {
            "text/html": "TRUE",
            "text/markdown": "TRUE",
            "text/latex": "TRUE",
            "text/plain": "[1] TRUE"
          },
          "metadata": {}
        }
      ]
    },
    {
      "cell_type": "code",
      "source": [
        "Z >= z_alpha_2"
      ],
      "metadata": {
        "colab": {
          "base_uri": "https://localhost:8080/",
          "height": 35
        },
        "id": "E9jxoexkpsmn",
        "outputId": "57165249-f63d-411c-ff87-d25e1e9ee401",
        "execution": {
          "iopub.status.busy": "2024-07-31T20:06:28.251765Z",
          "iopub.execute_input": "2024-07-31T20:06:28.253253Z",
          "iopub.status.idle": "2024-07-31T20:06:28.268483Z"
        },
        "trusted": true
      },
      "execution_count": null,
      "outputs": [
        {
          "output_type": "display_data",
          "data": {
            "text/html": "FALSE",
            "text/markdown": "FALSE",
            "text/latex": "FALSE",
            "text/plain": "[1] FALSE"
          },
          "metadata": {}
        }
      ]
    },
    {
      "cell_type": "markdown",
      "source": [
        "### <font color='green'>Conclusão: Rejeitamos a hipótese de que não existe diferença entre os grupos, isto é, existe uma diferença entre as médias de cigarros fumados pelos pacientes antes e depois do tratamento. E como é possível verificar através das médias de cigarros fumados por dia antes (31.86) e depois (11.2) do tratamento, podemos concluir que o tratamento apresentou resultado satisfatório.</font>"
      ],
      "metadata": {
        "id": "n0gtzn53psmo"
      }
    },
    {
      "cell_type": "markdown",
      "source": [
        "### <font color='red'>Critério do valor $p$</font>\n",
        "\n",
        "> ### Rejeitar $H_0$ se o valor $p\\leq\\alpha$"
      ],
      "metadata": {
        "id": "8bP36mQ-psmp"
      }
    },
    {
      "cell_type": "markdown",
      "source": [
        "#### <font color=red>Documentações:\n",
        "\n",
        "- [**wilcox.test**](https://www.rdocumentation.org/packages/stats/versions/3.6.1/topics/wilcox.test)"
      ],
      "metadata": {
        "id": "H8kFeqh1psmp"
      }
    },
    {
      "cell_type": "code",
      "source": [
        "resultado <- wilcox.test(fumo$Depois, fumo$Antes, paired = T, correct = F)\n",
        "resultado"
      ],
      "metadata": {
        "id": "bgWrxnBmpsmp",
        "execution": {
          "iopub.status.busy": "2024-07-31T20:06:28.271286Z",
          "iopub.execute_input": "2024-07-31T20:06:28.272855Z",
          "iopub.status.idle": "2024-07-31T20:06:28.294916Z"
        },
        "trusted": true,
        "outputId": "51059e10-974b-4515-dc23-07e8f88bb252"
      },
      "execution_count": null,
      "outputs": [
        {
          "name": "stderr",
          "text": "Warning message in wilcox.test.default(fumo$Depois, fumo$Antes, paired = T, correct = F):\n“cannot compute exact p-value with ties”\n",
          "output_type": "stream"
        },
        {
          "output_type": "display_data",
          "data": {
            "text/plain": "\n\tWilcoxon signed rank test\n\ndata:  fumo$Depois and fumo$Antes\nV = 22, p-value = 1.584e-06\nalternative hypothesis: true location shift is not equal to 0\n"
          },
          "metadata": {}
        }
      ]
    },
    {
      "cell_type": "code",
      "source": [
        "p_valor <- resultado$p.value\n",
        "p_valor"
      ],
      "metadata": {
        "execution": {
          "iopub.status.busy": "2024-07-31T20:06:28.297527Z",
          "iopub.execute_input": "2024-07-31T20:06:28.298983Z",
          "iopub.status.idle": "2024-07-31T20:06:28.315563Z"
        },
        "trusted": true,
        "id": "2KBLljys5Zb5",
        "outputId": "2775c5b1-40fa-45f4-be50-c587ac7a6ffa"
      },
      "execution_count": null,
      "outputs": [
        {
          "output_type": "display_data",
          "data": {
            "text/html": "1.58431001850587e-06",
            "text/markdown": "1.58431001850587e-06",
            "text/latex": "1.58431001850587e-06",
            "text/plain": "[1] 1.58431e-06"
          },
          "metadata": {}
        }
      ]
    },
    {
      "cell_type": "code",
      "source": [
        "p_valor <= significancia"
      ],
      "metadata": {
        "colab": {
          "base_uri": "https://localhost:8080/",
          "height": 35
        },
        "id": "Qk13I21vpsmq",
        "outputId": "f111c5d0-c448-40d3-f4ee-f39e7b3a3dc3",
        "scrolled": true,
        "execution": {
          "iopub.status.busy": "2024-07-31T20:06:28.318263Z",
          "iopub.execute_input": "2024-07-31T20:06:28.319768Z",
          "iopub.status.idle": "2024-07-31T20:06:28.334295Z"
        },
        "trusted": true
      },
      "execution_count": null,
      "outputs": [
        {
          "output_type": "display_data",
          "data": {
            "text/html": "TRUE",
            "text/markdown": "TRUE",
            "text/latex": "TRUE",
            "text/plain": "[1] TRUE"
          },
          "metadata": {}
        }
      ]
    }
  ]
}